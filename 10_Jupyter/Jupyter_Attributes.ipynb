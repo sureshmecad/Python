{
 "cells": [
  {
   "cell_type": "raw",
   "metadata": {},
   "source": [
    "1. Headings in Color"
   ]
  },
  {
   "cell_type": "markdown",
   "metadata": {},
   "source": [
    "-------------------------------------------------------------------------------------------------------------------------------"
   ]
  },
  {
   "cell_type": "markdown",
   "metadata": {},
   "source": [
    "<h1 style=\"color:green\" align=\"left\"> 1. Headings in Color </h1>"
   ]
  },
  {
   "cell_type": "raw",
   "metadata": {},
   "source": [
    "<h2 style=\"color:blue\" align=\"left\"> 1. import math / import math as m </h1>\n",
    "\n",
    "<h1 style=\"color:green\" align=\"center\">CAPSTONE : DATA SCIENCE</h1>\n",
    "    \n",
    "<h1 style=\"color:purple\" align=\"center\">PROJECT 02 : Healthcare</h1>\n",
    "    \n",
    "<h2 style=\"color:blue\" align=\"left\">Project Task: Week 1</h2>\n",
    "    \n",
    "<h3 style=\"color:blue\" align=\"right\">Project Task: Week 1</h3>"
   ]
  },
  {
   "cell_type": "markdown",
   "metadata": {},
   "source": [
    "<h2 style=\"color:blue\" align=\"left\"> 1. import math / import math as m </h1>"
   ]
  },
  {
   "cell_type": "markdown",
   "metadata": {},
   "source": [
    "<h1 style=\"color:green\" align=\"center\"> 2.CAPSTONE : DATA SCIENCE</h1>"
   ]
  },
  {
   "cell_type": "markdown",
   "metadata": {},
   "source": [
    "<h1 style=\"color:purple\" align=\"right\"> 3.PROJECT 02 : Healthcare </h1>"
   ]
  },
  {
   "cell_type": "markdown",
   "metadata": {},
   "source": [
    "<h2 style=\"color:blue\" align=\"left\"> 4. Project Task: Week 1 </h2>"
   ]
  },
  {
   "cell_type": "markdown",
   "metadata": {},
   "source": [
    "<h3 style=\"color:blue\" align=\"right\"> 5.Project Task: Week 1 </h3>"
   ]
  },
  {
   "cell_type": "markdown",
   "metadata": {},
   "source": [
    "-------------------------------------------------------------------------------------------------------------------------------"
   ]
  },
  {
   "cell_type": "markdown",
   "metadata": {},
   "source": [
    "-------------------------------------------------------------------------------------------------------------------------------"
   ]
  }
 ],
 "metadata": {
  "kernelspec": {
   "display_name": "Python 3",
   "language": "python",
   "name": "python3"
  },
  "language_info": {
   "codemirror_mode": {
    "name": "ipython",
    "version": 3
   },
   "file_extension": ".py",
   "mimetype": "text/x-python",
   "name": "python",
   "nbconvert_exporter": "python",
   "pygments_lexer": "ipython3",
   "version": "3.7.3"
  }
 },
 "nbformat": 4,
 "nbformat_minor": 2
}
