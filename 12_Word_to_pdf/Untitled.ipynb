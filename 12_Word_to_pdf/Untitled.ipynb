{
 "cells": [
  {
   "cell_type": "code",
   "execution_count": 1,
   "metadata": {},
   "outputs": [
    {
     "name": "stdout",
     "output_type": "stream",
     "text": [
      "Collecting docx2pdf\n",
      "  Downloading https://files.pythonhosted.org/packages/6f/e3/d283374e533973eb298d59d65d6c85daf51de26ec32a64a42e71e3701cfb/docx2pdf-0.1.7-py3-none-any.whl\n",
      "Collecting pywin32<228,>=227; sys_platform == \"win32\" (from docx2pdf)\n",
      "  Downloading https://files.pythonhosted.org/packages/bb/23/00fe4fbf9963f3bcb34a443eba0d0283fc51e5887d4045552c87490394e4/pywin32-227-cp37-cp37m-win_amd64.whl (9.1MB)\n",
      "Collecting importlib_metadata<2.0.0,>=1.3.0; python_version < \"3.8\" (from docx2pdf)\n",
      "  Downloading https://files.pythonhosted.org/packages/ad/e4/891bfcaf868ccabc619942f27940c77a8a4b45fd8367098955bb7e152fb1/importlib_metadata-1.6.0-py2.py3-none-any.whl\n",
      "Collecting tqdm<5.0.0,>=4.41.0 (from docx2pdf)\n",
      "  Downloading https://files.pythonhosted.org/packages/c9/40/058b12e8ba10e35f89c9b1fdfc2d4c7f8c05947df2d5eb3c7b258019fda0/tqdm-4.46.0-py2.py3-none-any.whl (63kB)\n",
      "Collecting zipp>=0.5 (from importlib_metadata<2.0.0,>=1.3.0; python_version < \"3.8\"->docx2pdf)\n",
      "  Downloading https://files.pythonhosted.org/packages/b2/34/bfcb43cc0ba81f527bc4f40ef41ba2ff4080e047acb0586b56b3d017ace4/zipp-3.1.0-py3-none-any.whl\n",
      "Installing collected packages: pywin32, zipp, importlib-metadata, tqdm, docx2pdf\n",
      "  Found existing installation: pywin32 223\n",
      "    Uninstalling pywin32-223:\n",
      "      Successfully uninstalled pywin32-223\n",
      "  Rolling back uninstall of pywin32\n",
      "  Moving to c:\\users\\deepusuresh\\anaconda3\\lib\\site-packages\\__pycache__\\pythoncom.cpython-37.pyc\n",
      "   from C:\\Users\\DEEPUS~1\\AppData\\Local\\Temp\\pip-uninstall-q5784hlz\\pythoncom.cpython-37.pyc\n",
      "  Moving to c:\\users\\deepusuresh\\anaconda3\\lib\\site-packages\\adodbapi\n",
      "   from c:\\users\\deepusuresh\\anaconda3\\lib\\site-packages\\~dodbapi\n",
      "  Moving to c:\\users\\deepusuresh\\anaconda3\\lib\\site-packages\\isapi\n",
      "   from c:\\users\\deepusuresh\\anaconda3\\lib\\site-packages\\~sapi\n",
      "  Moving to c:\\users\\deepusuresh\\anaconda3\\lib\\site-packages\\pythoncom.py\n",
      "   from C:\\Users\\DEEPUS~1\\AppData\\Local\\Temp\\pip-uninstall-eip2wifq\\pythoncom.py\n",
      "  Moving to c:\\users\\deepusuresh\\anaconda3\\lib\\site-packages\\pythonwin\n",
      "   from c:\\users\\deepusuresh\\anaconda3\\lib\\site-packages\\~ythonwin\n",
      "  Moving to c:\\users\\deepusuresh\\anaconda3\\lib\\site-packages\\pywin32-223-py3.7.egg-info\n",
      "   from c:\\users\\deepusuresh\\anaconda3\\lib\\site-packages\\~ywin32-223-py3.7.egg-info\n",
      "  Moving to c:\\users\\deepusuresh\\anaconda3\\lib\\site-packages\\win32\\lib\\\n",
      "   from c:\\users\\deepusuresh\\anaconda3\\lib\\site-packages\\win32\\~ib\n",
      "  Moving to c:\\users\\deepusuresh\\anaconda3\\lib\\site-packages\\win32com\n",
      "   from c:\\users\\deepusuresh\\anaconda3\\lib\\site-packages\\~in32com\n",
      "  Moving to c:\\users\\deepusuresh\\anaconda3\\lib\\site-packages\\win32comext\n",
      "   from c:\\users\\deepusuresh\\anaconda3\\lib\\site-packages\\~in32comext\n",
      "Note: you may need to restart the kernel to use updated packages.\n"
     ]
    },
    {
     "name": "stderr",
     "output_type": "stream",
     "text": [
      "Could not install packages due to an EnvironmentError: [WinError 5] Access is denied: 'C:\\\\Users\\\\deepusuresh\\\\Anaconda3\\\\Lib\\\\site-packages\\\\win32\\\\win32api.pyd'\n",
      "Consider using the `--user` option or check the permissions.\n",
      "\n"
     ]
    }
   ],
   "source": [
    "pip install docx2pdf"
   ]
  },
  {
   "cell_type": "code",
   "execution_count": 2,
   "metadata": {
    "scrolled": true
   },
   "outputs": [
    {
     "ename": "ModuleNotFoundError",
     "evalue": "No module named 'docx2pdf'",
     "output_type": "error",
     "traceback": [
      "\u001b[1;31m---------------------------------------------------------------------------\u001b[0m",
      "\u001b[1;31mModuleNotFoundError\u001b[0m                       Traceback (most recent call last)",
      "\u001b[1;32m<ipython-input-2-fd0c3f7f4b66>\u001b[0m in \u001b[0;36m<module>\u001b[1;34m\u001b[0m\n\u001b[1;32m----> 1\u001b[1;33m \u001b[1;32mfrom\u001b[0m \u001b[0mdocx2pdf\u001b[0m \u001b[1;32mimport\u001b[0m \u001b[0mconvert\u001b[0m\u001b[1;33m\u001b[0m\u001b[1;33m\u001b[0m\u001b[0m\n\u001b[0m",
      "\u001b[1;31mModuleNotFoundError\u001b[0m: No module named 'docx2pdf'"
     ]
    }
   ],
   "source": [
    "from docx2pdf import convert"
   ]
  },
  {
   "cell_type": "code",
   "execution_count": 3,
   "metadata": {},
   "outputs": [
    {
     "ename": "NameError",
     "evalue": "name 'convert' is not defined",
     "output_type": "error",
     "traceback": [
      "\u001b[1;31m---------------------------------------------------------------------------\u001b[0m",
      "\u001b[1;31mNameError\u001b[0m                                 Traceback (most recent call last)",
      "\u001b[1;32m<ipython-input-3-ad75d4645567>\u001b[0m in \u001b[0;36m<module>\u001b[1;34m\u001b[0m\n\u001b[1;32m----> 1\u001b[1;33m convert(r\"C:\\Users\\deepusuresh\\Documents\\Data Science\\Suresh_DS.docx\",\n\u001b[0m\u001b[0;32m      2\u001b[0m        r\"C:\\Users\\deepusuresh\\Documents\\Data Science\\Suresh_DS.pdf\")\n",
      "\u001b[1;31mNameError\u001b[0m: name 'convert' is not defined"
     ]
    }
   ],
   "source": [
    "convert(r\"C:\\Users\\deepusuresh\\Documents\\Data Science\\Suresh_DS.docx\",\n",
    "       r\"C:\\Users\\deepusuresh\\Documents\\Data Science\\Suresh_DS.pdf\")"
   ]
  },
  {
   "cell_type": "code",
   "execution_count": null,
   "metadata": {},
   "outputs": [],
   "source": []
  }
 ],
 "metadata": {
  "kernelspec": {
   "display_name": "Python 3",
   "language": "python",
   "name": "python3"
  },
  "language_info": {
   "codemirror_mode": {
    "name": "ipython",
    "version": 3
   },
   "file_extension": ".py",
   "mimetype": "text/x-python",
   "name": "python",
   "nbconvert_exporter": "python",
   "pygments_lexer": "ipython3",
   "version": "3.7.3"
  }
 },
 "nbformat": 4,
 "nbformat_minor": 2
}
