{
 "cells": [
  {
   "cell_type": "markdown",
   "metadata": {},
   "source": [
    "### Histogram:\n",
    "\n",
    "- A histogram plots the continuous distribution of variable as series of bars and each bar indicates the frequency of the occurring value in a variable. In order to use a histogram, we simply require a variable that takes continuous numeric values"
   ]
  },
  {
   "cell_type": "markdown",
   "metadata": {},
   "source": [
    "### Bar charts:\n",
    "\n",
    "- Bar charts are used when we want to compare different groups of data and make inference of which groups are highest and which groups are comon and compare how one group is performing compared to others.\n",
    "\n",
    "\n",
    "- Bar graphs are useful for displaying **relationships between categorical data** and **at least one numerical variable**."
   ]
  },
  {
   "cell_type": "markdown",
   "metadata": {},
   "source": [
    "### Scatter Plot:\n",
    "\n",
    "- Scatter plot represent values for **two different numeric variables**. They are mainly used for representation of **relationship between two variables**."
   ]
  },
  {
   "cell_type": "markdown",
   "metadata": {},
   "source": [
    "### Pie chart:\n",
    "\n",
    "- A pie chart represents the distribution of **different variables among total**. In pie chart each slice shows it’s contribution to the total amount."
   ]
  },
  {
   "cell_type": "markdown",
   "metadata": {},
   "source": [
    "### Box plot:\n",
    "\n",
    "- A box plot is the representation of statistical summary. Minimum, First Quartile, Median, Third Quartile, Maximum.\n",
    "filter_none"
   ]
  },
  {
   "cell_type": "markdown",
   "metadata": {},
   "source": [
    "### Count Plot:\n",
    "\n",
    "- count plot for a **single categorical variable**\n",
    "\n",
    "\n",
    "- count plot for **two categorical variables**\n",
    "\n",
    "\n",
    "- count plot for **three categorical variables** using **catplot**\n",
    "\n",
    "\n",
    "- there are basically three types of rooms (“Private room”, “Entire home/apt”, “Shared room”) shown in the “room_type” column. One easy way to visualize the counts of observations for each room type is to create a count plot."
   ]
  },
  {
   "cell_type": "markdown",
   "metadata": {},
   "source": [
    "### Heat map\n",
    "\n",
    "- Heat maps are a great tool for visualizing **complex statistical data**."
   ]
  },
  {
   "cell_type": "code",
   "execution_count": null,
   "metadata": {},
   "outputs": [],
   "source": []
  }
 ],
 "metadata": {
  "kernelspec": {
   "display_name": "Python 3",
   "language": "python",
   "name": "python3"
  },
  "language_info": {
   "codemirror_mode": {
    "name": "ipython",
    "version": 3
   },
   "file_extension": ".py",
   "mimetype": "text/x-python",
   "name": "python",
   "nbconvert_exporter": "python",
   "pygments_lexer": "ipython3",
   "version": "3.7.3"
  }
 },
 "nbformat": 4,
 "nbformat_minor": 2
}
