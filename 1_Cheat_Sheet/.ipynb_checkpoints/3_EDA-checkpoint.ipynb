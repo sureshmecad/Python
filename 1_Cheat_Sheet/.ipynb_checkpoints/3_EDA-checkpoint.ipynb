{
 "cells": [
  {
   "cell_type": "code",
   "execution_count": null,
   "metadata": {},
   "outputs": [],
   "source": [
    "print('Rows     :',df.shape[0])\n",
    "print('Columns  :',df.shape[1])\n",
    "print('\\nFeatures :\\n     :',df.columns.tolist())\n",
    "print('\\nMissing values    :',df.isnull().values.sum())\n",
    "print('\\nUnique values :  \\n',df.nunique())"
   ]
  },
  {
   "cell_type": "markdown",
   "metadata": {},
   "source": []
  },
  {
   "cell_type": "code",
   "execution_count": null,
   "metadata": {},
   "outputs": [],
   "source": [
    "df.columns\n",
    "\n",
    "df.columns.tolist()"
   ]
  },
  {
   "cell_type": "markdown",
   "metadata": {},
   "source": [
    "------------"
   ]
  },
  {
   "cell_type": "markdown",
   "metadata": {},
   "source": [
    "## Missing Values\n",
    "- fillna / replace(np.nan...)"
   ]
  },
  {
   "cell_type": "code",
   "execution_count": null,
   "metadata": {},
   "outputs": [],
   "source": [
    "Replacments\n",
    "df['country'] = df['country'].fillna(df['country'].mode()[0])\n",
    "\n",
    "df['cast'].replace(np.nan, 'No Data', inplace = True)\n",
    "df['director'].replace(np.nan, 'No Data', inplace = True)\n",
    "\n",
    "Drops\n",
    "df.dropna(inplace=True)"
   ]
  },
  {
   "cell_type": "code",
   "execution_count": null,
   "metadata": {},
   "outputs": [],
   "source": [
    "# Replace nan values in data_added with January 1,{release_year}\n",
    "netflix_df['date_added'] = netflix_df['date_added'].fillna('January 1, {}'.format(str(netflix_df['release_year'].mode()[0])))"
   ]
  },
  {
   "cell_type": "code",
   "execution_count": null,
   "metadata": {},
   "outputs": [],
   "source": [
    "len(df.loc[(df['ca'] == '?') | (df['thal'] == '?')])\n",
    "\n",
    "df.loc[(df['ca'] == '?') | (df['thal'] == '?')]\n",
    "\n",
    "df_no_missing = df.loc[(df['ca'] != '?') & (df['thal'] != '?')]"
   ]
  },
  {
   "cell_type": "markdown",
   "metadata": {},
   "source": [
    "--------------"
   ]
  },
  {
   "cell_type": "markdown",
   "metadata": {},
   "source": [
    "## Datetime"
   ]
  },
  {
   "cell_type": "code",
   "execution_count": null,
   "metadata": {},
   "outputs": [],
   "source": [
    "df[\"date_added\"] = pd.to_datetime(df['date_added'])\n",
    "df['day_added'] = df['date_added'].dt.day\n",
    "df['year_added'] = df['date_added'].dt.year\n",
    "df['month_added']=df['date_added'].dt.month\n",
    "df['year_added'].astype(int);\n",
    "df['day_added'].astype(int);"
   ]
  },
  {
   "cell_type": "code",
   "execution_count": null,
   "metadata": {},
   "outputs": [],
   "source": [
    "date_added is broken down into month,year and day and then dropped along with show_id\n",
    "show['Added_Year']=show['date_added'].apply(lambda x: x.split(', ')[-1])\n",
    "show['Added_Month']=show['date_added'].apply(lambda x: x.split(' ')[0])\n",
    "show['Added_Day']=show['date_added'].apply(lambda x:x.lstrip().split(' ')[1])\n",
    "show['Added_Day']=show['Added_Day'].apply(lambda x:x.split(',')[0])"
   ]
  },
  {
   "cell_type": "markdown",
   "metadata": {},
   "source": [
    "---------"
   ]
  },
  {
   "cell_type": "markdown",
   "metadata": {},
   "source": [
    "## Duplicated\n",
    "- refer **iris** in **Kaggle**"
   ]
  },
  {
   "cell_type": "code",
   "execution_count": null,
   "metadata": {},
   "outputs": [],
   "source": [
    "# Identify Duplicate Values\n",
    "df[df.duplicated()]"
   ]
  },
  {
   "cell_type": "code",
   "execution_count": null,
   "metadata": {},
   "outputs": [],
   "source": [
    "df.duplicated().value_counts()"
   ]
  },
  {
   "cell_type": "code",
   "execution_count": null,
   "metadata": {},
   "outputs": [],
   "source": [
    "df.drop_duplicates(inplace=True)\n",
    "df.shape"
   ]
  },
  {
   "cell_type": "code",
   "execution_count": null,
   "metadata": {},
   "outputs": [],
   "source": [
    "df.duplicated().any()"
   ]
  },
  {
   "cell_type": "markdown",
   "metadata": {},
   "source": [
    "---------------------"
   ]
  },
  {
   "cell_type": "markdown",
   "metadata": {},
   "source": [
    "## Value_Counts"
   ]
  },
  {
   "cell_type": "code",
   "execution_count": null,
   "metadata": {},
   "outputs": [],
   "source": [
    "df[\"rating\"].value_counts().to_frame()"
   ]
  },
  {
   "cell_type": "code",
   "execution_count": null,
   "metadata": {},
   "outputs": [],
   "source": []
  },
  {
   "cell_type": "code",
   "execution_count": null,
   "metadata": {},
   "outputs": [],
   "source": []
  },
  {
   "cell_type": "markdown",
   "metadata": {},
   "source": [
    "-------------"
   ]
  },
  {
   "cell_type": "markdown",
   "metadata": {},
   "source": [
    "## OHE"
   ]
  },
  {
   "cell_type": "code",
   "execution_count": null,
   "metadata": {},
   "outputs": [],
   "source": [
    "pd.get_dummies(X, columns=['cp']).head()\n",
    "\n",
    "----------------------------------------------------------------\n",
    "\n",
    "X_encoded = pd.get_dummies(X, columns=['cp',\n",
    "                                       'restecg',\n",
    "                                       'slope', \n",
    "                                       'thal'])\n",
    "X_encoded.head()\n",
    "\n",
    "----------------------------------------------------------------"
   ]
  },
  {
   "cell_type": "markdown",
   "metadata": {},
   "source": [
    "------------"
   ]
  },
  {
   "cell_type": "code",
   "execution_count": null,
   "metadata": {},
   "outputs": [],
   "source": []
  }
 ],
 "metadata": {
  "kernelspec": {
   "display_name": "Python 3",
   "language": "python",
   "name": "python3"
  },
  "language_info": {
   "codemirror_mode": {
    "name": "ipython",
    "version": 3
   },
   "file_extension": ".py",
   "mimetype": "text/x-python",
   "name": "python",
   "nbconvert_exporter": "python",
   "pygments_lexer": "ipython3",
   "version": "3.7.3"
  }
 },
 "nbformat": 4,
 "nbformat_minor": 2
}
