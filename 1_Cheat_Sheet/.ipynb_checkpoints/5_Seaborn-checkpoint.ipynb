{
 "cells": [
  {
   "cell_type": "code",
   "execution_count": null,
   "metadata": {},
   "outputs": [],
   "source": [
    "sns.set_style(\"darkgrid\")\n",
    "\n",
    "sns.set_style('whitegrid')\n",
    "\n",
    "sns.set_style(\"white\")\n",
    "\n",
    "style.use(\"ggplot\")\n"
   ]
  },
  {
   "cell_type": "markdown",
   "metadata": {},
   "source": [
    "-----------"
   ]
  },
  {
   "cell_type": "code",
   "execution_count": null,
   "metadata": {},
   "outputs": [],
   "source": [
    "sns.countplot(df.type, palette=\"pastel\")\n",
    "\n",
    "sns.countplot(x='type', data=df, palette=\"Set2\")\n",
    "\n",
    "sns.countplot(x='type', data=df, palette=\"viridis\")"
   ]
  },
  {
   "cell_type": "markdown",
   "metadata": {},
   "source": [
    "---------------"
   ]
  },
  {
   "cell_type": "code",
   "execution_count": null,
   "metadata": {},
   "outputs": [],
   "source": [
    "raring_order = df[\"rating\"].value_counts().to_frame()\n",
    "raring_order\n",
    "\n",
    "sns.countplot(df.rating, order=raring_order.index[0:15], palette=\"pastel\")"
   ]
  },
  {
   "cell_type": "markdown",
   "metadata": {},
   "source": [
    "----------"
   ]
  },
  {
   "cell_type": "code",
   "execution_count": null,
   "metadata": {},
   "outputs": [],
   "source": [
    "plt.figure(figsize = (12,8))\n",
    "sns.countplot(x='rating', data=df, hue='type', palette=\"pastel\")\n",
    "plt.xlabel(\"Rating\")\n",
    "plt.ylabel(\"Total Count\")\n",
    "plt.show()"
   ]
  },
  {
   "cell_type": "markdown",
   "metadata": {},
   "source": [
    "---------------"
   ]
  },
  {
   "cell_type": "code",
   "execution_count": null,
   "metadata": {},
   "outputs": [],
   "source": [
    "plt.figure(figsize=(8,6))\n",
    "sns.countplot(x=\"type\", data=df, palette=\"viridis\")\n",
    "\n",
    "# Get current axis on current figure\n",
    "ax = plt.gca()\n",
    "\n",
    "# ylim max value to be set\n",
    "y_max = df['type'].value_counts().max() \n",
    "ax.set_ylim([0, 6000])\n",
    "\n",
    "# Iterate through the list of axes' patches\n",
    "for p in ax.patches:\n",
    "    ax.text(p.get_x() + p.get_width()/2., p.get_height(), '%d' % int(p.get_height()), \n",
    "            fontsize=12, color='black', ha='center', va='bottom')\n",
    "\n",
    "\n",
    "plt.title('Comparison of Total TV Shows & Movies',size='15')\n",
    "plt.show()"
   ]
  },
  {
   "cell_type": "markdown",
   "metadata": {},
   "source": [
    "--------------------"
   ]
  },
  {
   "cell_type": "code",
   "execution_count": null,
   "metadata": {},
   "outputs": [],
   "source": [
    "plt.figure(figsize=(30,20))\n",
    "\n",
    "plt.subplot(3,3,1)\n",
    "sns.countplot(df['sex'])\n",
    "\n",
    "plt.subplot(3,3,2)\n",
    "sns.countplot(df['cp'])\n",
    "\n",
    "plt.subplot(3,3,3)\n",
    "sns.countplot(df['fbs'])\n",
    "\n",
    "plt.subplot(3,3,4)\n",
    "sns.countplot(df['restecg'])\n",
    "\n",
    "plt.subplot(3,3,5)\n",
    "sns.countplot(df['exang'])\n",
    "\n",
    "plt.subplot(3,3,6)\n",
    "sns.countplot(df['slope'])\n",
    "\n",
    "plt.subplot(3,3,7)\n",
    "sns.countplot(df['ca'])\n",
    "\n",
    "plt.subplot(3,3,8)\n",
    "sns.countplot(df['thal'])\n",
    "\n",
    "plt.subplot(3,3,9)\n",
    "sns.countplot(df['target'])\n",
    "\n",
    "plt.show()"
   ]
  },
  {
   "cell_type": "markdown",
   "metadata": {},
   "source": [
    "------------------"
   ]
  },
  {
   "cell_type": "code",
   "execution_count": null,
   "metadata": {},
   "outputs": [],
   "source": [
    "plt.figure(figsize=(20,15))\n",
    "\n",
    "plt.subplot(2,3,1)\n",
    "sns.distplot(df['age']).set_title('Age Interval')\n",
    "\n",
    "plt.subplot(2,3,2)\n",
    "sns.distplot(df['chol']).set_title('Chol Interval')\n",
    "\n",
    "plt.subplot(2,3,3)\n",
    "sns.distplot(df['thalach']).set_title('Thalach Interval')\n",
    "\n",
    "plt.subplot(2,3,4)\n",
    "sns.distplot(df['oldpeak']).set_title('Oldpeak Interval')\n",
    "\n",
    "plt.subplot(2,3,5)\n",
    "sns.distplot(df['trestbps']).set_title('Resting Blood Pressure Interval')"
   ]
  },
  {
   "cell_type": "markdown",
   "metadata": {},
   "source": [
    "---------------"
   ]
  },
  {
   "cell_type": "code",
   "execution_count": null,
   "metadata": {},
   "outputs": [],
   "source": [
    "plt.figure(figsize=(30,20))\n",
    "\n",
    "plt.subplot(4,4,1)\n",
    "sns.barplot(x = 'target', y = 'sex', data = df)\n",
    "\n",
    "plt.subplot(4,4,2)\n",
    "sns.barplot(x = 'target', y = 'trestbps', data = df)\n",
    "\n",
    "plt.subplot(4,4,3)\n",
    "sns.barplot(x = 'target', y = 'chol', data = df)\n",
    "\n",
    "plt.subplot(4,4,4)\n",
    "sns.barplot(x = 'target', y = 'thalach', data = df)\n",
    "\n",
    "plt.subplot(4,4,5)\n",
    "sns.barplot(x = 'target', y = 'exang', data = df)\n",
    "\n",
    "plt.subplot(4,4,6)\n",
    "sns.barplot(x = 'target', y = 'oldpeak', data = df)\n",
    "\n",
    "plt.subplot(4,4,7)\n",
    "sns.barplot(x = 'target', y = 'slope', data = df)\n",
    "\n",
    "plt.subplot(4,4,8)\n",
    "sns.barplot(x = 'target', y = 'age', data = df)"
   ]
  },
  {
   "cell_type": "markdown",
   "metadata": {},
   "source": [
    "---------------"
   ]
  },
  {
   "cell_type": "code",
   "execution_count": null,
   "metadata": {},
   "outputs": [],
   "source": []
  }
 ],
 "metadata": {
  "kernelspec": {
   "display_name": "Python 3",
   "language": "python",
   "name": "python3"
  },
  "language_info": {
   "codemirror_mode": {
    "name": "ipython",
    "version": 3
   },
   "file_extension": ".py",
   "mimetype": "text/x-python",
   "name": "python",
   "nbconvert_exporter": "python",
   "pygments_lexer": "ipython3",
   "version": "3.7.3"
  }
 },
 "nbformat": 4,
 "nbformat_minor": 2
}
