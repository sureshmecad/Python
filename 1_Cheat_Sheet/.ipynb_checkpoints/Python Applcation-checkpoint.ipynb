{
 "cells": [
  {
   "cell_type": "raw",
   "metadata": {},
   "source": [
    "Python Application :\n",
    "    \n",
    "    1. Web Scraping\n",
    "    \n",
    "    2. Web Development\n",
    "    \n",
    "    3. Testing\n",
    "    \n",
    "    4. Data Analysis"
   ]
  },
  {
   "cell_type": "code",
   "execution_count": null,
   "metadata": {},
   "outputs": [],
   "source": []
  }
 ],
 "metadata": {
  "kernelspec": {
   "display_name": "Python 3",
   "language": "python",
   "name": "python3"
  },
  "language_info": {
   "codemirror_mode": {
    "name": "ipython",
    "version": 3
   },
   "file_extension": ".py",
   "mimetype": "text/x-python",
   "name": "python",
   "nbconvert_exporter": "python",
   "pygments_lexer": "ipython3",
   "version": "3.7.3"
  }
 },
 "nbformat": 4,
 "nbformat_minor": 2
}
