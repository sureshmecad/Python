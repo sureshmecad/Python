{
 "cells": [
  {
   "cell_type": "raw",
   "metadata": {},
   "source": [
    "Numpy:\n",
    "    \n",
    "https://towardsdatascience.com/a-quick-introduction-to-the-numpy-library-6f61b7dee4db"
   ]
  },
  {
   "cell_type": "raw",
   "metadata": {},
   "source": [
    "Pandas:\n",
    "    \n",
    "https://www.geeksforgeeks.org/python-pandas-dataframe/\n",
    "\n",
    "https://www.geeksforgeeks.org/dealing-with-rows-and-columns-in-pandas-dataframe/\n",
    "\n",
    "https://realpython.com/pandas-python-explore-dataset/                   --- some options good\n",
    "\n",
    "https://www.edureka.co/blog/python-pandas-tutorial/                     --- Finished\n",
    " \n",
    "https://www.tutorialspoint.com/python_pandas/index.htm                  --- Individual options (Not yet Started)\n",
    "\n",
    "https://medium.com/bhavaniravi/python-pandas-tutorial-92018da85a33      --- Finished (Explore Excell having 2 sheets)\n"
   ]
  },
  {
   "cell_type": "raw",
   "metadata": {},
   "source": [
    "2. Youtube\n",
    "\n",
    "\n",
    "        https://www.youtube.com/watch?v=fIXh-gmR7mQ      ----    PANDAS Slicing\n",
    "\n",
    "        https://www.youtube.com/watch?v=LlSbe2lz6mY      ----    Indexing (loc / iloc)\n",
    "\n",
    "        https://www.youtube.com/watch?v=2vFu4YtzfgE      ----    Indexing"
   ]
  },
  {
   "cell_type": "raw",
   "metadata": {},
   "source": [
    "4. Dataset (Example)\n",
    "\n",
    "\n",
    "       https://data36.com/pandas-tutorial-2-aggregation-and-grouping/                                 (Dataset : zoo)\n",
    "\n",
    " \n",
    "       https://data36.com/pandas-tutorial-1-basics-reading-data-files-dataframes-data-selection/\n",
    "\n",
    "\n",
    "       https://intellipaat.com/blog/tutorial/python-tutorial/python-pandas-tutorial/"
   ]
  },
  {
   "cell_type": "raw",
   "metadata": {},
   "source": [
    "1. Interview Questions (Pandas)\n",
    "\n",
    "        https://analyticsindiamag.com/10-important-pandas-interview-questions-every-beginner-must-know/"
   ]
  },
  {
   "cell_type": "code",
   "execution_count": null,
   "metadata": {},
   "outputs": [],
   "source": []
  }
 ],
 "metadata": {
  "kernelspec": {
   "display_name": "Python 3",
   "language": "python",
   "name": "python3"
  },
  "language_info": {
   "codemirror_mode": {
    "name": "ipython",
    "version": 3
   },
   "file_extension": ".py",
   "mimetype": "text/x-python",
   "name": "python",
   "nbconvert_exporter": "python",
   "pygments_lexer": "ipython3",
   "version": "3.7.3"
  }
 },
 "nbformat": 4,
 "nbformat_minor": 2
}
