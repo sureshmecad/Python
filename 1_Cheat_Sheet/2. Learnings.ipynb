{
 "cells": [
  {
   "cell_type": "markdown",
   "metadata": {},
   "source": [
    "## 1. Skewness\n",
    "- **Random forest and XGBOOST** --->  where we **don’t care about skewness**\n",
    "         \n",
    "     It is not always possible to normalize your dataset when your dealing with Random Forest and XGBOOST.\n",
    "\n",
    "\n",
    "- **Linear Reg** ---> skewness **(normally distribution)**\n",
    "    \n",
    "    **Normal distribution:** more **reliable predictions** are made if the **predictors and the target** variable are **normally distributed**"
   ]
  },
  {
   "cell_type": "markdown",
   "metadata": {},
   "source": [
    "- **Target** variable is **Binary Classification,** no need to apply for **skewness.**"
   ]
  },
  {
   "cell_type": "markdown",
   "metadata": {},
   "source": [
    "## 2. Standard Scalar\n",
    " **Scale:** it’s a distance-based algorithm, so **preditors** should be **scaled** — like with **standard scaler**"
   ]
  },
  {
   "cell_type": "markdown",
   "metadata": {},
   "source": [
    "---------------"
   ]
  },
  {
   "cell_type": "markdown",
   "metadata": {},
   "source": [
    "## 3. Feature Selecton \n",
    "\n",
    "   1. Imbalanced dataset"
   ]
  },
  {
   "cell_type": "markdown",
   "metadata": {},
   "source": [
    "## 4. Mean, Median and Mode\n",
    "- Mean can't use if have outliers. Mode is the right otion."
   ]
  },
  {
   "cell_type": "markdown",
   "metadata": {},
   "source": [
    "## 5. ML\n",
    "- **Logistic Regression and Support Vector Machines** were designed for **binary classification** and **do not** natively support classification tasks with **more than two classes.**"
   ]
  },
  {
   "cell_type": "code",
   "execution_count": null,
   "metadata": {},
   "outputs": [],
   "source": []
  }
 ],
 "metadata": {
  "kernelspec": {
   "display_name": "Python 3",
   "language": "python",
   "name": "python3"
  },
  "language_info": {
   "codemirror_mode": {
    "name": "ipython",
    "version": 3
   },
   "file_extension": ".py",
   "mimetype": "text/x-python",
   "name": "python",
   "nbconvert_exporter": "python",
   "pygments_lexer": "ipython3",
   "version": "3.7.3"
  }
 },
 "nbformat": 4,
 "nbformat_minor": 2
}
