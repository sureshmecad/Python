{
 "cells": [
  {
   "cell_type": "markdown",
   "metadata": {},
   "source": [
    "## Encoding Techniques"
   ]
  },
  {
   "cell_type": "code",
   "execution_count": null,
   "metadata": {},
   "outputs": [],
   "source": [
    "categorical_feature_columns = temp.select_dtypes(exclude=['float64','int64','bool']).columns"
   ]
  },
  {
   "cell_type": "code",
   "execution_count": null,
   "metadata": {},
   "outputs": [],
   "source": [
    "label = LabelEncoder()\n",
    "for column in categorical_feature_columns:\n",
    "        label.fit(temp[column])\n",
    "        temp[column] = label.transform(temp[column])"
   ]
  },
  {
   "cell_type": "markdown",
   "metadata": {},
   "source": [
    "---------------------------"
   ]
  },
  {
   "cell_type": "markdown",
   "metadata": {},
   "source": [
    "### Categorical Variables are of 2 types Ordinal and Nominal. \n",
    "\n",
    "*   Ordinal variables has some kind order. (Good, Better, Best), (First, Second, Third)\n",
    "\n",
    "\n",
    "*   Nominal variables has no ordering between them. (Cat, Dog, Monkey), (Apple, Banana, Mango)\n",
    "\n",
    "Based on categorical variables whether they are ordinal or nominal we appply different techniques on them."
   ]
  },
  {
   "cell_type": "markdown",
   "metadata": {},
   "source": [
    "- **Here the labels are nominal; we will apply OneHotEncoding here**.\n",
    "\n",
    "\n",
    "- we will apply **Binary encoding** on 3 columns as they are **nominal categorical variable ('market_segment', 'assigned_room_type','reserved_room_type')**."
   ]
  },
  {
   "cell_type": "code",
   "execution_count": null,
   "metadata": {},
   "outputs": [],
   "source": [
    "# Label Encoder:\n",
    "\n",
    "from sklearn.preprocessing import LabelEncoder # import the LabelEncoder from sklrean library\n",
    "le = LabelEncoder()    # create the instance of LabelEncoder\n",
    "\n",
    "df['country_temp'] = le.fit_transform(df['country'])   # apply LabelEncoding of country column"
   ]
  },
  {
   "cell_type": "markdown",
   "metadata": {},
   "source": [
    "## Get Dummies (OHE)"
   ]
  },
  {
   "cell_type": "raw",
   "metadata": {},
   "source": [
    "# drop_first=True ----> used to avoid dummy variable trap\n",
    "\n",
    "salary_dummies = pd.get_dummies(df2['salary'], drop_first=True)\n",
    "\n",
    "-------------------------------------------------------------------------\n",
    "\n",
    "# Transform discrete values to columns with 1 and 0s\n",
    "train_OHE = pd.get_dummies(train)\n",
    "\n",
    "# Do the same for competition data\n",
    "test_OHE = pd.get_dummies(test)\n",
    "\n",
    "-------------------------------------------------------\n",
    "\n",
    "display(train_OHE.head())\n",
    "display(test_OHE.head())"
   ]
  },
  {
   "cell_type": "markdown",
   "metadata": {},
   "source": [
    "## Binary Encoding"
   ]
  },
  {
   "cell_type": "code",
   "execution_count": null,
   "metadata": {},
   "outputs": [],
   "source": [
    "!pip install category_encoders\n",
    "\n",
    "# install category_encoders first\n",
    "# You have to poen your ananconda prompt & conda install -c conda-forge category_encoders & Y/N,Y\n",
    "\n",
    "\n",
    "import category_encoders as ce\n",
    "encoder = ce.BinaryEncoder()\n",
    "b_encoder = encoder.fit_transform(obj_df['make'])\n",
    "b_encoder.head()"
   ]
  }
 ],
 "metadata": {
  "kernelspec": {
   "display_name": "Python 3",
   "language": "python",
   "name": "python3"
  },
  "language_info": {
   "codemirror_mode": {
    "name": "ipython",
    "version": 3
   },
   "file_extension": ".py",
   "mimetype": "text/x-python",
   "name": "python",
   "nbconvert_exporter": "python",
   "pygments_lexer": "ipython3",
   "version": "3.7.3"
  }
 },
 "nbformat": 4,
 "nbformat_minor": 2
}
