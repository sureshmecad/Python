{
 "cells": [
  {
   "cell_type": "markdown",
   "metadata": {},
   "source": [
    "https://www.kaggle.com/svyatoslavsokolov/tps-apr-2021-lgbm"
   ]
  },
  {
   "cell_type": "code",
   "execution_count": null,
   "metadata": {},
   "outputs": [],
   "source": [
    "lgbm_test_pred = np.zeros(len(test))\n",
    "n_splits=10\n",
    "\n",
    "kf = KFold(n_splits=n_splits, shuffle=True)\n",
    "\n",
    "lgbm_acc=[]\n",
    "lgbm_auc=[]\n",
    "\n",
    "for trn_idx, val_idx in tqdm(kf.split(X,y)):\n",
    "    x_train_idx = X.iloc[trn_idx]\n",
    "    y_train_idx = y.iloc[trn_idx]\n",
    "    x_valid_idx = X.iloc[val_idx]\n",
    "    y_valid_idx = y.iloc[val_idx]\n",
    "    \n",
    "    lgbm_model = LGBMClassifier(**lgbm_parameters)\n",
    "    lgbm_model.fit(x_train_idx, y_train_idx, eval_set = ((x_valid_idx,y_valid_idx)),verbose = 1000,categorical_feature = categorical_feature,early_stopping_rounds = 1000)  \n",
    "    lgbm_test_pred += lgbm_model.predict_proba(test)[:,1]/n_splits\n",
    "    lgbm_auc.append(roc_auc_score(y_valid_idx, lgbm_model.predict_proba(x_valid_idx)[:,1]))\n",
    "    lgbm_acc.append(accuracy_score(y_valid_idx,(lgbm_model.predict_proba(x_valid_idx)[:,1] > 0.5).astype(int)))\n",
    "\n",
    "print(f'AUC: {np.mean(lgbm_auc)}')\n",
    "print(f'ACC: {np.mean(lgbm_acc)}')"
   ]
  },
  {
   "cell_type": "code",
   "execution_count": null,
   "metadata": {},
   "outputs": [],
   "source": [
    "submission = pd.DataFrame({'PassengerId':test.index,'Survived':lgbm_test_pred})\n",
    "submission['Survived'] = (submission['Survived'] > 0.5).astype(int)\n",
    "submission.to_csv('submission.csv', index=False)"
   ]
  },
  {
   "cell_type": "markdown",
   "metadata": {},
   "source": [
    "-------------"
   ]
  },
  {
   "cell_type": "code",
   "execution_count": null,
   "metadata": {},
   "outputs": [],
   "source": []
  }
 ],
 "metadata": {
  "kernelspec": {
   "display_name": "Python 3",
   "language": "python",
   "name": "python3"
  },
  "language_info": {
   "codemirror_mode": {
    "name": "ipython",
    "version": 3
   },
   "file_extension": ".py",
   "mimetype": "text/x-python",
   "name": "python",
   "nbconvert_exporter": "python",
   "pygments_lexer": "ipython3",
   "version": "3.7.3"
  }
 },
 "nbformat": 4,
 "nbformat_minor": 2
}
