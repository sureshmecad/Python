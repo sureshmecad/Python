{
 "cells": [
  {
   "cell_type": "code",
   "execution_count": null,
   "metadata": {},
   "outputs": [],
   "source": [
    "# Independant variable\n",
    "X = train_new.drop('Loan_Status',axis=1)        # All rows & columns exclude Target features\n",
    "\n",
    "# Dependant variable\n",
    "y = train_new['Loan_Status']                   # Only target feature"
   ]
  },
  {
   "cell_type": "code",
   "execution_count": null,
   "metadata": {},
   "outputs": [],
   "source": [
    "# Independant variable\n",
    "X = df.drop(['strength','cement','water'], axis=1)         # All rows & columns exclude Target features\n",
    "\n",
    "# Dependant variable\n",
    "y = df['strength']                                         # Only target feature"
   ]
  },
  {
   "cell_type": "code",
   "execution_count": null,
   "metadata": {},
   "outputs": [],
   "source": [
    "# Independant variable\n",
    "X = df.iloc[:,0:-1].values         # All rows & columns exclude Target features\n",
    "\n",
    "# Dependant variable\n",
    "y = df.iloc[:,-1].values           # Only target feature"
   ]
  },
  {
   "cell_type": "code",
   "execution_count": null,
   "metadata": {},
   "outputs": [],
   "source": []
  },
  {
   "cell_type": "code",
   "execution_count": null,
   "metadata": {},
   "outputs": [],
   "source": []
  }
 ],
 "metadata": {
  "kernelspec": {
   "display_name": "Python 3",
   "language": "python",
   "name": "python3"
  },
  "language_info": {
   "codemirror_mode": {
    "name": "ipython",
    "version": 3
   },
   "file_extension": ".py",
   "mimetype": "text/x-python",
   "name": "python",
   "nbconvert_exporter": "python",
   "pygments_lexer": "ipython3",
   "version": "3.7.3"
  }
 },
 "nbformat": 4,
 "nbformat_minor": 2
}
