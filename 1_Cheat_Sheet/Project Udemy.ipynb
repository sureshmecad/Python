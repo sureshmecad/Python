{
 "cells": [
  {
   "cell_type": "code",
   "execution_count": 1,
   "metadata": {},
   "outputs": [],
   "source": [
    "# Data\n",
    "\n",
    "sales = [14434.65, 21222.61, 16554.34, 15445.32, 16054.52, 19005.23, 22222.22, 17466.29, 11345.21, 14333.43, 14444.45, 21222.10]\n",
    "profit = [1222, -500, 1343, 2222, 2122, 3122, 1000, 5330, 2123, 4332, 2221, 3213]"
   ]
  },
  {
   "cell_type": "code",
   "execution_count": 2,
   "metadata": {},
   "outputs": [
    {
     "data": {
      "text/plain": [
       "[0.08465740423217744,\n",
       " -0.023559778933882308,\n",
       " 0.08112676192466749,\n",
       " 0.14386234794746888,\n",
       " 0.13217461499938957,\n",
       " 0.1642705718373311,\n",
       " 0.04500000450000045,\n",
       " 0.305159252480063,\n",
       " 0.1871274308717071,\n",
       " 0.3022305198406801,\n",
       " 0.15376147932250794,\n",
       " 0.1513987776892956]"
      ]
     },
     "execution_count": 2,
     "metadata": {},
     "output_type": "execute_result"
    }
   ],
   "source": [
    "# Calculate Profit ratio As The factor of Sales And Profit\n",
    "\n",
    "profitratio = []\n",
    "for i in range (0, len(sales)):\n",
    "    profitratio.append(profit[i] / sales[i])\n",
    "profitratio"
   ]
  },
  {
   "cell_type": "markdown",
   "metadata": {},
   "source": [
    "## Calculate mean sales and profit"
   ]
  },
  {
   "cell_type": "code",
   "execution_count": 4,
   "metadata": {},
   "outputs": [
    {
     "data": {
      "text/plain": [
       "16979.197500000002"
      ]
     },
     "execution_count": 4,
     "metadata": {},
     "output_type": "execute_result"
    }
   ],
   "source": [
    "mean_sales = sum(sales) / len(sales)\n",
    "mean_sales"
   ]
  },
  {
   "cell_type": "code",
   "execution_count": 5,
   "metadata": {},
   "outputs": [
    {
     "data": {
      "text/plain": [
       "2312.5"
      ]
     },
     "execution_count": 5,
     "metadata": {},
     "output_type": "execute_result"
    }
   ],
   "source": [
    "mean_profit = sum(profit) / len(profit)\n",
    "mean_profit"
   ]
  },
  {
   "cell_type": "code",
   "execution_count": 6,
   "metadata": {},
   "outputs": [
    {
     "data": {
      "text/plain": [
       "[False,\n",
       " False,\n",
       " False,\n",
       " False,\n",
       " False,\n",
       " True,\n",
       " False,\n",
       " True,\n",
       " False,\n",
       " True,\n",
       " False,\n",
       " True]"
      ]
     },
     "execution_count": 6,
     "metadata": {},
     "output_type": "execute_result"
    }
   ],
   "source": [
    "# Find The Months With Above-Mean Profit\n",
    "\n",
    "good_months = []\n",
    "\n",
    "for i in range (0, len(profit)):\n",
    "    good_months.append(profit[i] > mean_profit)\n",
    "good_months"
   ]
  },
  {
   "cell_type": "code",
   "execution_count": 7,
   "metadata": {},
   "outputs": [
    {
     "data": {
      "text/plain": [
       "[True, True, True, True, True, False, True, False, True, False, True, False]"
      ]
     },
     "execution_count": 7,
     "metadata": {},
     "output_type": "execute_result"
    }
   ],
   "source": [
    "# Bad Months Are The Opposite Of Good Months!\n",
    "\n",
    "bad_months = []\n",
    "\n",
    "for i in range (0, len(profit)):\n",
    "    bad_months.append(profit[i]< mean_profit)\n",
    "bad_months"
   ]
  },
  {
   "cell_type": "code",
   "execution_count": 8,
   "metadata": {},
   "outputs": [
    {
     "data": {
      "text/plain": [
       "[False,\n",
       " False,\n",
       " False,\n",
       " False,\n",
       " False,\n",
       " False,\n",
       " False,\n",
       " True,\n",
       " False,\n",
       " False,\n",
       " False,\n",
       " False]"
      ]
     },
     "execution_count": 8,
     "metadata": {},
     "output_type": "execute_result"
    }
   ],
   "source": [
    "# The Best Month Is Where Profit Was Equal To The Maximum\n",
    "\n",
    "best_month = []\n",
    "\n",
    "for i in range (0, len(profit)):\n",
    "    best_month.append(profit[i] == max(profit))\n",
    "best_month"
   ]
  },
  {
   "cell_type": "code",
   "execution_count": 9,
   "metadata": {},
   "outputs": [
    {
     "data": {
      "text/plain": [
       "[False,\n",
       " True,\n",
       " False,\n",
       " False,\n",
       " False,\n",
       " False,\n",
       " False,\n",
       " False,\n",
       " False,\n",
       " False,\n",
       " False,\n",
       " False]"
      ]
     },
     "execution_count": 9,
     "metadata": {},
     "output_type": "execute_result"
    }
   ],
   "source": [
    "# The Worst Month Is Where Profit Was Equal To The Minimum\n",
    "\n",
    "worst_month = []\n",
    "\n",
    "for i in range (0, len(profit)):\n",
    "    worst_month.append(profit[i] == min(profit))\n",
    "worst_month"
   ]
  }
 ],
 "metadata": {
  "kernelspec": {
   "display_name": "Python 3",
   "language": "python",
   "name": "python3"
  },
  "language_info": {
   "codemirror_mode": {
    "name": "ipython",
    "version": 3
   },
   "file_extension": ".py",
   "mimetype": "text/x-python",
   "name": "python",
   "nbconvert_exporter": "python",
   "pygments_lexer": "ipython3",
   "version": "3.7.3"
  }
 },
 "nbformat": 4,
 "nbformat_minor": 2
}
