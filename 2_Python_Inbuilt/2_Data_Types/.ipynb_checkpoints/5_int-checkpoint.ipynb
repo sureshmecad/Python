{
 "cells": [
  {
   "cell_type": "markdown",
   "metadata": {
    "id": "9o7KByhRe3OS"
   },
   "source": [
    "- The **int()** method returns an integer object from any **number or string.**\n",
    "\n",
    "##### **Syntax**:\n",
    "\n",
    "**int(x=0, base=10)**"
   ]
  },
  {
   "cell_type": "markdown",
   "metadata": {
    "id": "mwLsfj_djMGT"
   },
   "source": [
    "##### **int() Parameters**\n",
    "\n",
    "**int()** method takes two arguments:\n",
    "\n",
    "- **x** - Number or string to be converted to integer object.\n",
    "The default argument is zero.\n",
    "\n",
    "- **base** - Base of the number in **x**.\n",
    "Can be 0 (code literal) or 2-36."
   ]
  },
  {
   "cell_type": "markdown",
   "metadata": {
    "id": "ercK-ITVjkJm"
   },
   "source": [
    "##### **Return value from int()**\n",
    "\n",
    "**int()** method returns:\n",
    "\n",
    "- an integer object from the given number or string treats default base as 10\n",
    "\n",
    "- (No parameters) returns 0\n",
    "\n",
    "- (If base given) treats the string in the given base (0, 2, 8, 10, 16)"
   ]
  },
  {
   "cell_type": "code",
   "execution_count": null,
   "metadata": {
    "colab": {
     "base_uri": "https://localhost:8080/"
    },
    "id": "avS3XwuwkO4o",
    "outputId": "a733b3c1-7894-472c-89a4-93e0f97b522b"
   },
   "outputs": [
    {
     "name": "stdout",
     "output_type": "stream",
     "text": [
      "10\n",
      "10\n"
     ]
    }
   ],
   "source": [
    "print(int(10.5))\n",
    "\n",
    "print(int(\"10\"))"
   ]
  },
  {
   "cell_type": "code",
   "execution_count": null,
   "metadata": {
    "colab": {
     "base_uri": "https://localhost:8080/"
    },
    "id": "-KktEFx7e7RD",
    "outputId": "9ec643bf-dfc8-4f64-f01f-404be3948064"
   },
   "outputs": [
    {
     "name": "stdout",
     "output_type": "stream",
     "text": [
      "int(123) is: 123\n",
      "int(123.23) is: 123\n",
      "int('123') is: 123\n"
     ]
    }
   ],
   "source": [
    "# integer\n",
    "print(\"int(123) is:\", int(123))\n",
    "\n",
    "# float\n",
    "print(\"int(123.23) is:\", int(123.23))\n",
    "\n",
    "# string\n",
    "print(\"int('123') is:\", int('123'))"
   ]
  },
  {
   "cell_type": "markdown",
   "metadata": {
    "id": "tAsuLsvrm0nI"
   },
   "source": [
    "**int() using a float number**"
   ]
  },
  {
   "cell_type": "code",
   "execution_count": null,
   "metadata": {
    "colab": {
     "base_uri": "https://localhost:8080/"
    },
    "id": "e5YIAWJhm6yn",
    "outputId": "c51789d9-b3e1-4891-c077-a7fae4f4e791"
   },
   "outputs": [
    {
     "name": "stdout",
     "output_type": "stream",
     "text": [
      "25\n",
      "20\n",
      "30\n"
     ]
    }
   ],
   "source": [
    "flt_a = int(25.5)\n",
    " \n",
    "flt_b = int(20.3)\n",
    " \n",
    "flt_c = int(30.7)\n",
    " \n",
    "print (flt_a)\n",
    " \n",
    "print (flt_b)\n",
    " \n",
    "print (flt_c)"
   ]
  },
  {
   "cell_type": "markdown",
   "metadata": {
    "id": "6CPOwsZ_nD2o"
   },
   "source": [
    "**int() using a string**"
   ]
  },
  {
   "cell_type": "code",
   "execution_count": null,
   "metadata": {
    "colab": {
     "base_uri": "https://localhost:8080/"
    },
    "id": "rHMOelYrnH-_",
    "outputId": "f7d21c22-13a9-4e54-f6ab-ab07cd591057"
   },
   "outputs": [
    {
     "name": "stdout",
     "output_type": "stream",
     "text": [
      "11\n",
      "15\n",
      "21\n"
     ]
    }
   ],
   "source": [
    "str_a = int(\"11\")\n",
    " \n",
    "str_b = int(\"15\")\n",
    " \n",
    "str_c = int(\"21\")\n",
    " \n",
    "print (str_a)\n",
    " \n",
    "print (str_b)\n",
    " \n",
    "print (str_c)"
   ]
  },
  {
   "cell_type": "markdown",
   "metadata": {
    "id": "-HqhrNcYnXBm"
   },
   "source": [
    "**Using base argument in the int() function**\n",
    "\n",
    "- https://www.jquery-az.com/python-int/"
   ]
  },
  {
   "cell_type": "code",
   "execution_count": null,
   "metadata": {
    "colab": {
     "base_uri": "https://localhost:8080/"
    },
    "id": "j6WKe1_znYjm",
    "outputId": "8a6af228-270a-483b-b67c-1e3ac3127e81"
   },
   "outputs": [
    {
     "name": "stdout",
     "output_type": "stream",
     "text": [
      "10\n",
      "35\n",
      "1\n",
      "36\n"
     ]
    }
   ],
   "source": [
    "# Using base value 36 example\n",
    "\n",
    "bse36_1 = int('a', 36)\n",
    " \n",
    "bse36_2 = int('z', 36)\n",
    " \n",
    "bse36_3 = int('1', 36)\n",
    " \n",
    "bse36_4 = int('10', 36)\n",
    " \n",
    "print(bse36_1)\n",
    " \n",
    "print(bse36_2)\n",
    " \n",
    "print(bse36_3)\n",
    " \n",
    "print(bse36_4)"
   ]
  },
  {
   "cell_type": "markdown",
   "metadata": {
    "id": "d9qpxVjZSCtH"
   },
   "source": [
    "#### **Question 1**"
   ]
  },
  {
   "cell_type": "code",
   "execution_count": null,
   "metadata": {
    "colab": {
     "base_uri": "https://localhost:8080/"
    },
    "id": "Lwo3-el7SG1_",
    "outputId": "7d3358a3-5a2c-4653-cdad-1f294a5b1b67"
   },
   "outputs": [
    {
     "data": {
      "text/plain": [
       "44"
      ]
     },
     "execution_count": 31,
     "metadata": {
      "tags": []
     },
     "output_type": "execute_result"
    }
   ],
   "source": [
    "x = int(43.55 + 2/2)\n",
    "x"
   ]
  },
  {
   "cell_type": "markdown",
   "metadata": {
    "id": "eofBtGAaUBD0"
   },
   "source": [
    "#### **Question 2**"
   ]
  },
  {
   "cell_type": "code",
   "execution_count": null,
   "metadata": {
    "colab": {
     "base_uri": "https://localhost:8080/"
    },
    "id": "G77Bp4z2UFPV",
    "outputId": "b7ec7b7c-836a-49ea-c23d-14f06bbba96b"
   },
   "outputs": [
    {
     "name": "stdout",
     "output_type": "stream",
     "text": [
      "3\n",
      "333\n"
     ]
    }
   ],
   "source": [
    "a = input()\n",
    "\n",
    "b = int(int(7/2) * a)\n",
    "print(b)"
   ]
  },
  {
   "cell_type": "markdown",
   "metadata": {
    "id": "B242qM8sAj4P"
   },
   "source": [
    "-----------"
   ]
  }
 ],
 "metadata": {
  "colab": {
   "collapsed_sections": [],
   "name": "1. Interview_Questions.ipynb",
   "provenance": []
  },
  "kernelspec": {
   "display_name": "Python 3",
   "language": "python",
   "name": "python3"
  },
  "language_info": {
   "codemirror_mode": {
    "name": "ipython",
    "version": 3
   },
   "file_extension": ".py",
   "mimetype": "text/x-python",
   "name": "python",
   "nbconvert_exporter": "python",
   "pygments_lexer": "ipython3",
   "version": "3.7.3"
  }
 },
 "nbformat": 4,
 "nbformat_minor": 1
}
