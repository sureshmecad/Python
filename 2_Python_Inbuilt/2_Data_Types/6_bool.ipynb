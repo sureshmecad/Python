{
 "cells": [
  {
   "cell_type": "markdown",
   "metadata": {
    "id": "nbI2xa0EYYuc"
   },
   "source": [
    "- The bool() function converts a value to Boolean **(True or False)** using the standard truth testing procedure.\n",
    "\n",
    "##### **bool() parameters**\n",
    "\n",
    "- It's not mandatory to pass a value to bool(). If you **do not** pass a value, **bool()** returns **False**.\n",
    "\n",
    "- In general use, bool() takes a single parameter value."
   ]
  },
  {
   "cell_type": "markdown",
   "metadata": {
    "id": "t7mKjRBvcsHP"
   },
   "source": [
    "##### **Return Value from bool()**\n",
    "\n",
    "**bool() returns:**\n",
    "\n",
    "- **False** if the **value** is omitted or false\n",
    "\n",
    "- **True** if the **value** is true"
   ]
  },
  {
   "cell_type": "markdown",
   "metadata": {
    "id": "2nhuusCratY_"
   },
   "source": [
    "##### **The following values are considered false in Python:**\n",
    "\n",
    "- **None**\n",
    "\n",
    "- **False**\n",
    "\n",
    "- Zero of any numeric type. For example, **0, 0.0, 0j**\n",
    "\n",
    "- Empty sequence. For example, **(), [], ''.**\n",
    "\n",
    "- Empty mapping. For example, **{}**\n",
    "\n",
    "- objects of Classes which has __bool__() or __len()__ method which returns 0 or False"
   ]
  },
  {
   "cell_type": "code",
   "execution_count": null,
   "metadata": {
    "colab": {
     "base_uri": "https://localhost:8080/"
    },
    "id": "7kHxbr6-cW7u",
    "outputId": "7e9001e9-b990-4039-dccc-147ce4a5d9f5"
   },
   "outputs": [
    {
     "name": "stdout",
     "output_type": "stream",
     "text": [
      "[] is False\n",
      "[0] is True\n",
      "0.0 is False\n",
      "None is False\n",
      "True is True\n",
      "Easy string is True\n"
     ]
    }
   ],
   "source": [
    "test = []\n",
    "print(test,'is',bool(test))\n",
    "\n",
    "test = [0]\n",
    "print(test,'is',bool(test))\n",
    "\n",
    "test = 0.0\n",
    "print(test,'is',bool(test))\n",
    "\n",
    "test = None\n",
    "print(test,'is',bool(test))\n",
    "\n",
    "test = True\n",
    "print(test,'is',bool(test))\n",
    "\n",
    "test = 'Easy string'\n",
    "print(test,'is',bool(test))"
   ]
  },
  {
   "cell_type": "markdown",
   "metadata": {
    "id": "PfwM8O4lRNui"
   },
   "source": [
    "#### **Question 1**"
   ]
  },
  {
   "cell_type": "code",
   "execution_count": null,
   "metadata": {
    "colab": {
     "base_uri": "https://localhost:8080/"
    },
    "id": "2LSTTzB7Vkpj",
    "outputId": "e1db0769-e447-4356-9b17-f78a23ee222b"
   },
   "outputs": [
    {
     "data": {
      "text/plain": [
       "143"
      ]
     },
     "execution_count": 4,
     "metadata": {
      "tags": []
     },
     "output_type": "execute_result"
    }
   ],
   "source": [
    "# for True value 1 will be taken\n",
    "# for False value 0 will be taken\n",
    "\n",
    "89 + bool('s') - True + False - int('12') + 67 - bool(8) + False"
   ]
  },
  {
   "cell_type": "code",
   "execution_count": null,
   "metadata": {
    "colab": {
     "base_uri": "https://localhost:8080/"
    },
    "id": "rPzWn-LZWWE3",
    "outputId": "0e6d29a9-9f91-4039-b187-35acdd9d97cf"
   },
   "outputs": [
    {
     "data": {
      "text/plain": [
       "-1"
      ]
     },
     "execution_count": 13,
     "metadata": {
      "tags": []
     },
     "output_type": "execute_result"
    }
   ],
   "source": [
    "False+False-True"
   ]
  },
  {
   "cell_type": "code",
   "execution_count": null,
   "metadata": {
    "colab": {
     "base_uri": "https://localhost:8080/"
    },
    "id": "TcselMRAXT9R",
    "outputId": "06f05ac2-0808-45e8-8ea1-589e867ac54a"
   },
   "outputs": [
    {
     "data": {
      "text/plain": [
       "True"
      ]
     },
     "execution_count": 14,
     "metadata": {
      "tags": []
     },
     "output_type": "execute_result"
    }
   ],
   "source": [
    "bool('s')"
   ]
  },
  {
   "cell_type": "code",
   "execution_count": null,
   "metadata": {
    "colab": {
     "base_uri": "https://localhost:8080/"
    },
    "id": "vClcU6WPXWnQ",
    "outputId": "dae0a0f4-cfa2-45c9-e5ba-4fbd6ed9ac4d"
   },
   "outputs": [
    {
     "data": {
      "text/plain": [
       "True"
      ]
     },
     "execution_count": 15,
     "metadata": {
      "tags": []
     },
     "output_type": "execute_result"
    }
   ],
   "source": [
    "bool(8)"
   ]
  },
  {
   "cell_type": "code",
   "execution_count": null,
   "metadata": {
    "colab": {
     "base_uri": "https://localhost:8080/"
    },
    "id": "V8gKfD25Xcsr",
    "outputId": "94f115f3-b86d-4518-df1a-070436f13728"
   },
   "outputs": [
    {
     "data": {
      "text/plain": [
       "0"
      ]
     },
     "execution_count": 16,
     "metadata": {
      "tags": []
     },
     "output_type": "execute_result"
    }
   ],
   "source": [
    "bool('s') - bool(8)"
   ]
  },
  {
   "cell_type": "code",
   "execution_count": null,
   "metadata": {
    "colab": {
     "base_uri": "https://localhost:8080/"
    },
    "id": "LQJQoyoBpUUV",
    "outputId": "c45c3dd9-ef38-4644-8679-ecb7705e17b7"
   },
   "outputs": [
    {
     "data": {
      "text/plain": [
       "0"
      ]
     },
     "execution_count": 29,
     "metadata": {
      "tags": []
     },
     "output_type": "execute_result"
    }
   ],
   "source": [
    "True - True"
   ]
  },
  {
   "cell_type": "code",
   "execution_count": null,
   "metadata": {
    "colab": {
     "base_uri": "https://localhost:8080/"
    },
    "id": "ZZLmDXlec8yo",
    "outputId": "2785cb09-2bb1-4d7d-fe3e-9ccc0c0be5bc"
   },
   "outputs": [
    {
     "data": {
      "text/plain": [
       "12"
      ]
     },
     "execution_count": 18,
     "metadata": {
      "tags": []
     },
     "output_type": "execute_result"
    }
   ],
   "source": [
    "int('12')"
   ]
  },
  {
   "cell_type": "markdown",
   "metadata": {
    "id": "C72FalONRT0R"
   },
   "source": [
    "#### **Question 2**"
   ]
  },
  {
   "cell_type": "code",
   "execution_count": null,
   "metadata": {
    "colab": {
     "base_uri": "https://localhost:8080/"
    },
    "id": "_aM83wxwRXmI",
    "outputId": "c06119cb-5734-46b0-c230-1d9fe66a1162"
   },
   "outputs": [
    {
     "name": "stdout",
     "output_type": "stream",
     "text": [
      "85\n"
     ]
    }
   ],
   "source": [
    "x = True + False + 3\n",
    "y = False * False + 9**2\n",
    "\n",
    "print(x + y)"
   ]
  },
  {
   "cell_type": "markdown",
   "metadata": {
    "id": "pIMOD-3NXlFQ"
   },
   "source": [
    "------------------"
   ]
  }
 ],
 "metadata": {
  "colab": {
   "collapsed_sections": [],
   "name": "1. Interview_Questions.ipynb",
   "provenance": []
  },
  "kernelspec": {
   "display_name": "Python 3",
   "language": "python",
   "name": "python3"
  },
  "language_info": {
   "codemirror_mode": {
    "name": "ipython",
    "version": 3
   },
   "file_extension": ".py",
   "mimetype": "text/x-python",
   "name": "python",
   "nbconvert_exporter": "python",
   "pygments_lexer": "ipython3",
   "version": "3.7.3"
  }
 },
 "nbformat": 4,
 "nbformat_minor": 1
}
