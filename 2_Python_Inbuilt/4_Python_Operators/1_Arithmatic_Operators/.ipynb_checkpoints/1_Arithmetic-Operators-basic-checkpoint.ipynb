{
 "cells": [
  {
   "cell_type": "markdown",
   "metadata": {
    "id": "3Rc7-TBrDm2e"
   },
   "source": [
    "### **8. Python Arithmetic Operators**\n",
    "\n",
    "|Operator      |Description                    |  Syntax  |               \n",
    "|--------------|-------------------------------|----------|\n",
    "|+             |Addition                       |   x + y  |\n",
    "|-             |Subtraction                    |   x - y  |\n",
    "|*             |Multiplication                 |   x*y    |\n",
    "|/             |Division                       |   x / y  |\n",
    "|%             |Modulus                        |   x % y  |\n",
    "|**            |Exponentiation                 |   x ** y |\n",
    "|//            |Floor division                 |   x // y |"
   ]
  },
  {
   "cell_type": "markdown",
   "metadata": {
    "id": "ZAJYwOmd8lUE"
   },
   "source": [
    "#### **8.1) Addition**"
   ]
  },
  {
   "cell_type": "code",
   "execution_count": null,
   "metadata": {
    "colab": {
     "base_uri": "https://localhost:8080/"
    },
    "id": "77DdQdfO8pzM",
    "outputId": "ca8179e4-0923-41e9-b937-76472345428e"
   },
   "outputs": [
    {
     "name": "stdout",
     "output_type": "stream",
     "text": [
      "4\n"
     ]
    }
   ],
   "source": [
    "a = input()"
   ]
  },
  {
   "cell_type": "code",
   "execution_count": null,
   "metadata": {
    "colab": {
     "base_uri": "https://localhost:8080/",
     "height": 163
    },
    "id": "sAf86SFN8w2c",
    "outputId": "7f7c6fa4-fdf5-476b-bf2e-6b5a635d8490"
   },
   "outputs": [
    {
     "ename": "TypeError",
     "evalue": "ignored",
     "output_type": "error",
     "traceback": [
      "\u001b[0;31m---------------------------------------------------------------------------\u001b[0m",
      "\u001b[0;31mTypeError\u001b[0m                                 Traceback (most recent call last)",
      "\u001b[0;32m<ipython-input-56-8dc697c55f48>\u001b[0m in \u001b[0;36m<module>\u001b[0;34m()\u001b[0m\n\u001b[0;32m----> 1\u001b[0;31m \u001b[0mprint\u001b[0m\u001b[0;34m(\u001b[0m\u001b[0ma\u001b[0m\u001b[0;34m+\u001b[0m\u001b[0;36m2\u001b[0m\u001b[0;34m)\u001b[0m\u001b[0;34m\u001b[0m\u001b[0;34m\u001b[0m\u001b[0m\n\u001b[0m",
      "\u001b[0;31mTypeError\u001b[0m: can only concatenate str (not \"int\") to str"
     ]
    }
   ],
   "source": [
    "print(a+2)"
   ]
  },
  {
   "cell_type": "markdown",
   "metadata": {
    "id": "gS0SZqr-Y-Ng"
   },
   "source": [
    "### **8.2) Extend**"
   ]
  },
  {
   "cell_type": "code",
   "execution_count": null,
   "metadata": {
    "colab": {
     "base_uri": "https://localhost:8080/"
    },
    "id": "rFLAdT_aZC3K",
    "outputId": "8249eeee-d4bb-481c-9c96-005b98a4a8f3"
   },
   "outputs": [
    {
     "name": "stdout",
     "output_type": "stream",
     "text": [
      "[3, 4, 5, 7, 9, 34, 5]\n"
     ]
    }
   ],
   "source": [
    "list1 = [3, 4, 5, 7, 9]\n",
    "list1.extend([34,5])\n",
    "print(list1)"
   ]
  },
  {
   "cell_type": "markdown",
   "metadata": {
    "id": "hVOEurm-rIHi"
   },
   "source": [
    "#### **8.3) Multiplication**"
   ]
  },
  {
   "cell_type": "code",
   "execution_count": null,
   "metadata": {
    "colab": {
     "base_uri": "https://localhost:8080/"
    },
    "id": "tAxSAcqVDbF0",
    "outputId": "6297e952-0320-45eb-ffea-64afd1106714"
   },
   "outputs": [
    {
     "name": "stdout",
     "output_type": "stream",
     "text": [
      "lolo\n"
     ]
    }
   ],
   "source": [
    "b = \"Hello, World!\"\n",
    "print(b[2:5:2]*2)"
   ]
  },
  {
   "cell_type": "code",
   "execution_count": null,
   "metadata": {
    "colab": {
     "base_uri": "https://localhost:8080/",
     "height": 35
    },
    "id": "A6jDwwSP8k2o",
    "outputId": "23758108-c129-4e29-8300-2ca19c0e7e1f"
   },
   "outputs": [
    {
     "data": {
      "application/vnd.google.colaboratory.intrinsic+json": {
       "type": "string"
      },
      "text/plain": [
       "'hihihi'"
      ]
     },
     "execution_count": 59,
     "metadata": {
      "tags": []
     },
     "output_type": "execute_result"
    }
   ],
   "source": [
    "a = 'hi'*3\n",
    "a"
   ]
  },
  {
   "cell_type": "code",
   "execution_count": null,
   "metadata": {
    "colab": {
     "base_uri": "https://localhost:8080/",
     "height": 35
    },
    "id": "3VaIwTB98BbS",
    "outputId": "51f3f688-721c-4298-8a57-4a7b65b8607a"
   },
   "outputs": [
    {
     "data": {
      "application/vnd.google.colaboratory.intrinsic+json": {
       "type": "string"
      },
      "text/plain": [
       "'hihihi'"
      ]
     },
     "execution_count": 60,
     "metadata": {
      "tags": []
     },
     "output_type": "execute_result"
    }
   ],
   "source": [
    "a = ('hi')*3\n",
    "a"
   ]
  },
  {
   "cell_type": "code",
   "execution_count": null,
   "metadata": {
    "colab": {
     "base_uri": "https://localhost:8080/"
    },
    "id": "kwFjJ0t68WAq",
    "outputId": "ae0506f2-dc4d-450e-840d-56d4798864aa"
   },
   "outputs": [
    {
     "data": {
      "text/plain": [
       "['hi', 'hi', 'hi']"
      ]
     },
     "execution_count": 61,
     "metadata": {
      "tags": []
     },
     "output_type": "execute_result"
    }
   ],
   "source": [
    "a = ['hi']*3\n",
    "a"
   ]
  },
  {
   "cell_type": "markdown",
   "metadata": {
    "id": "_88iuPavrSdz"
   },
   "source": [
    "#### **8.4) Floor Division**"
   ]
  },
  {
   "cell_type": "code",
   "execution_count": null,
   "metadata": {
    "colab": {
     "base_uri": "https://localhost:8080/"
    },
    "id": "4QPR4Wyjxefb",
    "outputId": "2d263ba9-c5de-4533-b2ba-43892c28afd3"
   },
   "outputs": [
    {
     "name": "stdout",
     "output_type": "stream",
     "text": [
      "2\n"
     ]
    }
   ],
   "source": [
    "quotient = 7 // 3     # This is the integer division operator\n",
    "print(quotient)"
   ]
  },
  {
   "cell_type": "code",
   "execution_count": null,
   "metadata": {
    "colab": {
     "base_uri": "https://localhost:8080/"
    },
    "id": "QHuLClaZDa-L",
    "outputId": "47b466fb-5ca7-4691-a356-2619541fda40"
   },
   "outputs": [
    {
     "name": "stdout",
     "output_type": "stream",
     "text": [
      "4\n"
     ]
    }
   ],
   "source": [
    "# What is the output of the following statement?\n",
    "# Floor Division (Arithmetic Operation)\n",
    "\n",
    "x = 8\n",
    "y = 2\n",
    "print(x // y)"
   ]
  },
  {
   "cell_type": "markdown",
   "metadata": {
    "id": "4z0o319DbO2l"
   },
   "source": [
    "#### Which one of these is floor division?\n",
    "\n",
    "a. /\n",
    "\n",
    "b. //\n",
    "\n",
    "c. %\n",
    "\n",
    "d. None"
   ]
  },
  {
   "cell_type": "markdown",
   "metadata": {
    "id": "kkdE3-7mr259"
   },
   "source": [
    "#### **8.5) Modulus**\n",
    "- Reminder"
   ]
  },
  {
   "cell_type": "code",
   "execution_count": null,
   "metadata": {
    "colab": {
     "base_uri": "https://localhost:8080/"
    },
    "id": "KvE7wdKRs2di",
    "outputId": "46157973-5fd7-415e-fe6d-1c9dc0d91b00"
   },
   "outputs": [
    {
     "name": "stdout",
     "output_type": "stream",
     "text": [
      "1\n"
     ]
    }
   ],
   "source": [
    "remainder = 7 % 3\n",
    "print(remainder)"
   ]
  },
  {
   "cell_type": "markdown",
   "metadata": {
    "id": "W7yPndo5Yi7e"
   },
   "source": [
    "### Question"
   ]
  },
  {
   "cell_type": "code",
   "execution_count": null,
   "metadata": {
    "colab": {
     "base_uri": "https://localhost:8080/",
     "height": 129
    },
    "id": "WPOKHTeWqgEY",
    "outputId": "359bb3b7-a483-4a85-ed73-fead7fd5c963"
   },
   "outputs": [
    {
     "ename": "SyntaxError",
     "evalue": "ignored",
     "output_type": "error",
     "traceback": [
      "\u001b[0;36m  File \u001b[0;32m\"<ipython-input-83-7e25bcee54f9>\"\u001b[0;36m, line \u001b[0;32m1\u001b[0m\n\u001b[0;31m    1a = 1.0\u001b[0m\n\u001b[0m     ^\u001b[0m\n\u001b[0;31mSyntaxError\u001b[0m\u001b[0;31m:\u001b[0m invalid syntax\n"
     ]
    }
   ],
   "source": [
    "1a = 1.0\n",
    "print(1a%2)"
   ]
  },
  {
   "cell_type": "markdown",
   "metadata": {
    "id": "5BGpa5uy8HNU"
   },
   "source": [
    "- **Variables** can't start with a **number**"
   ]
  },
  {
   "cell_type": "code",
   "execution_count": null,
   "metadata": {
    "colab": {
     "base_uri": "https://localhost:8080/"
    },
    "id": "FPZ0hXB-Ym2O",
    "outputId": "0343e8a9-8b28-4627-f7f6-1c361a18a49c"
   },
   "outputs": [
    {
     "name": "stdout",
     "output_type": "stream",
     "text": [
      "1.0\n"
     ]
    }
   ],
   "source": [
    "a = 1.0\n",
    "print(a % 2 )"
   ]
  },
  {
   "cell_type": "markdown",
   "metadata": {
    "id": "s9EXawMkFpF9"
   },
   "source": [
    "#### **8.6) Power**"
   ]
  },
  {
   "cell_type": "code",
   "execution_count": null,
   "metadata": {
    "colab": {
     "base_uri": "https://localhost:8080/"
    },
    "id": "lUkyEBmeFuXJ",
    "outputId": "688d4c64-c9fd-4497-c783-d48de52873e8"
   },
   "outputs": [
    {
     "name": "stdout",
     "output_type": "stream",
     "text": [
      "216\n"
     ]
    }
   ],
   "source": [
    "print(2*3**3*4)"
   ]
  },
  {
   "cell_type": "markdown",
   "metadata": {
    "id": "ufUF9vGptZSc"
   },
   "source": [
    "--------------------------------------------------------------------------------"
   ]
  }
 ],
 "metadata": {
  "colab": {
   "collapsed_sections": [],
   "name": "1. Interview_Questions.ipynb",
   "provenance": []
  },
  "kernelspec": {
   "display_name": "Python 3",
   "language": "python",
   "name": "python3"
  },
  "language_info": {
   "codemirror_mode": {
    "name": "ipython",
    "version": 3
   },
   "file_extension": ".py",
   "mimetype": "text/x-python",
   "name": "python",
   "nbconvert_exporter": "python",
   "pygments_lexer": "ipython3",
   "version": "3.7.3"
  }
 },
 "nbformat": 4,
 "nbformat_minor": 1
}
