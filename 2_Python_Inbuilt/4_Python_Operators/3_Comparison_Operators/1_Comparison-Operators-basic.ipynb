{
 "cells": [
  {
   "cell_type": "markdown",
   "metadata": {
    "id": "BEi3cX39D-DA"
   },
   "source": [
    "### **Python Comparison Operators**\n",
    "\n",
    "|Operator    |Description                      |Syntax     |\n",
    "|------------|---------------------------------|-----------|\n",
    "|==          |Equal                            |  x == y   |\n",
    "|!=          |Not equal                        |  x != y   |\n",
    "|>           |Greater than                     |  x > y    |\n",
    "|<           |Less than                        |  x < y    |\n",
    "|>=          |Greater than or equal to         |  x >= y   |\n",
    "|<=          |Less than or equal to            |  x <= y   |"
   ]
  },
  {
   "cell_type": "markdown",
   "metadata": {
    "id": "AYkE4VDywuNA"
   },
   "source": [
    "##### **Question 1**"
   ]
  },
  {
   "cell_type": "code",
   "execution_count": null,
   "metadata": {
    "colab": {
     "base_uri": "https://localhost:8080/"
    },
    "id": "Qa0gor29DbJr",
    "outputId": "ae0265ec-37b3-4763-e564-4d9805c1bf5b"
   },
   "outputs": [
    {
     "name": "stdout",
     "output_type": "stream",
     "text": [
      "True\n"
     ]
    }
   ],
   "source": [
    "num1 = 3**5\n",
    "num2 = 3**5.0\n",
    "print(num1 == num2)"
   ]
  },
  {
   "cell_type": "markdown",
   "metadata": {
    "id": "G7Yyc4SJwzxP"
   },
   "source": [
    "##### **Question 2**"
   ]
  },
  {
   "cell_type": "code",
   "execution_count": null,
   "metadata": {
    "id": "IMGvOHhwtlIq"
   },
   "outputs": [],
   "source": [
    "x,y = 10, 50\n",
    "if (x**2 > 100 and y < 100):\n",
    "  print(x,y)\n",
    "\n",
    "# A. Nothing will print\n",
    "# B. 10 50\n",
    "# C. 100 500\n",
    "# D. Error"
   ]
  },
  {
   "cell_type": "code",
   "execution_count": null,
   "metadata": {
    "colab": {
     "base_uri": "https://localhost:8080/"
    },
    "id": "xGYe-2B4wdvP",
    "outputId": "15e02465-0dd4-4741-81f4-512d1674d6f9"
   },
   "outputs": [
    {
     "name": "stdout",
     "output_type": "stream",
     "text": [
      "10 50\n"
     ]
    }
   ],
   "source": [
    "x,y = 10, 50\n",
    "if (x**2 > 90 and y < 100):\n",
    "  print(x,y)"
   ]
  },
  {
   "cell_type": "markdown",
   "metadata": {
    "id": "dr5k0ULLEV8P"
   },
   "source": [
    "##### **Question 3**"
   ]
  },
  {
   "cell_type": "code",
   "execution_count": null,
   "metadata": {
    "colab": {
     "base_uri": "https://localhost:8080/"
    },
    "id": "o0EMhMS5EaAS",
    "outputId": "1c59fcea-9554-440a-b05e-996ba8aba19f"
   },
   "outputs": [
    {
     "name": "stdout",
     "output_type": "stream",
     "text": [
      "False\n"
     ]
    }
   ],
   "source": [
    "x = \"Community\"\n",
    "y = \"Community\"\n",
    "print(x > y)"
   ]
  },
  {
   "cell_type": "markdown",
   "metadata": {
    "id": "TsFcZ4d0Q4qh"
   },
   "source": [
    "##### **Question 4**"
   ]
  },
  {
   "cell_type": "code",
   "execution_count": null,
   "metadata": {
    "colab": {
     "base_uri": "https://localhost:8080/"
    },
    "id": "oA9sDt7pQ852",
    "outputId": "fec67c89-2639-4ffd-9408-ac5126083274"
   },
   "outputs": [
    {
     "name": "stdout",
     "output_type": "stream",
     "text": [
      "True\n"
     ]
    }
   ],
   "source": [
    "print((8 < 9) > 0)"
   ]
  },
  {
   "cell_type": "markdown",
   "metadata": {
    "id": "CXe2pDDSsWwZ"
   },
   "source": [
    "##### **Question 5**"
   ]
  },
  {
   "cell_type": "code",
   "execution_count": null,
   "metadata": {
    "colab": {
     "base_uri": "https://localhost:8080/",
     "height": 129
    },
    "id": "VZvKUQnvsbI7",
    "outputId": "0b42dc84-e6af-41cd-b2ba-89d536aee8a9"
   },
   "outputs": [
    {
     "ename": "SyntaxError",
     "evalue": "ignored",
     "output_type": "error",
     "traceback": [
      "\u001b[0;36m  File \u001b[0;32m\"<ipython-input-6-0094276110cc>\"\u001b[0;36m, line \u001b[0;32m2\u001b[0m\n\u001b[0;31m    y = x+=1\u001b[0m\n\u001b[0m          ^\u001b[0m\n\u001b[0;31mSyntaxError\u001b[0m\u001b[0;31m:\u001b[0m invalid syntax\n"
     ]
    }
   ],
   "source": [
    "x = y = 10\n",
    "y = x+=1\n",
    "print(y)"
   ]
  },
  {
   "cell_type": "markdown",
   "metadata": {
    "id": "2v43FAGesthX"
   },
   "source": [
    "##### **Question 6**"
   ]
  },
  {
   "cell_type": "code",
   "execution_count": null,
   "metadata": {
    "colab": {
     "base_uri": "https://localhost:8080/"
    },
    "id": "0a0E7S_JsxG3",
    "outputId": "b15c0779-7fa1-4ff3-a310-20d190b75c70"
   },
   "outputs": [
    {
     "name": "stdout",
     "output_type": "stream",
     "text": [
      "True\n"
     ]
    }
   ],
   "source": [
    "a = [10, 20]\n",
    "b = a\n",
    "b += [30, 40]\n",
    "print(a == b)"
   ]
  },
  {
   "cell_type": "markdown",
   "metadata": {
    "id": "HeUBD35jC_tp"
   },
   "source": [
    "----------------------------------"
   ]
  }
 ],
 "metadata": {
  "colab": {
   "collapsed_sections": [],
   "name": "1. Interview_Questions.ipynb",
   "provenance": []
  },
  "kernelspec": {
   "display_name": "Python 3",
   "language": "python",
   "name": "python3"
  },
  "language_info": {
   "codemirror_mode": {
    "name": "ipython",
    "version": 3
   },
   "file_extension": ".py",
   "mimetype": "text/x-python",
   "name": "python",
   "nbconvert_exporter": "python",
   "pygments_lexer": "ipython3",
   "version": "3.7.3"
  }
 },
 "nbformat": 4,
 "nbformat_minor": 1
}
