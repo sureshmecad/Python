{
 "cells": [
  {
   "cell_type": "markdown",
   "metadata": {
    "id": "pCIJme83fymC"
   },
   "source": [
    "### **Logical Operators**"
   ]
  },
  {
   "cell_type": "markdown",
   "metadata": {
    "id": "MuxetiA9f8Wr"
   },
   "source": [
    "|Operator |Description                                             |Syntax   |\n",
    "|---------|--------------------------------------------------------|---------|\n",
    "|and      |Returns **True** if **both statements are true**        | x and y |\n",
    "|or       |Returns **True** if **one of the statements is true**   | x or y  |\n",
    "|not      |Reverse the result, returns **False** if the result is  | not x   |\n",
    "|         |**true**. **True** if operand is **false**              |         |"
   ]
  },
  {
   "cell_type": "code",
   "execution_count": null,
   "metadata": {
    "colab": {
     "base_uri": "https://localhost:8080/"
    },
    "id": "4wtNqHYS0SXv",
    "outputId": "55bb7dd8-9aa9-49b1-851c-1554d4fca70b"
   },
   "outputs": [
    {
     "name": "stdout",
     "output_type": "stream",
     "text": [
      "False\n",
      "True\n",
      "False\n"
     ]
    }
   ],
   "source": [
    "# Examples of Logical Operator\n",
    "a = True\n",
    "b = False\n",
    "  \n",
    "# Print a and b is False\n",
    "print(a and b)\n",
    "  \n",
    "# Print a or b is True\n",
    "print(a or b)\n",
    "  \n",
    "# Print not a is False\n",
    "print(not a)"
   ]
  },
  {
   "cell_type": "code",
   "execution_count": null,
   "metadata": {
    "colab": {
     "base_uri": "https://localhost:8080/"
    },
    "id": "jqD6uyAEiUHQ",
    "outputId": "585c8a91-424a-4367-e219-bdf17c84f4b9"
   },
   "outputs": [
    {
     "name": "stdout",
     "output_type": "stream",
     "text": [
      "True\n"
     ]
    }
   ],
   "source": [
    "# returns True because 5 is greater than 3 AND 5 is less than 10\n",
    "x = 5\n",
    "print(x > 3 and x < 10)"
   ]
  },
  {
   "cell_type": "code",
   "execution_count": null,
   "metadata": {
    "colab": {
     "base_uri": "https://localhost:8080/"
    },
    "id": "Dn6Bcjjkiwlq",
    "outputId": "06223618-5138-440e-eef2-e1af85c20bbd"
   },
   "outputs": [
    {
     "name": "stdout",
     "output_type": "stream",
     "text": [
      "False\n"
     ]
    }
   ],
   "source": [
    "# returns False because not is used to reverse the result\n",
    "x = 5\n",
    "print(not(x > 3 and x < 10))"
   ]
  },
  {
   "cell_type": "code",
   "execution_count": null,
   "metadata": {
    "colab": {
     "base_uri": "https://localhost:8080/"
    },
    "id": "JyuIerQ1iek_",
    "outputId": "01363a4e-084b-460f-defc-15387a724d35"
   },
   "outputs": [
    {
     "name": "stdout",
     "output_type": "stream",
     "text": [
      "True\n"
     ]
    }
   ],
   "source": [
    "# returns True because one of the conditions are true (5 is greater than 3, but 5 is not less than 4)\n",
    "x = 5\n",
    "print(x > 3 or x < 4)"
   ]
  },
  {
   "cell_type": "markdown",
   "metadata": {
    "id": "EOx5QfyyE16T"
   },
   "source": [
    "#### **Question 1**"
   ]
  },
  {
   "cell_type": "code",
   "execution_count": null,
   "metadata": {
    "colab": {
     "base_uri": "https://localhost:8080/"
    },
    "id": "klZl4_dmf7jL",
    "outputId": "28c14b83-065a-47ac-cf88-f8146b5b7804"
   },
   "outputs": [
    {
     "name": "stdout",
     "output_type": "stream",
     "text": [
      "True\n"
     ]
    }
   ],
   "source": [
    "a = True\n",
    "b = False\n",
    "print(a or a and b)"
   ]
  },
  {
   "cell_type": "markdown",
   "metadata": {
    "id": "sMnuuhaGf6CC"
   },
   "source": [
    "-----------------------------"
   ]
  }
 ],
 "metadata": {
  "colab": {
   "collapsed_sections": [],
   "name": "1. Interview_Questions.ipynb",
   "provenance": []
  },
  "kernelspec": {
   "display_name": "Python 3",
   "language": "python",
   "name": "python3"
  },
  "language_info": {
   "codemirror_mode": {
    "name": "ipython",
    "version": 3
   },
   "file_extension": ".py",
   "mimetype": "text/x-python",
   "name": "python",
   "nbconvert_exporter": "python",
   "pygments_lexer": "ipython3",
   "version": "3.7.3"
  }
 },
 "nbformat": 4,
 "nbformat_minor": 1
}
