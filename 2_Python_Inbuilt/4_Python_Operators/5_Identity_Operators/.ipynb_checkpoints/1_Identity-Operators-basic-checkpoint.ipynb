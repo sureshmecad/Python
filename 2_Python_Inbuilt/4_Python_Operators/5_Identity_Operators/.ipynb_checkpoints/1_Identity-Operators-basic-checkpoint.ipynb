{
 "cells": [
  {
   "cell_type": "markdown",
   "metadata": {
    "id": "4ZlsrbkK9KtM"
   },
   "source": [
    "### **Identity Operators**\n",
    "\n",
    "- Identity operators are used to compare the objects, not if they are equal, but if they are actually the **same object**, with the **same memory location**\n",
    "\n",
    "|Operator|Description                                             |Example   |\n",
    "|--------|--------------------------------------------------------|----------|\n",
    "|is      |Returns True if both variables are the same object      |x is y    |\n",
    "|is not  |Returns True if both variables are not the same object  |x is not y|"
   ]
  },
  {
   "cell_type": "code",
   "execution_count": null,
   "metadata": {
    "colab": {
     "base_uri": "https://localhost:8080/"
    },
    "id": "sz348XV9_8Jk",
    "outputId": "773665b7-7bd7-4bcb-e77d-704a15224ff8"
   },
   "outputs": [
    {
     "name": "stdout",
     "output_type": "stream",
     "text": [
      "True\n",
      "True\n",
      "True\n",
      "False\n"
     ]
    }
   ],
   "source": [
    "# python will assign same memory allocation for both variables\n",
    "\n",
    "num1 = 100\n",
    "num2 = 100\n",
    "\n",
    "print(num1 == num2)\n",
    "print(num1 is num2)\n",
    "\n",
    "# List is mutable, assigns different memory allocation\n",
    "\n",
    "l1 = [10, 20, 30]\n",
    "l2 = [10, 20, 30]\n",
    "\n",
    "print(l1 == l2)\n",
    "print(l1 is l2)"
   ]
  },
  {
   "cell_type": "markdown",
   "metadata": {
    "id": "fN3Ptb6BADdM"
   },
   "source": [
    "- == operator compares the values\n",
    "\n",
    "- **is** operator compares the **memory location**"
   ]
  },
  {
   "cell_type": "code",
   "execution_count": null,
   "metadata": {
    "colab": {
     "base_uri": "https://localhost:8080/"
    },
    "id": "XEVh8Vb8CShf",
    "outputId": "7e4c4fa5-6801-4adf-da41-faec9f297b37"
   },
   "outputs": [
    {
     "name": "stdout",
     "output_type": "stream",
     "text": [
      "True\n",
      "True\n",
      "True\n",
      "True\n"
     ]
    }
   ],
   "source": [
    "# python will assign same memory allocation for both variables\n",
    "\n",
    "num1 = 100\n",
    "num2 = 100\n",
    "\n",
    "print(num1 == num2)\n",
    "print(num1 is num2)\n",
    "\n",
    "# List is mutable, assigns different memory allocation\n",
    "\n",
    "l1 = [10, 20, 30]\n",
    "l2 = [10, 20, 30]\n",
    "\n",
    "print(l1 == l2)\n",
    "print(l1 is not l2)"
   ]
  },
  {
   "cell_type": "code",
   "execution_count": null,
   "metadata": {
    "colab": {
     "base_uri": "https://localhost:8080/"
    },
    "id": "QcvJYGyL-I8L",
    "outputId": "a4459e2e-d953-4109-8b7c-98181f7f6538"
   },
   "outputs": [
    {
     "name": "stdout",
     "output_type": "stream",
     "text": [
      "True\n",
      "False\n",
      "True\n"
     ]
    }
   ],
   "source": [
    "x = [\"apple\", \"banana\"]\n",
    "y = [\"apple\", \"banana\"]\n",
    "z = x\n",
    "\n",
    "print(x is z)\n",
    "\n",
    "# returns True because z is the same object as x\n",
    "\n",
    "print(x is y)\n",
    "\n",
    "# returns False because x is not the same object as y, even if they have the same content\n",
    "\n",
    "print(x == y)\n",
    "\n",
    "# to demonstrate the difference betweeen \"is\" and \"==\": this comparison returns True because x is equal to y"
   ]
  },
  {
   "cell_type": "code",
   "execution_count": null,
   "metadata": {
    "colab": {
     "base_uri": "https://localhost:8080/"
    },
    "id": "H2CLp_Qz_0G4",
    "outputId": "ce2eb5e2-f334-4ce6-b663-8d5643242539"
   },
   "outputs": [
    {
     "name": "stdout",
     "output_type": "stream",
     "text": [
      "False\n",
      "True\n",
      "False\n"
     ]
    }
   ],
   "source": [
    "x = [\"apple\", \"banana\"]\n",
    "y = [\"apple\", \"banana\"]\n",
    "z = x\n",
    "\n",
    "print(x is not z)\n",
    "\n",
    "# returns False because z is the same object as x\n",
    "\n",
    "print(x is not y)\n",
    "\n",
    "# returns True because x is not the same object as y, even if they have the same content\n",
    "\n",
    "print(x != y)\n",
    "\n",
    "# to demonstrate the difference betweeen \"is not\" and \"!=\": this comparison returns False because x is equal to y"
   ]
  },
  {
   "cell_type": "markdown",
   "metadata": {
    "id": "2xol0XPC9Oto"
   },
   "source": [
    "----------------------------------"
   ]
  }
 ],
 "metadata": {
  "colab": {
   "collapsed_sections": [],
   "name": "1. Interview_Questions.ipynb",
   "provenance": []
  },
  "kernelspec": {
   "display_name": "Python 3",
   "language": "python",
   "name": "python3"
  },
  "language_info": {
   "codemirror_mode": {
    "name": "ipython",
    "version": 3
   },
   "file_extension": ".py",
   "mimetype": "text/x-python",
   "name": "python",
   "nbconvert_exporter": "python",
   "pygments_lexer": "ipython3",
   "version": "3.7.3"
  }
 },
 "nbformat": 4,
 "nbformat_minor": 1
}
