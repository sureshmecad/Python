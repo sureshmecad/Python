{
 "cells": [
  {
   "cell_type": "markdown",
   "metadata": {},
   "source": [
    "https://www.programiz.com/python-programming/methods/list/extend"
   ]
  },
  {
   "cell_type": "markdown",
   "metadata": {},
   "source": [
    "### Example 1:"
   ]
  },
  {
   "cell_type": "code",
   "execution_count": 1,
   "metadata": {},
   "outputs": [
    {
     "name": "stdout",
     "output_type": "stream",
     "text": [
      "Language List: ['French', 'English', 'Spanish', 'Portuguese']\n"
     ]
    }
   ],
   "source": [
    "# language list\n",
    "language = ['French', 'English']\n",
    "\n",
    "# another list of language\n",
    "language1 = ['Spanish', 'Portuguese']\n",
    "\n",
    "# appending language1 elements to language\n",
    "language.extend(language1)\n",
    "\n",
    "print('Language List:', language)"
   ]
  },
  {
   "cell_type": "markdown",
   "metadata": {},
   "source": [
    "### Example 2: Add Elements of Tuple and Set to List"
   ]
  },
  {
   "cell_type": "code",
   "execution_count": 2,
   "metadata": {},
   "outputs": [
    {
     "name": "stdout",
     "output_type": "stream",
     "text": [
      "New Language List: ['French', 'Spanish', 'Portuguese']\n",
      "Newer Language List: ['French', 'Spanish', 'Portuguese', 'Chinese', 'Japanese']\n"
     ]
    }
   ],
   "source": [
    "# language list\n",
    "language = ['French']\n",
    "\n",
    "# language tuple\n",
    "language_tuple = ('Spanish', 'Portuguese')\n",
    "\n",
    "# language set\n",
    "language_set = {'Chinese', 'Japanese'}\n",
    "\n",
    "# appending language_tuple elements to language\n",
    "language.extend(language_tuple)\n",
    "\n",
    "print('New Language List:', language)\n",
    "\n",
    "# appending language_set elements to language\n",
    "language.extend(language_set)\n",
    "\n",
    "print('Newer Language List:', language)"
   ]
  },
  {
   "cell_type": "markdown",
   "metadata": {},
   "source": [
    "### Other Ways to Extend a List"
   ]
  },
  {
   "cell_type": "markdown",
   "metadata": {},
   "source": [
    "### 1. the + operator"
   ]
  },
  {
   "cell_type": "code",
   "execution_count": 3,
   "metadata": {},
   "outputs": [
    {
     "name": "stdout",
     "output_type": "stream",
     "text": [
      "a = [1, 2, 3, 4]\n"
     ]
    }
   ],
   "source": [
    "a = [1, 2]\n",
    "b = [3, 4]\n",
    "\n",
    "a += b    # a = a + b\n",
    "\n",
    "print('a =', a)"
   ]
  },
  {
   "cell_type": "markdown",
   "metadata": {},
   "source": [
    "### 2. the list slicing syntax"
   ]
  },
  {
   "cell_type": "code",
   "execution_count": 4,
   "metadata": {},
   "outputs": [
    {
     "name": "stdout",
     "output_type": "stream",
     "text": [
      "a = [1, 2, 3, 4]\n"
     ]
    }
   ],
   "source": [
    "a = [1, 2]\n",
    "b = [3, 4]\n",
    "\n",
    "a[len(a):] = b\n",
    "\n",
    "print('a =', a)"
   ]
  },
  {
   "cell_type": "code",
   "execution_count": null,
   "metadata": {},
   "outputs": [],
   "source": []
  }
 ],
 "metadata": {
  "kernelspec": {
   "display_name": "Python 3",
   "language": "python",
   "name": "python3"
  },
  "language_info": {
   "codemirror_mode": {
    "name": "ipython",
    "version": 3
   },
   "file_extension": ".py",
   "mimetype": "text/x-python",
   "name": "python",
   "nbconvert_exporter": "python",
   "pygments_lexer": "ipython3",
   "version": "3.7.3"
  }
 },
 "nbformat": 4,
 "nbformat_minor": 2
}
