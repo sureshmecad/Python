{
 "cells": [
  {
   "cell_type": "markdown",
   "metadata": {
    "id": "m88bcsi5mP8G"
   },
   "source": [
    "|Method          |Description                                             |\n",
    "|----------------|--------------------------------------------------------|\n",
    "|join            |method takes all items in an iterable and joins them into one string|"
   ]
  },
  {
   "cell_type": "markdown",
   "metadata": {
    "id": "WwtIazGNwu-l"
   },
   "source": [
    "#### **7.14) join**\n",
    "- refer in **List**"
   ]
  },
  {
   "cell_type": "markdown",
   "metadata": {
    "id": "hodDS1yetVaU"
   },
   "source": [
    "--------------------------------------------------------------------------------"
   ]
  }
 ],
 "metadata": {
  "colab": {
   "collapsed_sections": [],
   "name": "1. Interview_Questions.ipynb",
   "provenance": []
  },
  "kernelspec": {
   "display_name": "Python 3",
   "language": "python",
   "name": "python3"
  },
  "language_info": {
   "codemirror_mode": {
    "name": "ipython",
    "version": 3
   },
   "file_extension": ".py",
   "mimetype": "text/x-python",
   "name": "python",
   "nbconvert_exporter": "python",
   "pygments_lexer": "ipython3",
   "version": "3.7.3"
  }
 },
 "nbformat": 4,
 "nbformat_minor": 1
}
