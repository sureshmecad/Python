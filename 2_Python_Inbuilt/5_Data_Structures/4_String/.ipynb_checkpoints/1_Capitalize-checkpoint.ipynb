{
 "cells": [
  {
   "cell_type": "markdown",
   "metadata": {
    "id": "m88bcsi5mP8G"
   },
   "source": [
    "|Method          |Description                                             |\n",
    "|----------------|--------------------------------------------------------|\n",
    "|capitalize()    |Converts the first character to upper case                   |"
   ]
  },
  {
   "cell_type": "markdown",
   "metadata": {
    "id": "VweBSe4C_aOw"
   },
   "source": [
    "### **capitalize()**\n",
    "\n",
    "**string.capitalize()**\n",
    "\n",
    "- In Python, the capitalize() method converts **first** character of a string to **uppercase** letter and **lowercases all other characters**, if any.\n",
    "\n",
    "- The **capitalize()** function **doesn't** take any parameter.\n",
    "\n",
    "- Returns a copy of the string with its **first character capitalized.**\n",
    "\n"
   ]
  },
  {
   "cell_type": "code",
   "execution_count": null,
   "metadata": {
    "colab": {
     "base_uri": "https://localhost:8080/"
    },
    "id": "BqO3LQ2C9x_j",
    "outputId": "c6443ed7-90fc-4acb-e30e-5196e0c2fcb0"
   },
   "outputs": [
    {
     "name": "stdout",
     "output_type": "stream",
     "text": [
      "Python hub\n"
     ]
    }
   ],
   "source": [
    "# What will be the output of the following Python Code?\n",
    "x = \"python hub\"\n",
    "print(x.capitalize())"
   ]
  },
  {
   "cell_type": "code",
   "execution_count": null,
   "metadata": {
    "colab": {
     "base_uri": "https://localhost:8080/"
    },
    "id": "V-z-VYDUyEzf",
    "outputId": "72170c7b-2c67-4c9e-fde1-34e48d59e905"
   },
   "outputs": [
    {
     "name": "stdout",
     "output_type": "stream",
     "text": [
      "Happy\n"
     ]
    }
   ],
   "source": [
    "y = \"happy\"\n",
    "print(y.capitalize())"
   ]
  },
  {
   "cell_type": "code",
   "execution_count": null,
   "metadata": {
    "colab": {
     "base_uri": "https://localhost:8080/"
    },
    "id": "b8BVHMyryOsb",
    "outputId": "d7164a3c-09fe-4a36-c011-4083c3575656"
   },
   "outputs": [
    {
     "name": "stdout",
     "output_type": "stream",
     "text": [
      "Happy\n"
     ]
    }
   ],
   "source": [
    "print(\"happy\".capitalize())"
   ]
  },
  {
   "cell_type": "markdown",
   "metadata": {
    "id": "hodDS1yetVaU"
   },
   "source": [
    "--------------------------------------------------------------------------------"
   ]
  },
  {
   "cell_type": "markdown",
   "metadata": {},
   "source": [
    "### **Question 1:**\n",
    "#### **How do you capitalize all strings in list?**"
   ]
  },
  {
   "cell_type": "markdown",
   "metadata": {},
   "source": [
    "##### **Method 1:**"
   ]
  },
  {
   "cell_type": "code",
   "execution_count": 1,
   "metadata": {},
   "outputs": [
    {
     "name": "stdout",
     "output_type": "stream",
     "text": [
      "['Montag', 'Dienstag', 'Mittwoch', 'Donnerstag']\n"
     ]
    }
   ],
   "source": [
    "t = [\"montag\", \"dienstag\", \"mittwoch\", \"donnerstag\"]\n",
    "\n",
    "print([i.title() for i in t])"
   ]
  },
  {
   "cell_type": "markdown",
   "metadata": {},
   "source": [
    "##### **Method 2**"
   ]
  },
  {
   "cell_type": "code",
   "execution_count": 2,
   "metadata": {},
   "outputs": [
    {
     "name": "stdout",
     "output_type": "stream",
     "text": [
      "['Montag', 'Dienstag', 'Mittwoch', 'Donnerstag']\n"
     ]
    }
   ],
   "source": [
    "print([i.capitalize() for i in t])"
   ]
  },
  {
   "cell_type": "markdown",
   "metadata": {},
   "source": [
    "##### **Method 3**"
   ]
  },
  {
   "cell_type": "code",
   "execution_count": 3,
   "metadata": {},
   "outputs": [
    {
     "data": {
      "text/plain": [
       "['Montag', 'Dienstag', 'Mittwoch', 'Donnerstag']"
      ]
     },
     "execution_count": 3,
     "metadata": {},
     "output_type": "execute_result"
    }
   ],
   "source": [
    "new = []\n",
    "for i in t:\n",
    "  new += [i.title()]\n",
    "\n",
    "new"
   ]
  },
  {
   "cell_type": "code",
   "execution_count": 4,
   "metadata": {},
   "outputs": [
    {
     "data": {
      "text/plain": [
       "['Montag', 'Dienstag', 'Mittwoch', 'Donnerstag']"
      ]
     },
     "execution_count": 4,
     "metadata": {},
     "output_type": "execute_result"
    }
   ],
   "source": [
    "new = []\n",
    "for i in t:\n",
    "  new.append(i.title())\n",
    "\n",
    "new"
   ]
  },
  {
   "cell_type": "markdown",
   "metadata": {},
   "source": [
    "##### **Method 4**"
   ]
  },
  {
   "cell_type": "code",
   "execution_count": 5,
   "metadata": {},
   "outputs": [
    {
     "data": {
      "text/plain": [
       "['SATURDAY', 'SUNDAY', 'MONDAY', 'FRIDAY']"
      ]
     },
     "execution_count": 5,
     "metadata": {},
     "output_type": "execute_result"
    }
   ],
   "source": [
    "list(map(lambda x: x.upper(), [\"saturday\", \"sunday\", \"monday\", \"friday\"]))"
   ]
  }
 ],
 "metadata": {
  "colab": {
   "collapsed_sections": [],
   "name": "1. Interview_Questions.ipynb",
   "provenance": []
  },
  "kernelspec": {
   "display_name": "Python 3",
   "language": "python",
   "name": "python3"
  },
  "language_info": {
   "codemirror_mode": {
    "name": "ipython",
    "version": 3
   },
   "file_extension": ".py",
   "mimetype": "text/x-python",
   "name": "python",
   "nbconvert_exporter": "python",
   "pygments_lexer": "ipython3",
   "version": "3.7.3"
  }
 },
 "nbformat": 4,
 "nbformat_minor": 1
}
