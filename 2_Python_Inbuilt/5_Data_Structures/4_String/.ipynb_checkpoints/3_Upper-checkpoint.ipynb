{
 "cells": [
  {
   "cell_type": "markdown",
   "metadata": {
    "id": "m88bcsi5mP8G"
   },
   "source": [
    "|Method          |Description                                             |\n",
    "|----------------|--------------------------------------------------------|\n",
    "|upper()         |Converts a string into upper case                            |"
   ]
  },
  {
   "cell_type": "markdown",
   "metadata": {
    "id": "bSDH3RsriFH8"
   },
   "source": [
    "### **upper()**\n",
    "**string.upper()**\n",
    "- Returns a **copy** of the string converted to **uppercase**."
   ]
  },
  {
   "cell_type": "code",
   "execution_count": null,
   "metadata": {
    "colab": {
     "base_uri": "https://localhost:8080/"
    },
    "id": "Pp7gwampiLdH",
    "outputId": "818ee831-1d28-450c-8308-272330e44be9"
   },
   "outputs": [
    {
     "name": "stdout",
     "output_type": "stream",
     "text": [
      "COOL\n"
     ]
    }
   ],
   "source": [
    "x = \"cool\"\n",
    "print(x.upper())"
   ]
  },
  {
   "cell_type": "code",
   "execution_count": null,
   "metadata": {
    "colab": {
     "base_uri": "https://localhost:8080/"
    },
    "id": "opO339S1i4pG",
    "outputId": "17798d89-c561-4072-bd77-2a7253aae180"
   },
   "outputs": [
    {
     "name": "stdout",
     "output_type": "stream",
     "text": [
      "COOL\n"
     ]
    }
   ],
   "source": [
    "print(\"cool\".upper())"
   ]
  },
  {
   "cell_type": "markdown",
   "metadata": {
    "id": "hodDS1yetVaU"
   },
   "source": [
    "--------------------------------------------------------------------------------"
   ]
  },
  {
   "cell_type": "markdown",
   "metadata": {},
   "source": [
    "### **Question 1:**\n",
    "#### **How to make the elements in a list of strings uppercase?**"
   ]
  },
  {
   "cell_type": "code",
   "execution_count": 1,
   "metadata": {},
   "outputs": [
    {
     "data": {
      "text/plain": [
       "['JOHN', 'BOB', 'PETER', 'MIKE']"
      ]
     },
     "execution_count": 1,
     "metadata": {},
     "output_type": "execute_result"
    }
   ],
   "source": [
    "# map function\n",
    "\n",
    "Str = [\"john\", \"bob\", \"peter\", \"mike\"]\n",
    "\n",
    "list(map(str.upper, Str))"
   ]
  },
  {
   "cell_type": "code",
   "execution_count": 2,
   "metadata": {},
   "outputs": [
    {
     "name": "stdout",
     "output_type": "stream",
     "text": [
      "['JOHN', 'BOB', 'PETER', 'MIKE']\n"
     ]
    }
   ],
   "source": [
    "# List Comprehension\n",
    "\n",
    "Str = [\"john\", \"bob\", \"peter\", \"mike\"]\n",
    "\n",
    "print([i.upper() for i in Str])"
   ]
  },
  {
   "cell_type": "code",
   "execution_count": 3,
   "metadata": {},
   "outputs": [
    {
     "name": "stdout",
     "output_type": "stream",
     "text": [
      "['JOHN', 'BOB', 'PETER', 'MIKE']\n"
     ]
    }
   ],
   "source": [
    "# for loop with list append\n",
    "\n",
    "list = []\n",
    "for i in Str:\n",
    "  list.append(i.upper())\n",
    "\n",
    "print(list)"
   ]
  },
  {
   "cell_type": "code",
   "execution_count": 4,
   "metadata": {},
   "outputs": [
    {
     "name": "stdout",
     "output_type": "stream",
     "text": [
      "['JOHN', 'BOB', 'PETER', 'MIKE']\n"
     ]
    }
   ],
   "source": [
    "# for loop with range\n",
    "\n",
    "for i in range(len(Str)):\n",
    "  Str[i] = Str[i].upper()\n",
    "\n",
    "print(Str)"
   ]
  }
 ],
 "metadata": {
  "colab": {
   "collapsed_sections": [],
   "name": "1. Interview_Questions.ipynb",
   "provenance": []
  },
  "kernelspec": {
   "display_name": "Python 3",
   "language": "python",
   "name": "python3"
  },
  "language_info": {
   "codemirror_mode": {
    "name": "ipython",
    "version": 3
   },
   "file_extension": ".py",
   "mimetype": "text/x-python",
   "name": "python",
   "nbconvert_exporter": "python",
   "pygments_lexer": "ipython3",
   "version": "3.7.3"
  }
 },
 "nbformat": 4,
 "nbformat_minor": 1
}
