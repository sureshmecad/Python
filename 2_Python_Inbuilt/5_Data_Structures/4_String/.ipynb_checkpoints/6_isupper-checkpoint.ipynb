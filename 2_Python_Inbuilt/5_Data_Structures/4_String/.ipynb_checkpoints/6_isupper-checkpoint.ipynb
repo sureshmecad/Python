{
 "cells": [
  {
   "cell_type": "markdown",
   "metadata": {
    "id": "m88bcsi5mP8G"
   },
   "source": [
    "|Method          |Description                                             |\n",
    "|----------------|--------------------------------------------------------|\n",
    "|isupper()       |Returns True if all characters in the string are upper case  |"
   ]
  },
  {
   "cell_type": "markdown",
   "metadata": {
    "id": "qgvnfh98gNfh"
   },
   "source": [
    "### **isupper()**\n",
    "**string.isupper()**\n",
    "- Returns **'True'** if all cased characters in the string are **uppercase**, otherwise **'False'**."
   ]
  },
  {
   "cell_type": "code",
   "execution_count": null,
   "metadata": {
    "colab": {
     "base_uri": "https://localhost:8080/"
    },
    "id": "0MuTJXo4gUVS",
    "outputId": "8e65c147-c8e7-4071-be24-9f636c866b42"
   },
   "outputs": [
    {
     "name": "stdout",
     "output_type": "stream",
     "text": [
      "True\n"
     ]
    }
   ],
   "source": [
    "x = \"FUN\"\n",
    "print(x.isupper())"
   ]
  },
  {
   "cell_type": "code",
   "execution_count": null,
   "metadata": {
    "colab": {
     "base_uri": "https://localhost:8080/"
    },
    "id": "sSVVBHSthVek",
    "outputId": "d48961e4-422f-4924-b446-0c5df62aecb4"
   },
   "outputs": [
    {
     "name": "stdout",
     "output_type": "stream",
     "text": [
      "False\n"
     ]
    }
   ],
   "source": [
    "x = \"Fun\"\n",
    "print(x.isupper())"
   ]
  },
  {
   "cell_type": "code",
   "execution_count": null,
   "metadata": {
    "colab": {
     "base_uri": "https://localhost:8080/"
    },
    "id": "WXCk08zBhZhM",
    "outputId": "47b459ea-344d-4308-8dda-bd74a31e4bd2"
   },
   "outputs": [
    {
     "name": "stdout",
     "output_type": "stream",
     "text": [
      "False\n"
     ]
    }
   ],
   "source": [
    "x = \"fun\"\n",
    "print(x.isupper())"
   ]
  },
  {
   "cell_type": "markdown",
   "metadata": {
    "id": "hodDS1yetVaU"
   },
   "source": [
    "--------------------------------------------------------------------------------"
   ]
  }
 ],
 "metadata": {
  "colab": {
   "collapsed_sections": [],
   "name": "1. Interview_Questions.ipynb",
   "provenance": []
  },
  "kernelspec": {
   "display_name": "Python 3",
   "language": "python",
   "name": "python3"
  },
  "language_info": {
   "codemirror_mode": {
    "name": "ipython",
    "version": 3
   },
   "file_extension": ".py",
   "mimetype": "text/x-python",
   "name": "python",
   "nbconvert_exporter": "python",
   "pygments_lexer": "ipython3",
   "version": "3.7.3"
  }
 },
 "nbformat": 4,
 "nbformat_minor": 1
}
