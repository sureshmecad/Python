{
 "cells": [
  {
   "cell_type": "markdown",
   "metadata": {
    "id": "m88bcsi5mP8G"
   },
   "source": [
    "|Method          |Description                                             |\n",
    "|----------------|--------------------------------------------------------|\n",
    "|replace         |Returns a string where a specified value is replaced with a specified value|"
   ]
  },
  {
   "cell_type": "markdown",
   "metadata": {
    "id": "CwE5eYuTwsQR"
   },
   "source": [
    "### **replace**"
   ]
  },
  {
   "cell_type": "markdown",
   "metadata": {
    "id": "wNIn6ym4wzMJ"
   },
   "source": [
    "**string.replace()**\n",
    "\n",
    "- Returns a copy of the string where **all occurrences of a substring** are **replaced** with another **substring**."
   ]
  },
  {
   "cell_type": "code",
   "execution_count": null,
   "metadata": {
    "colab": {
     "base_uri": "https://localhost:8080/"
    },
    "id": "fy_ZJVrcxWHW",
    "outputId": "64e634a1-99ad-441e-ee78-9fd2fef43d9d"
   },
   "outputs": [
    {
     "name": "stdout",
     "output_type": "stream",
     "text": [
      "Be yourself!\n"
     ]
    }
   ],
   "source": [
    "x = \"Be still!\"\n",
    "y = x.replace('still', 'yourself')\n",
    "print(y)"
   ]
  },
  {
   "cell_type": "markdown",
   "metadata": {
    "id": "hodDS1yetVaU"
   },
   "source": [
    "--------------------------------------------------------------------------------"
   ]
  }
 ],
 "metadata": {
  "colab": {
   "collapsed_sections": [],
   "name": "1. Interview_Questions.ipynb",
   "provenance": []
  },
  "kernelspec": {
   "display_name": "Python 3",
   "language": "python",
   "name": "python3"
  },
  "language_info": {
   "codemirror_mode": {
    "name": "ipython",
    "version": 3
   },
   "file_extension": ".py",
   "mimetype": "text/x-python",
   "name": "python",
   "nbconvert_exporter": "python",
   "pygments_lexer": "ipython3",
   "version": "3.7.3"
  }
 },
 "nbformat": 4,
 "nbformat_minor": 1
}
