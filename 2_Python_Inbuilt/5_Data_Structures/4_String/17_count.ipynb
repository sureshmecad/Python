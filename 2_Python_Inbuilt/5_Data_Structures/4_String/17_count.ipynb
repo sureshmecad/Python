{
 "cells": [
  {
   "cell_type": "markdown",
   "metadata": {
    "id": "m88bcsi5mP8G"
   },
   "source": [
    "|Method          |Description                                             |\n",
    "|----------------|--------------------------------------------------------|\n",
    "|count()         |Returns the number of times a specified value occurs in a string|"
   ]
  },
  {
   "cell_type": "markdown",
   "metadata": {
    "id": "4Cmt1_NjTwgP"
   },
   "source": [
    "### **count**"
   ]
  },
  {
   "cell_type": "markdown",
   "metadata": {
    "id": "vIRaZMUSfymS"
   },
   "source": [
    "- The **count()** is a built-in function in Python. It will return the **total count** of a given element in a **string**.\n",
    "\n",
    "- The counting **begins from the start** of the string **till the end**.\n",
    "\n",
    "- It is also possible to specify the **start and end index** from where you want the **search to begin.**"
   ]
  },
  {
   "cell_type": "markdown",
   "metadata": {
    "id": "BEL8RtUsWDE-"
   },
   "source": [
    "- The **count()** method returns the **number of times** a specified value appears in the **string**\n",
    "\n",
    "- The string **count()** method returns the **number of occurrences** of a **substring** in the given string.\n",
    "\n",
    "- In simple words, count() method searches the substring in the given string and returns how many times the substring is present in it.\n",
    "\n",
    "- It also takes optional parameters start and end to specify the starting and ending positions in the string respectively."
   ]
  },
  {
   "cell_type": "markdown",
   "metadata": {
    "id": "w8L3AKnfWdF_"
   },
   "source": [
    "#### **Syntax**\n",
    "\n",
    "**string.count(char or substring, start, end)**"
   ]
  },
  {
   "cell_type": "markdown",
   "metadata": {
    "id": "mCVLqlybgwQE"
   },
   "source": [
    "- **Char or substring:** You can specify a **single character or substring** you are wants to search in the given string. It will return you the count of the character or substring in the given string.\n",
    "\n",
    "- **start:** (optional) It indicates the **start index from where the search will begin**. If not given, it will **start from 0**. For example, you want to search for a character from the **middle of the string**. You can give the **start value** to your count function.\n",
    "\n",
    "- **end:** (optional) It indicates the **end index where the search ends**. If not given, it will search **till the end** of the list or string given. For example, you don't want to scan the entire string and limit the search till a specific point you can give the value to end in your count function, and the count will take care of searching till that point."
   ]
  },
  {
   "cell_type": "markdown",
   "metadata": {
    "id": "zpENn79DgJtK"
   },
   "source": [
    "##### **Example 1: Count number of occurrences of a given substring**"
   ]
  },
  {
   "cell_type": "code",
   "execution_count": null,
   "metadata": {
    "colab": {
     "base_uri": "https://localhost:8080/"
    },
    "id": "l9-qBMNngQzX",
    "outputId": "5ec4ee5b-6070-49e0-950a-650267c6197b"
   },
   "outputs": [
    {
     "name": "stdout",
     "output_type": "stream",
     "text": [
      "The count is: 2\n"
     ]
    }
   ],
   "source": [
    "# define string\n",
    "string = \"Python is awesome, isn't it?\"\n",
    "substring = \"is\"\n",
    "\n",
    "count = string.count(substring)\n",
    "\n",
    "# print count\n",
    "print(\"The count is:\", count)"
   ]
  },
  {
   "cell_type": "code",
   "execution_count": null,
   "metadata": {
    "colab": {
     "base_uri": "https://localhost:8080/"
    },
    "id": "bzyeqQDTiQUN",
    "outputId": "b2e741d3-5cb8-4e9a-8527-4f55e9251d2f"
   },
   "outputs": [
    {
     "name": "stdout",
     "output_type": "stream",
     "text": [
      "The count of 'o' is 2\n"
     ]
    }
   ],
   "source": [
    "str1 = \"Hello World\"\n",
    "str_count1 = str1.count('o')  # counting the character “o” in the givenstring\n",
    "print(\"The count of 'o' is\", str_count1)"
   ]
  },
  {
   "cell_type": "code",
   "execution_count": null,
   "metadata": {
    "colab": {
     "base_uri": "https://localhost:8080/"
    },
    "id": "HEkSpsNeiaUX",
    "outputId": "65b0f2a5-c6b3-48fe-db90-4b3f96cb765e"
   },
   "outputs": [
    {
     "name": "stdout",
     "output_type": "stream",
     "text": [
      "The count of 'u' is 3\n"
     ]
    }
   ],
   "source": [
    "str1 = \"Welcome to Guru99 Tutorials!\"\n",
    "str_count1 = str1.count('u')  # counting the character “u” in the given string\n",
    "print(\"The count of 'u' is\", str_count1)"
   ]
  },
  {
   "cell_type": "code",
   "execution_count": null,
   "metadata": {
    "colab": {
     "base_uri": "https://localhost:8080/"
    },
    "id": "H32TM9J7ijrR",
    "outputId": "7eb3d5b9-0f6c-4d23-a123-17e1bf597a76"
   },
   "outputs": [
    {
     "name": "stdout",
     "output_type": "stream",
     "text": [
      "The count of 'to' is 2\n"
     ]
    }
   ],
   "source": [
    "str1 = \"Welcome to Guru99 - Free Training Tutorials and Videos for IT Courses\"\n",
    "str_count1 = str1.count('to') # counting the substring “to” in the givenstring\n",
    "print(\"The count of 'to' is\", str_count1)"
   ]
  },
  {
   "cell_type": "markdown",
   "metadata": {
    "id": "6CyHOwCegi9T"
   },
   "source": [
    "##### **Example 2: Count number of occurrences of a given substring using start and end**"
   ]
  },
  {
   "cell_type": "code",
   "execution_count": null,
   "metadata": {
    "colab": {
     "base_uri": "https://localhost:8080/"
    },
    "id": "z92sEhzbiV8X",
    "outputId": "50bb84b3-4d3d-4b2a-f23f-7b37f9e112bc"
   },
   "outputs": [
    {
     "name": "stdout",
     "output_type": "stream",
     "text": [
      "The count of 'o' usingstart/end is 1\n"
     ]
    }
   ],
   "source": [
    "str_count2 = str1.count('o', 0,5)\n",
    "print(\"The count of 'o' usingstart/end is\", str_count2)"
   ]
  },
  {
   "cell_type": "code",
   "execution_count": null,
   "metadata": {
    "colab": {
     "base_uri": "https://localhost:8080/"
    },
    "id": "ugieBITTiexU",
    "outputId": "d7cc0443-1586-4930-eed8-7d20de1502ed"
   },
   "outputs": [
    {
     "name": "stdout",
     "output_type": "stream",
     "text": [
      "The count of 'u' usingstart/end is 2\n"
     ]
    }
   ],
   "source": [
    "str_count2 = str1.count('u', 6,15)\n",
    "print(\"The count of 'u' usingstart/end is\", str_count2)"
   ]
  },
  {
   "cell_type": "code",
   "execution_count": null,
   "metadata": {
    "colab": {
     "base_uri": "https://localhost:8080/"
    },
    "id": "7Pk0P0KVimx3",
    "outputId": "d363d5a7-56ee-4c6f-9eea-ca2a5afdc00d"
   },
   "outputs": [
    {
     "name": "stdout",
     "output_type": "stream",
     "text": [
      "The count of 'to' usingstart/end is 1\n"
     ]
    }
   ],
   "source": [
    "str_count2 = str1.count('to', 6,15)\n",
    "print(\"The count of 'to' usingstart/end is\", str_count2)"
   ]
  },
  {
   "cell_type": "code",
   "execution_count": null,
   "metadata": {
    "colab": {
     "base_uri": "https://localhost:8080/"
    },
    "id": "Gt5KcF1zgmJ5",
    "outputId": "f572b07f-55d2-4c49-f6a4-caa00434724e"
   },
   "outputs": [
    {
     "name": "stdout",
     "output_type": "stream",
     "text": [
      "The count is: 1\n"
     ]
    }
   ],
   "source": [
    "# define string\n",
    "string = \"Python is awesome, isn't it?\"\n",
    "substring = \"i\"\n",
    "\n",
    "# count after first 'i' and before the last 'i'\n",
    "count = string.count(substring, 8, 25)\n",
    "\n",
    "# print count\n",
    "print(\"The count is:\", count)"
   ]
  },
  {
   "cell_type": "markdown",
   "metadata": {
    "id": "LYJOg6PIgrpa"
   },
   "source": [
    "- Here, the counting starts **after the first i** has been encountered, i.e. **7th** index position.\n",
    "\n",
    "- And, it **ends before the last i**, i.e. **25th** index position."
   ]
  },
  {
   "cell_type": "markdown",
   "metadata": {
    "id": "hodDS1yetVaU"
   },
   "source": [
    "--------------------------------------------------------------------------------"
   ]
  },
  {
   "cell_type": "markdown",
   "metadata": {
    "id": "znvTchDBiwzi"
   },
   "source": [
    "### **Question 1**"
   ]
  },
  {
   "cell_type": "code",
   "execution_count": null,
   "metadata": {
    "colab": {
     "base_uri": "https://localhost:8080/"
    },
    "id": "bpe7RrDmT2Vf",
    "outputId": "4099798b-c042-48cc-e415-d1cdcac9cfbf"
   },
   "outputs": [
    {
     "name": "stdout",
     "output_type": "stream",
     "text": [
      "1\n"
     ]
    }
   ],
   "source": [
    "txt = \"I love apples, apple are my favorite fruit\"\n",
    "\n",
    "x = txt.count(\"apple\", 10, 24)\n",
    "\n",
    "print(x)"
   ]
  },
  {
   "cell_type": "markdown",
   "metadata": {},
   "source": [
    "### **Question 2**"
   ]
  },
  {
   "cell_type": "code",
   "execution_count": null,
   "metadata": {},
   "outputs": [],
   "source": []
  }
 ],
 "metadata": {
  "colab": {
   "collapsed_sections": [],
   "name": "1. Interview_Questions.ipynb",
   "provenance": []
  },
  "kernelspec": {
   "display_name": "Python 3",
   "language": "python",
   "name": "python3"
  },
  "language_info": {
   "codemirror_mode": {
    "name": "ipython",
    "version": 3
   },
   "file_extension": ".py",
   "mimetype": "text/x-python",
   "name": "python",
   "nbconvert_exporter": "python",
   "pygments_lexer": "ipython3",
   "version": "3.7.3"
  }
 },
 "nbformat": 4,
 "nbformat_minor": 1
}
