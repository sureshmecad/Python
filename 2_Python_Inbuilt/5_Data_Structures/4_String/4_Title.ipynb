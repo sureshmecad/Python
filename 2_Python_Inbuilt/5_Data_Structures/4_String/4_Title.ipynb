{
 "cells": [
  {
   "cell_type": "markdown",
   "metadata": {
    "id": "m88bcsi5mP8G"
   },
   "source": [
    "|Method          |Description                                             |\n",
    "|----------------|--------------------------------------------------------|\n",
    "|title()         |Converts the first character of each word to upper case      |"
   ]
  },
  {
   "cell_type": "markdown",
   "metadata": {
    "id": "cej1GwlmoWKa"
   },
   "source": [
    "### **title()**\n",
    "**string.title()**\n",
    "- Returns a **copy** of the string with its **first character in each word** to **Uppercase** and remaining characters to **Lowercase**"
   ]
  },
  {
   "cell_type": "code",
   "execution_count": null,
   "metadata": {
    "colab": {
     "base_uri": "https://localhost:8080/"
    },
    "id": "aeCnDESGpJem",
    "outputId": "3a752fa8-17a3-4a89-ab80-10f26dd6482f"
   },
   "outputs": [
    {
     "name": "stdout",
     "output_type": "stream",
     "text": [
      "Green Plants\n"
     ]
    }
   ],
   "source": [
    "x = \"green plants\"\n",
    "print(x.title())"
   ]
  },
  {
   "cell_type": "code",
   "execution_count": null,
   "metadata": {
    "colab": {
     "base_uri": "https://localhost:8080/"
    },
    "id": "ygGqanbypT1e",
    "outputId": "27fb33a7-8e70-4bf6-c305-13bac2d0825a"
   },
   "outputs": [
    {
     "name": "stdout",
     "output_type": "stream",
     "text": [
      "Green Plants\n"
     ]
    }
   ],
   "source": [
    "print(\"green plants\".title())"
   ]
  },
  {
   "cell_type": "markdown",
   "metadata": {
    "id": "hodDS1yetVaU"
   },
   "source": [
    "--------------------------------------------------------------------------------"
   ]
  }
 ],
 "metadata": {
  "colab": {
   "collapsed_sections": [],
   "name": "1. Interview_Questions.ipynb",
   "provenance": []
  },
  "kernelspec": {
   "display_name": "Python 3",
   "language": "python",
   "name": "python3"
  },
  "language_info": {
   "codemirror_mode": {
    "name": "ipython",
    "version": 3
   },
   "file_extension": ".py",
   "mimetype": "text/x-python",
   "name": "python",
   "nbconvert_exporter": "python",
   "pygments_lexer": "ipython3",
   "version": "3.7.3"
  }
 },
 "nbformat": 4,
 "nbformat_minor": 1
}
