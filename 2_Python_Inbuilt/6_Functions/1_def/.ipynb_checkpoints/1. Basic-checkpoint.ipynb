{
 "cells": [
  {
   "cell_type": "markdown",
   "metadata": {},
   "source": [
    "## 1. Functions\n",
    "## 2. Arguments\n",
    "## 3. Global & Local Variables\n",
    "## 4. Recursion"
   ]
  },
  {
   "cell_type": "markdown",
   "metadata": {},
   "source": [
    "------------------------------------"
   ]
  },
  {
   "cell_type": "markdown",
   "metadata": {},
   "source": [
    "<h1 style=\"color:blue\" align=\"left\"> 1. Functions </h1>"
   ]
  },
  {
   "cell_type": "markdown",
   "metadata": {},
   "source": [
    "https://www.youtube.com/watch?v=XjfvaFnJ4zk&t=319s"
   ]
  },
  {
   "cell_type": "markdown",
   "metadata": {},
   "source": [
    "### Functions\n",
    "\n",
    " - Reusability\n",
    " \n",
    " \n",
    " - Easy Debugging\n",
    " \n",
    " \n",
    "### Function Definition:\n",
    "\n",
    " - Every function should start with \"def\" keyword.\n",
    " \n",
    " \n",
    " - Every function should have name (not equal to any keyword)\n",
    " \n",
    " \n",
    " - Parameters / Arguments (optional) included in b/n paranthesis.\n",
    " \n",
    " \n",
    " - Every function name with / without Arguments should end with (:)\n",
    " \n",
    " \n",
    " - return ---> empty / value.\n",
    " \n",
    " \n",
    " - Multivalue return can be done (tuples)\n",
    " \n",
    " \n",
    "### Function Call:\n",
    " \n",
    " - Function name\n",
    " \n",
    " \n",
    " - Arguments / Parameters      # Equal to function definition"
   ]
  },
  {
   "cell_type": "code",
   "execution_count": 1,
   "metadata": {},
   "outputs": [
    {
     "data": {
      "text/plain": [
       "30"
      ]
     },
     "execution_count": 1,
     "metadata": {},
     "output_type": "execute_result"
    }
   ],
   "source": [
    "# Function to add two numbers\n",
    "\n",
    "def add(a,b):\n",
    "    sum = a+b\n",
    "    return sum\n",
    "\n",
    "add(10,20)"
   ]
  },
  {
   "cell_type": "markdown",
   "metadata": {},
   "source": [
    "----------------------------------"
   ]
  },
  {
   "cell_type": "markdown",
   "metadata": {},
   "source": [
    "<h1 style=\"color:blue\" align=\"left\"> 2. Arguments </h1>"
   ]
  },
  {
   "cell_type": "markdown",
   "metadata": {},
   "source": [
    "https://www.youtube.com/watch?v=lTQfz-u8f3M"
   ]
  },
  {
   "cell_type": "markdown",
   "metadata": {},
   "source": [
    "- **Types of Arguments**\n",
    "Python handles function arguments in a very flexible manner, compared to other languages. It supports multiple types of arguments in the function definition. Here’s the list:\n",
    "\n",
    "  1. Positional Arguments\n",
    "  2. Keyword Arguments\n",
    "  3. Default Arguments\n",
    "  4. Variable Length Positional Arguments (*args)\n",
    "  5. Variable Length Keyword Arguments (**kwargs)"
   ]
  },
  {
   "cell_type": "markdown",
   "metadata": {},
   "source": [
    "### 1. Required (Positional) Arguments"
   ]
  },
  {
   "cell_type": "markdown",
   "metadata": {},
   "source": [
    "- Number of arguments should be **same** in both **Function call & Function definition**.\n",
    "\n",
    "\n",
    "- **Order (or) Position should be followed.**"
   ]
  },
  {
   "cell_type": "code",
   "execution_count": 2,
   "metadata": {},
   "outputs": [
    {
     "name": "stdout",
     "output_type": "stream",
     "text": [
      "5 15\n"
     ]
    }
   ],
   "source": [
    "def display(a,b):        # Function definition (No of arguments : 2)  ---> a, b  : Parameters\n",
    "    print(a,b)\n",
    "    \n",
    "display(5,15)            # Function call (No of arguments : 2)        ---> 5, 15 : Arguments"
   ]
  },
  {
   "cell_type": "code",
   "execution_count": 3,
   "metadata": {},
   "outputs": [
    {
     "name": "stdout",
     "output_type": "stream",
     "text": [
      "15 5\n"
     ]
    }
   ],
   "source": [
    "def display(a,b):        # Function definition (No of arguments : 2)\n",
    "    print(a,b)\n",
    "    \n",
    "display(15,5)            # Function call (No of arguments : 2)"
   ]
  },
  {
   "cell_type": "markdown",
   "metadata": {},
   "source": [
    "### 2. Keyword Arguments"
   ]
  },
  {
   "cell_type": "markdown",
   "metadata": {},
   "source": [
    "- **Order / Position** is not required.\n",
    "\n",
    "\n",
    "- Initialisation will be done based on keyword (name)"
   ]
  },
  {
   "cell_type": "code",
   "execution_count": 4,
   "metadata": {},
   "outputs": [
    {
     "name": "stdout",
     "output_type": "stream",
     "text": [
      "5 15\n"
     ]
    }
   ],
   "source": [
    "def display(a,b):        # Function definition (No of arguments : 2)\n",
    "    print(a,b)\n",
    "    \n",
    "display(b=15, a=5)            # Function call (No of arguments : 2)"
   ]
  },
  {
   "cell_type": "markdown",
   "metadata": {},
   "source": [
    "### 3. Default Arguments"
   ]
  },
  {
   "cell_type": "markdown",
   "metadata": {},
   "source": [
    "- Number of arguments **need not be match** with both Function call & Function definition\n",
    "\n",
    "\n",
    "- Some of arguments will be consider as default arguments."
   ]
  },
  {
   "cell_type": "code",
   "execution_count": 7,
   "metadata": {},
   "outputs": [
    {
     "name": "stdout",
     "output_type": "stream",
     "text": [
      "Suresh\n",
      "M.Tech\n",
      "Anuganti\n",
      "B.Tech\n"
     ]
    }
   ],
   "source": [
    "def display(name, course=\"B.Tech\"):\n",
    "    print(name)\n",
    "    print(course)\n",
    "    \n",
    "display(name=\"Suresh\", course=\"M.Tech\")\n",
    "display(name=\"Anuganti\")                   # second argument not defined; it will take from def function as default value"
   ]
  },
  {
   "cell_type": "markdown",
   "metadata": {},
   "source": [
    "### 4. Variable Length Arguments"
   ]
  },
  {
   "cell_type": "markdown",
   "metadata": {},
   "source": [
    "- Arbitrary number of arguments\n",
    "\n",
    "\n",
    "- By placing * as prefix to the argument of function definition."
   ]
  },
  {
   "cell_type": "code",
   "execution_count": 8,
   "metadata": {},
   "outputs": [
    {
     "name": "stdout",
     "output_type": "stream",
     "text": [
      "B.Tech\n",
      "M.Tech\n",
      "MCA\n",
      "MBA\n"
     ]
    }
   ],
   "source": [
    "def display(*Courses):\n",
    "    for i in Courses:\n",
    "        print(i)\n",
    "    \n",
    "display(\"B.Tech\", \"M.Tech\", \"MCA\", \"MBA\")"
   ]
  },
  {
   "cell_type": "markdown",
   "metadata": {},
   "source": [
    "-----------------------"
   ]
  },
  {
   "cell_type": "markdown",
   "metadata": {},
   "source": [
    "<h1 style=\"color:blue\" align=\"left\"> 3. Global & Local Variables </h1>"
   ]
  },
  {
   "cell_type": "markdown",
   "metadata": {},
   "source": [
    "https://www.youtube.com/watch?v=gRTVLZuidG0"
   ]
  },
  {
   "cell_type": "markdown",
   "metadata": {},
   "source": [
    "### Global & Local Variables"
   ]
  },
  {
   "cell_type": "markdown",
   "metadata": {},
   "source": [
    "- **Local** : Within the function where variables have been declared\n",
    "\n",
    "\n",
    "- **Global** : Entire program"
   ]
  },
  {
   "cell_type": "markdown",
   "metadata": {},
   "source": [
    "![1. def](image/Global.JPG)"
   ]
  },
  {
   "cell_type": "code",
   "execution_count": 9,
   "metadata": {},
   "outputs": [
    {
     "name": "stdout",
     "output_type": "stream",
     "text": [
      "Inside user-defined function: 20\n",
      "Outside user-defined function: 20\n"
     ]
    }
   ],
   "source": [
    "# Global variable\n",
    "a = 20\n",
    "\n",
    "def display():\n",
    "    print(\"Inside user-defined function:\", a)\n",
    "    \n",
    "display()\n",
    "\n",
    "print(\"Outside user-defined function:\", a)"
   ]
  },
  {
   "cell_type": "code",
   "execution_count": 10,
   "metadata": {},
   "outputs": [
    {
     "name": "stdout",
     "output_type": "stream",
     "text": [
      "Inside user-defined function: 20\n",
      "Local Variable: 10\n",
      "Outside user-defined function: 20\n"
     ]
    }
   ],
   "source": [
    "# Global variable\n",
    "a = 20\n",
    "\n",
    "def display():\n",
    "    b = 10     # Local Variable\n",
    "    print(\"Inside user-defined function:\", a)\n",
    "    print(\"Local Variable:\", b)\n",
    "    \n",
    "display()\n",
    "\n",
    "print(\"Outside user-defined function:\", a)"
   ]
  },
  {
   "cell_type": "code",
   "execution_count": 12,
   "metadata": {},
   "outputs": [
    {
     "name": "stdout",
     "output_type": "stream",
     "text": [
      "Inside user-defined function: 20\n",
      "Local Variable: 10\n",
      "Outside user-defined function: 20\n",
      "Outside user-defined function: 30\n"
     ]
    }
   ],
   "source": [
    "# Global variable\n",
    "a = 20\n",
    "\n",
    "def display():\n",
    "    b = 10     # Local Variable\n",
    "    print(\"Inside user-defined function:\", a)\n",
    "    print(\"Local Variable:\", b)\n",
    "    \n",
    "display()\n",
    "c = 30        # Local Variable\n",
    "print(\"Outside user-defined function:\", a)\n",
    "print(\"Outside user-defined function:\", c)"
   ]
  },
  {
   "cell_type": "code",
   "execution_count": 14,
   "metadata": {},
   "outputs": [
    {
     "name": "stdout",
     "output_type": "stream",
     "text": [
      "Global 10\n",
      "Local 20\n",
      "Local 40\n"
     ]
    }
   ],
   "source": [
    "# If Local & Global variables having same name; First Preference to Local Variable\n",
    "\n",
    "a = 10\n",
    "def display():\n",
    "    b=20\n",
    "    print(\"Global\", a)\n",
    "    print(\"Local\", b)\n",
    "    \n",
    "display()\n",
    "a = 40\n",
    "print(\"Local\", a)"
   ]
  },
  {
   "cell_type": "code",
   "execution_count": 15,
   "metadata": {},
   "outputs": [
    {
     "name": "stdout",
     "output_type": "stream",
     "text": [
      "20\n",
      "40\n",
      "60\n"
     ]
    }
   ],
   "source": [
    "a = 10\n",
    "c = 20\n",
    "def display():\n",
    "    a=20\n",
    "    print(a)\n",
    "    \n",
    "display()\n",
    "a = 40\n",
    "print(a)\n",
    "d = a+c\n",
    "print(d)"
   ]
  },
  {
   "cell_type": "code",
   "execution_count": 19,
   "metadata": {},
   "outputs": [
    {
     "name": "stdout",
     "output_type": "stream",
     "text": [
      "inside 20\n",
      "outside 10\n"
     ]
    }
   ],
   "source": [
    "a = 10\n",
    "def display():\n",
    "    a = 20\n",
    "    print(\"inside\", a)\n",
    "    \n",
    "display()\n",
    "\n",
    "print(\"outside\", a)"
   ]
  },
  {
   "cell_type": "code",
   "execution_count": 20,
   "metadata": {
    "scrolled": true
   },
   "outputs": [
    {
     "name": "stdout",
     "output_type": "stream",
     "text": [
      "inside 20\n",
      "outside 20\n"
     ]
    }
   ],
   "source": [
    "a = 10\n",
    "def display():\n",
    "    global a\n",
    "    a = 20\n",
    "    print(\"inside\", a)\n",
    "    \n",
    "display()\n",
    "\n",
    "print(\"outside\", a)"
   ]
  },
  {
   "cell_type": "markdown",
   "metadata": {},
   "source": [
    "----------------------------------------"
   ]
  },
  {
   "cell_type": "markdown",
   "metadata": {},
   "source": [
    "<h1 style=\"color:blue\" align=\"left\"> 4. Recursion </h1>"
   ]
  },
  {
   "cell_type": "markdown",
   "metadata": {},
   "source": [
    "- Function calling itself\n",
    "\n",
    "\n",
    "- Base case ---> Terminating from recursion\n",
    "\n",
    "\n",
    "- Recursive case ---> Calling itself"
   ]
  },
  {
   "cell_type": "markdown",
   "metadata": {},
   "source": [
    "![1. def](image/1.JPG)"
   ]
  },
  {
   "cell_type": "code",
   "execution_count": 3,
   "metadata": {},
   "outputs": [
    {
     "name": "stdout",
     "output_type": "stream",
     "text": [
      "Enter n value5\n",
      "120\n"
     ]
    }
   ],
   "source": [
    "# Factorial\n",
    "\n",
    "def factorial(n):\n",
    "    if(n==0 or n==1):\n",
    "        return 1\n",
    "    else:\n",
    "        return n*factorial(n-1)\n",
    "    \n",
    "n = int(input(\"Enter n value\"))\n",
    "res = factorial(n)\n",
    "print(res)"
   ]
  },
  {
   "cell_type": "code",
   "execution_count": 5,
   "metadata": {},
   "outputs": [
    {
     "data": {
      "text/plain": [
       "120"
      ]
     },
     "execution_count": 5,
     "metadata": {},
     "output_type": "execute_result"
    }
   ],
   "source": [
    "def factorial(n):\n",
    "    if n==1:\n",
    "        return n\n",
    "    else:\n",
    "        return n*factorial(n-1)\n",
    "    \n",
    "factorial(5)"
   ]
  },
  {
   "cell_type": "code",
   "execution_count": 16,
   "metadata": {},
   "outputs": [
    {
     "data": {
      "text/plain": [
       "4431454732235531249361139367048469431620802537829028633817495857238644992268400573564711750578894006185633031313983845759966538304247132354415615254614730275707985454946123737743744066137298249693042704808593505059268078290952400386920302858300485867504301834173148481297233925423608427910563952523732207308588738469692166277993535484105566055405716754734454967286797911916373022478687245376024521582374510457817594064065446265201786765909727278945524432501530379090670218786161669117081001560303772318957897933943819069955840297412520252259949296337442054019332968612410518647343095795467964152129456250257141647279956841003993326497724325116586243226420564147539797967287950367431859159723078999065220388080936669261170304465806031098675993018896310173410184191078034208950111130550568426604792048206599184384272965383964607854576412143964337340682365046693633892999742392460344315335084162864296051949184408811258760795835824378327035207634612296543726318944990902043627206604364749872919212497762911560064080055069815664975425659396614078133104224419208938782905465320106620652884958699344990214097570557684456024235854318582046425662308458859292823992248043782757592298956304986121212251723102143637273981436271145461933853417197806840658020649426912099111422078182108014985020729208660046966407826482535243280640678029965519889951842234578802549510436022055762660683332378059675631014972837744471312137372060465011771408103987439839003722297025987346907363833767807817317376836400599262246927033206291927980129213737871067401146733115260647792389591001150747216596882409579621017112701061367293704151045675283043637331963797317014035570325153227446757621648336466871400265404623609611404134707965553548157272555496769076054472493324950926331768004638767439546637470463761859121830992894922055016328956110170088594867336659012524267554125374425282709197848598014667879943045071932230991020516696706219661517642065864546647614918989960400945527352992553414251157537591980133856886551815146169292389616389669801417205290231252862794801573574545249692465950143722318895587392002942851985908913784561025540163360943772851264192035313682042880325805016711813608481908365724677573963365479061035197483447475299682249132615495652846622447581019706717927719125172330616695586187525078211574846238237958603693303504748947031975120386819863238754549995854163654738992276240873956391714333018414508068531338212820886782927693898906621120988893148840253010473715635964433439475564004238759800445096905773592487406890271305569533141669825783329070899896447563360671949934653373281912809548338889947920215722431907249819101779863727741434084515733854705028070851090648260892726885595801917276190495457141266182036876892993828492018347925588070979588964244246706874687597923727896511610090558137155418624893906331882774617894406963104202400894508257422942558305002088238030815084774572885122211969087224626641069894318936809800995006618725036710679117882462408822847728527240121985352270757204336206204750114999125171763035554587523014118425239753844954283332508784760576165903625035881502365299752955789383585817100396833090502091330501186993537063208456551812672363030274620937443452372426359246805883401576876342963627957369120537065220732289579276112281604433630711964423803955711242726220268496776551657588869500402586900470250031700149848751207114195872027480181522462375285121774815628373369588619069166057178463452355777486904131858894571365535714458903201827486574098754327795224778939987298615429834213505548617898177636194882318032219205074637857989838948826392761303367085724173455752296939195252687645245490812002840745055140580075258771390225744409077253488559743794357322253613259532021133180933723801265237465916602705038218498882279467579713096810171028439851655284952862661676667751555605429062033802513250259615632864412811057203917217905491622075890946870493418348486471784622317382617506863252083613735211438582784555656081511578480045816765712459235001187837570955866640226772489196455014495330913252372664000839271016857405926721600722545094898668871255178508628669356534490982392703636291822852597838318695057425115402332831956352000452886110407357624264264767641600356879451703123337844073696608582197997537988225572695484257919092845168860709592391722761266895001600314223464443082747254272324905056806206447861506091666101154325728557052679310914145333582766613351168292800993064319992502431972076464649584045738032273823514744454961574603082215131915330347152836616461809066885797680841100417291587552624091091181730339550969702611020652349277205198135560869897123086442308497574457331195684007166954693589058389112721253591516238896437659628149032237149956159134325501161544908253674288351553734484671169360082635303514511732977344934241508717718341323792531965981005869507482315471974143414812680164193428567972839725123917127969908533683386131135757389096738837675683385074705806806957405862266389522939844594162044677955544593820733965878064912330576913846954547728986131587260812923583988071693695719441592811071606692361090578040074773868961222634418299644580462508757855950348186169298543544210490259970734268811751901512462435378820277010407219972974919751122437660857910410524119900616160234844066987177609312496013474922659732028776907737625732250401381366659900285673509168506076481083831633524088758274691175083375166629231760486826704708766183322019228656294981230222642507341636742672131969176821394240590523862697587571586852286485359448193595805005648518432803272838294156937916821466380787061315578455054190495679548738479644206359131430898412147035053887647582466293787450087495326489082317129088244264346799145975583354359791409478776071548027339897100934539349232180620425434109114617799997634300558940047353484985510538754012092277074508553923470462040344856726614845872259739461566128455261312561152952418359293356938060139824107684868087219815055997908298206554761327401928531627338940491831871124625820671172038124284228256114371855931757812091821590907843004321039279626762290336824695170252228327335242244401242811273582000232117955297185812360068422897623996825698453820421774765240972681805868290543522975042109386061415291632460156737712639263927441448157482551511975562256107298032403857729359461972904548843826826894014043477888738449567248007268785420090808361211563347482251276824813321323041217297027159672253786065433186883165643092628566607519817215943690294642851295086395950079817081453190294344408680911382001757589303608049836118609528052996813510483998488416103260425124603103025323817469031486539144971136025863166343213399825894930569519086451325247512341749421160702607625094931154947900752170545444814606808571325243283671207848172797845663071911806989473321456561198260604075365175290746496995805306963268512264123663701304748253111341496780386719653792163695803740762432701424305589497091436209071328673241260247374981805766776922916792297468645884330778872984714271067550839691157131936286121506494318735552730475588178066042306775125236200621242115461973809511793975444958505226710385162883731220225555174137754083702326061565422445405040329827175943526253172414223362477627595192435802177746331086484867603124953177605769143059387564984138026640841266997375546215858392533129718728990954629035643001625756559695833738613000979516363557240463481568602276831637941799461121237427308240303750541069840694614728143479115733066278239643652501639545619026983265742892952546984766836969474488517035078380105464734927183771410247982354486312726041462837085777156408951265172169355845567422561692359280799746008619250168050574084289580294091706793911244542400163044051903386180561649002392929202763555199940648017359215247148190564943032069696211091638315464104163552730032303589443608860057397519991790529433169138672676936093043994108451025363713034448061459800475639937779405847278416138586638765135978578350265993401607332417332665891915116606989422732978172679872232253959551003655272557818284975705077746381130153424616826152377711048968483720927101422065203688049246243967561432842439506272805569925052201166734167744383470433575482470110997303503787017887677364320594379346952802339185143563811643265959029887143873620362792680357526084094619488917673363352683656186038590599275562506649600000000000000000000000000000000000000000000000000000000000000000000000000000000000000000000000000000000000000000000000000000000000000000000000000000000000000000000000000000000000000000000000000000000000000000000000000000000000000000000000000000000000000000000000000000000000000000000000000000000000000000000000000000000000000000000000000000000000000000000000000000000000000000000000000000000000000000000000000000000000000000000000000000000000000000000000000000000000000000000000000000000000000000000000000000000000000000000000000000000000000000000000000000000000000000000000000000000000000000000000000000000000000000000000000000000000000000000000000000000000000000000000000000000000000000000000000000000000000000000000000000000000000000"
      ]
     },
     "execution_count": 16,
     "metadata": {},
     "output_type": "execute_result"
    }
   ],
   "source": [
    "factorial(2960)"
   ]
  },
  {
   "cell_type": "code",
   "execution_count": 17,
   "metadata": {},
   "outputs": [
    {
     "ename": "RecursionError",
     "evalue": "maximum recursion depth exceeded in comparison",
     "output_type": "error",
     "traceback": [
      "\u001b[1;31m---------------------------------------------------------------------------\u001b[0m",
      "\u001b[1;31mRecursionError\u001b[0m                            Traceback (most recent call last)",
      "\u001b[1;32m<ipython-input-17-1f81c569e3b4>\u001b[0m in \u001b[0;36m<module>\u001b[1;34m\u001b[0m\n\u001b[1;32m----> 1\u001b[1;33m \u001b[0mfactorial\u001b[0m\u001b[1;33m(\u001b[0m\u001b[1;36m3000\u001b[0m\u001b[1;33m)\u001b[0m\u001b[1;33m\u001b[0m\u001b[1;33m\u001b[0m\u001b[0m\n\u001b[0m",
      "\u001b[1;32m<ipython-input-5-e219b72e6ade>\u001b[0m in \u001b[0;36mfactorial\u001b[1;34m(n)\u001b[0m\n\u001b[0;32m      3\u001b[0m         \u001b[1;32mreturn\u001b[0m \u001b[0mn\u001b[0m\u001b[1;33m\u001b[0m\u001b[1;33m\u001b[0m\u001b[0m\n\u001b[0;32m      4\u001b[0m     \u001b[1;32melse\u001b[0m\u001b[1;33m:\u001b[0m\u001b[1;33m\u001b[0m\u001b[1;33m\u001b[0m\u001b[0m\n\u001b[1;32m----> 5\u001b[1;33m         \u001b[1;32mreturn\u001b[0m \u001b[0mn\u001b[0m\u001b[1;33m*\u001b[0m\u001b[0mfactorial\u001b[0m\u001b[1;33m(\u001b[0m\u001b[0mn\u001b[0m\u001b[1;33m-\u001b[0m\u001b[1;36m1\u001b[0m\u001b[1;33m)\u001b[0m\u001b[1;33m\u001b[0m\u001b[1;33m\u001b[0m\u001b[0m\n\u001b[0m\u001b[0;32m      6\u001b[0m \u001b[1;33m\u001b[0m\u001b[0m\n\u001b[0;32m      7\u001b[0m \u001b[0mfactorial\u001b[0m\u001b[1;33m(\u001b[0m\u001b[1;36m5\u001b[0m\u001b[1;33m)\u001b[0m\u001b[1;33m\u001b[0m\u001b[1;33m\u001b[0m\u001b[0m\n",
      "... last 1 frames repeated, from the frame below ...\n",
      "\u001b[1;32m<ipython-input-5-e219b72e6ade>\u001b[0m in \u001b[0;36mfactorial\u001b[1;34m(n)\u001b[0m\n\u001b[0;32m      3\u001b[0m         \u001b[1;32mreturn\u001b[0m \u001b[0mn\u001b[0m\u001b[1;33m\u001b[0m\u001b[1;33m\u001b[0m\u001b[0m\n\u001b[0;32m      4\u001b[0m     \u001b[1;32melse\u001b[0m\u001b[1;33m:\u001b[0m\u001b[1;33m\u001b[0m\u001b[1;33m\u001b[0m\u001b[0m\n\u001b[1;32m----> 5\u001b[1;33m         \u001b[1;32mreturn\u001b[0m \u001b[0mn\u001b[0m\u001b[1;33m*\u001b[0m\u001b[0mfactorial\u001b[0m\u001b[1;33m(\u001b[0m\u001b[0mn\u001b[0m\u001b[1;33m-\u001b[0m\u001b[1;36m1\u001b[0m\u001b[1;33m)\u001b[0m\u001b[1;33m\u001b[0m\u001b[1;33m\u001b[0m\u001b[0m\n\u001b[0m\u001b[0;32m      6\u001b[0m \u001b[1;33m\u001b[0m\u001b[0m\n\u001b[0;32m      7\u001b[0m \u001b[0mfactorial\u001b[0m\u001b[1;33m(\u001b[0m\u001b[1;36m5\u001b[0m\u001b[1;33m)\u001b[0m\u001b[1;33m\u001b[0m\u001b[1;33m\u001b[0m\u001b[0m\n",
      "\u001b[1;31mRecursionError\u001b[0m: maximum recursion depth exceeded in comparison"
     ]
    }
   ],
   "source": [
    "factorial(3000)"
   ]
  },
  {
   "cell_type": "code",
   "execution_count": 6,
   "metadata": {},
   "outputs": [
    {
     "data": {
      "text/plain": [
       "3000"
      ]
     },
     "execution_count": 6,
     "metadata": {},
     "output_type": "execute_result"
    }
   ],
   "source": [
    "import sys\n",
    "sys.getrecursionlimit()"
   ]
  },
  {
   "cell_type": "markdown",
   "metadata": {},
   "source": [
    "-----------------------------"
   ]
  }
 ],
 "metadata": {
  "kernelspec": {
   "display_name": "Python 3",
   "language": "python",
   "name": "python3"
  },
  "language_info": {
   "codemirror_mode": {
    "name": "ipython",
    "version": 3
   },
   "file_extension": ".py",
   "mimetype": "text/x-python",
   "name": "python",
   "nbconvert_exporter": "python",
   "pygments_lexer": "ipython3",
   "version": "3.7.3"
  }
 },
 "nbformat": 4,
 "nbformat_minor": 2
}
