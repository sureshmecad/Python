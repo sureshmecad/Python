{
 "cells": [
  {
   "cell_type": "markdown",
   "metadata": {},
   "source": [
    "https://www.youtube.com/watch?v=nDj30a3be2M\n",
    "\n",
    "https://www.youtube.com/watch?v=u-OmVr_fT4s"
   ]
  },
  {
   "cell_type": "code",
   "execution_count": 1,
   "metadata": {},
   "outputs": [
    {
     "name": "stdout",
     "output_type": "stream",
     "text": [
      "hello\n"
     ]
    }
   ],
   "source": [
    "# def function without \"return\" by default return the same value\n",
    "def name():\n",
    "    print(\"hello\")\n",
    "    \n",
    "name()"
   ]
  },
  {
   "cell_type": "code",
   "execution_count": 2,
   "metadata": {},
   "outputs": [
    {
     "data": {
      "text/plain": [
       "10"
      ]
     },
     "execution_count": 2,
     "metadata": {},
     "output_type": "execute_result"
    }
   ],
   "source": [
    "# addition\n",
    "def sum(a,b,c,d):\n",
    "    s = a+b+c+d\n",
    "    return s\n",
    "\n",
    "sum(1,2,3,4)"
   ]
  },
  {
   "cell_type": "code",
   "execution_count": 4,
   "metadata": {},
   "outputs": [
    {
     "name": "stdout",
     "output_type": "stream",
     "text": [
      "hello\n",
      "welcome\n",
      "in\n",
      "Python Streets\n",
      "Channel\n"
     ]
    }
   ],
   "source": [
    "# python program to illustrate *args for variable number of arguments\n",
    "def name(*argv):\n",
    "    for arg in argv:\n",
    "        print(arg)\n",
    "        \n",
    "name(\"hello\", \"welcome\", \"in\", \"Python Streets\", \"Channel\")"
   ]
  },
  {
   "cell_type": "markdown",
   "metadata": {},
   "source": [
    "### Input Function"
   ]
  },
  {
   "cell_type": "code",
   "execution_count": 5,
   "metadata": {},
   "outputs": [
    {
     "name": "stdout",
     "output_type": "stream",
     "text": [
      "enter first number : 5\n",
      "enter second number : 5\n",
      "product is : 25\n"
     ]
    }
   ],
   "source": [
    "# How to take input from user and perform calculation\n",
    "num1 = int(input(\"enter first number : \"))\n",
    "num2 = int(input(\"enter second number : \"))\n",
    "num3 = num1*num2\n",
    "print(\"product is :\", num3)"
   ]
  },
  {
   "cell_type": "code",
   "execution_count": 6,
   "metadata": {},
   "outputs": [
    {
     "name": "stdout",
     "output_type": "stream",
     "text": [
      "enter two numbers15 25\n",
      "first number is 15 and second number is 25\n"
     ]
    }
   ],
   "source": [
    "# to take multiple inputs at the same time\n",
    "a,b = input(\"enter two numbers\").split()\n",
    "print(\"first number is {} and second number is {}\".format(a,b))"
   ]
  },
  {
   "cell_type": "markdown",
   "metadata": {},
   "source": [
    "---------------------------"
   ]
  },
  {
   "cell_type": "code",
   "execution_count": null,
   "metadata": {},
   "outputs": [],
   "source": []
  }
 ],
 "metadata": {
  "kernelspec": {
   "display_name": "Python 3",
   "language": "python",
   "name": "python3"
  },
  "language_info": {
   "codemirror_mode": {
    "name": "ipython",
    "version": 3
   },
   "file_extension": ".py",
   "mimetype": "text/x-python",
   "name": "python",
   "nbconvert_exporter": "python",
   "pygments_lexer": "ipython3",
   "version": "3.7.3"
  }
 },
 "nbformat": 4,
 "nbformat_minor": 2
}
