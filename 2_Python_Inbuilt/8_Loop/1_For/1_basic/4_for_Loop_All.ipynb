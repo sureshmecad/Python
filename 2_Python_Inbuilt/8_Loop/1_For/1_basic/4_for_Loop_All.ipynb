{
 "cells": [
  {
   "cell_type": "markdown",
   "metadata": {
    "id": "RJLcY905Jrzv"
   },
   "source": [
    "https://www.youtube.com/watch?v=9LgyKiq_hU0  ----  For Loops in Python"
   ]
  },
  {
   "cell_type": "code",
   "execution_count": null,
   "metadata": {
    "colab": {
     "base_uri": "https://localhost:8080/",
     "height": 187
    },
    "id": "J4JJ0ys3H3v-",
    "outputId": "aa2d2718-6fac-4337-8138-4bb9291f57dd"
   },
   "outputs": [
    {
     "name": "stdout",
     "output_type": "stream",
     "text": [
      "0\n",
      "1\n",
      "3\n",
      "6\n",
      "10\n",
      "15\n",
      "21\n",
      "28\n",
      "36\n",
      "45\n"
     ]
    }
   ],
   "source": [
    "sum = 0\n",
    "for i in range(10):\n",
    "  sum = sum + i\n",
    "  print(sum)"
   ]
  },
  {
   "cell_type": "code",
   "execution_count": null,
   "metadata": {
    "colab": {
     "base_uri": "https://localhost:8080/",
     "height": 187
    },
    "id": "2Ci4irYjLcVg",
    "outputId": "f264e1e2-b309-4709-841d-db4d8ef79f0e"
   },
   "outputs": [
    {
     "name": "stdout",
     "output_type": "stream",
     "text": [
      "0\n",
      "1\n",
      "2\n",
      "3\n",
      "4\n",
      "5\n",
      "6\n",
      "7\n",
      "8\n",
      "9\n"
     ]
    }
   ],
   "source": [
    "for i in range(10):\n",
    "  sum = 0\n",
    "  sum = sum + i\n",
    "  print(sum)"
   ]
  },
  {
   "cell_type": "markdown",
   "metadata": {
    "id": "k3i5gHDjLS-Z"
   },
   "source": [
    "-----------------------------"
   ]
  },
  {
   "cell_type": "code",
   "execution_count": null,
   "metadata": {
    "colab": {
     "base_uri": "https://localhost:8080/",
     "height": 102
    },
    "id": "TQhV0DNmzVHg",
    "outputId": "40fd375c-8878-44c4-8b7b-4123fc926146"
   },
   "outputs": [
    {
     "name": "stdout",
     "output_type": "stream",
     "text": [
      "Thank you\n",
      "Thank you\n",
      "Thank you\n",
      "Thank you\n",
      "Thank you\n"
     ]
    }
   ],
   "source": [
    "# Print \"Thank you\" 5 times\n",
    "for number in range(5):\n",
    "    print(\"Thank you\")"
   ]
  },
  {
   "cell_type": "code",
   "execution_count": null,
   "metadata": {
    "colab": {
     "base_uri": "https://localhost:8080/",
     "height": 102
    },
    "id": "4TYgQLITzWc-",
    "outputId": "4005e530-6ab9-4b9e-e76c-e90eaeafb156"
   },
   "outputs": [
    {
     "name": "stdout",
     "output_type": "stream",
     "text": [
      "Current language: R\n",
      "Current language: Python\n",
      "Current language: Scala\n",
      "Current language: Java\n",
      "Current language: Julia\n"
     ]
    }
   ],
   "source": [
    "languages = ['R', 'Python',  'Scala', 'Java', 'Julia']\n",
    "\n",
    "for index in range(len(languages)):\n",
    "   print('Current language:', languages[index])"
   ]
  },
  {
   "cell_type": "markdown",
   "metadata": {
    "id": "tcjcKdPdLTq_"
   },
   "source": [
    "-----------------------------"
   ]
  },
  {
   "cell_type": "code",
   "execution_count": null,
   "metadata": {
    "colab": {
     "base_uri": "https://localhost:8080/",
     "height": 187
    },
    "id": "Irj2Xe0BzWg3",
    "outputId": "472e2887-d846-44c8-8163-c9dab909b500"
   },
   "outputs": [
    {
     "name": "stdout",
     "output_type": "stream",
     "text": [
      "I am number : 0\n",
      "I am number : 1\n",
      "I am number : 2\n",
      "I am number : 3\n",
      "I am number : 4\n",
      "I am number : 5\n",
      "I am number : 6\n",
      "I am number : 7\n",
      "I am number : 8\n",
      "I am number : 9\n"
     ]
    }
   ],
   "source": [
    "# Print the below statement 3 times\n",
    "for number in range(10) :  \n",
    "    print(\"I am number : \"+str(number))"
   ]
  },
  {
   "cell_type": "code",
   "execution_count": null,
   "metadata": {
    "colab": {
     "base_uri": "https://localhost:8080/",
     "height": 187
    },
    "id": "xr1Vbo1dKT10",
    "outputId": "48b4d22a-c658-486b-c5a2-0c50dc8c8de0"
   },
   "outputs": [
    {
     "name": "stdout",
     "output_type": "stream",
     "text": [
      "I am number: 0\n",
      "I am number: 1\n",
      "I am number: 2\n",
      "I am number: 3\n",
      "I am number: 4\n",
      "I am number: 5\n",
      "I am number: 6\n",
      "I am number: 7\n",
      "I am number: 8\n",
      "I am number: 9\n"
     ]
    }
   ],
   "source": [
    "for x in range(10):  \n",
    "    print(\"I am number:\", x)"
   ]
  },
  {
   "cell_type": "code",
   "execution_count": null,
   "metadata": {
    "colab": {
     "base_uri": "https://localhost:8080/",
     "height": 102
    },
    "id": "OFb7yOn-zWk3",
    "outputId": "f77c85fb-40ff-47aa-bc58-9263416e6e21"
   },
   "outputs": [
    {
     "name": "stdout",
     "output_type": "stream",
     "text": [
      "hello world 0\n",
      "hello world 1\n",
      "hello world 2\n",
      "hello world 3\n",
      "hello world 4\n"
     ]
    }
   ],
   "source": [
    "for x in range(0, 5):\n",
    "    print(\"hello world\", x)"
   ]
  },
  {
   "cell_type": "code",
   "execution_count": null,
   "metadata": {
    "colab": {
     "base_uri": "https://localhost:8080/",
     "height": 187
    },
    "id": "WmVvl3-aLX9v",
    "outputId": "40d1fd62-a000-4397-9869-0ab53e652994"
   },
   "outputs": [
    {
     "name": "stdout",
     "output_type": "stream",
     "text": [
      "https://en.wikipedia.org/wiki/1\n",
      "https://en.wikipedia.org/wiki/2\n",
      "https://en.wikipedia.org/wiki/3\n",
      "https://en.wikipedia.org/wiki/4\n",
      "https://en.wikipedia.org/wiki/5\n",
      "https://en.wikipedia.org/wiki/6\n",
      "https://en.wikipedia.org/wiki/7\n",
      "https://en.wikipedia.org/wiki/8\n",
      "https://en.wikipedia.org/wiki/9\n",
      "https://en.wikipedia.org/wiki/10\n"
     ]
    }
   ],
   "source": [
    "for yr in range(1, 11):\n",
    "  print(\"https://en.wikipedia.org/wiki/\" + str(yr))"
   ]
  },
  {
   "cell_type": "code",
   "execution_count": null,
   "metadata": {
    "colab": {
     "base_uri": "https://localhost:8080/",
     "height": 187
    },
    "id": "84M-ZuiHLYBd",
    "outputId": "2a3e2e37-411c-422c-85b4-b20e41975eb3"
   },
   "outputs": [
    {
     "name": "stdout",
     "output_type": "stream",
     "text": [
      "https://en.wikipedia.org/wiki/1_(number)\n",
      "https://en.wikipedia.org/wiki/2_(number)\n",
      "https://en.wikipedia.org/wiki/3_(number)\n",
      "https://en.wikipedia.org/wiki/4_(number)\n",
      "https://en.wikipedia.org/wiki/5_(number)\n",
      "https://en.wikipedia.org/wiki/6_(number)\n",
      "https://en.wikipedia.org/wiki/7_(number)\n",
      "https://en.wikipedia.org/wiki/8_(number)\n",
      "https://en.wikipedia.org/wiki/9_(number)\n",
      "https://en.wikipedia.org/wiki/10_(number)\n"
     ]
    }
   ],
   "source": [
    "for whatev in range(1, 11):\n",
    "  print(\"https://en.wikipedia.org/wiki/\" + str(whatev) + \"_(number)\")"
   ]
  },
  {
   "cell_type": "markdown",
   "metadata": {
    "id": "CkZZGXXPOx8E"
   },
   "source": [
    "------------------------------"
   ]
  },
  {
   "cell_type": "code",
   "execution_count": null,
   "metadata": {
    "colab": {
     "base_uri": "https://localhost:8080/",
     "height": 204
    },
    "id": "ZNsgYR9fLYFk",
    "outputId": "ea33c890-da5a-4676-de33-8ada0516bf33"
   },
   "outputs": [
    {
     "name": "stdout",
     "output_type": "stream",
     "text": [
      "E\n",
      "X\n",
      "A\n",
      "M\n",
      "P\n",
      "L\n",
      "E\n",
      ".\n",
      "T\n",
      "X\n",
      "T\n"
     ]
    }
   ],
   "source": [
    "myfile = \"example.txt\"\n",
    "for x in myfile:\n",
    "  print(x.upper())"
   ]
  },
  {
   "cell_type": "code",
   "execution_count": null,
   "metadata": {
    "id": "DrbN-c_ELYO8"
   },
   "outputs": [],
   "source": []
  },
  {
   "cell_type": "markdown",
   "metadata": {
    "id": "FCuIp_k7PPnz"
   },
   "source": [
    "------------------------------------"
   ]
  },
  {
   "cell_type": "markdown",
   "metadata": {
    "id": "40L-5N-2Zv4y"
   },
   "source": [
    "### Append"
   ]
  },
  {
   "cell_type": "code",
   "execution_count": null,
   "metadata": {
    "colab": {
     "base_uri": "https://localhost:8080/",
     "height": 34
    },
    "id": "t9HO_bqmZybt",
    "outputId": "72f6fcfd-da63-42b0-860a-0f09cc234469"
   },
   "outputs": [
    {
     "data": {
      "text/plain": [
       "[0, 1, 4, 9, 16, 25, 36, 49, 64, 81]"
      ]
     },
     "execution_count": 51,
     "metadata": {
      "tags": []
     },
     "output_type": "execute_result"
    }
   ],
   "source": [
    "squares = []\n",
    "for x in range(10):\n",
    "  squares.append(x**2)\n",
    "\n",
    "squares"
   ]
  },
  {
   "cell_type": "code",
   "execution_count": null,
   "metadata": {
    "id": "QFXIZqFaZyfT"
   },
   "outputs": [],
   "source": []
  },
  {
   "cell_type": "markdown",
   "metadata": {
    "id": "2c4bdZCLZzLp"
   },
   "source": [
    "-----------------"
   ]
  },
  {
   "cell_type": "markdown",
   "metadata": {
    "id": "s7y1gdG6U7YV"
   },
   "source": [
    "https://www.w3schools.com/python/python_for_loops.asp\n",
    "\n",
    "https://www.learnbyexample.org/python-for-loop/"
   ]
  },
  {
   "cell_type": "markdown",
   "metadata": {
    "id": "7pMtSA1IM6cO"
   },
   "source": [
    "- A for loop is used for **iterating over a sequence (that is either a list, a tuple, a dictionary, a set, or a string)**\n",
    "\n",
    "- Python’s for statement iterates over the items of any iterable (list, tuple, dictionary, set, or string). The items are iterated in the order that they appear in the iterable."
   ]
  },
  {
   "cell_type": "markdown",
   "metadata": {
    "id": "EPw6JhndNIqh"
   },
   "source": [
    "### 1. Looping Through a String\n",
    "- Even strings are iterable objects, they contain a sequence of characters:"
   ]
  },
  {
   "cell_type": "code",
   "execution_count": null,
   "metadata": {
    "colab": {
     "base_uri": "https://localhost:8080/",
     "height": 119
    },
    "id": "XNMXGzmsMcKd",
    "outputId": "266f730e-aeea-40f7-cd2c-bc8ce8ace2c7"
   },
   "outputs": [
    {
     "name": "stdout",
     "output_type": "stream",
     "text": [
      "b\n",
      "a\n",
      "n\n",
      "a\n",
      "n\n",
      "a\n"
     ]
    }
   ],
   "source": [
    "# Loop through the letters in the word \"banana\"\n",
    "for x in \"banana\":\n",
    "  print(x)"
   ]
  },
  {
   "cell_type": "markdown",
   "metadata": {
    "id": "9zLedItDmIG_"
   },
   "source": [
    "### 2. Looping Through Lists"
   ]
  },
  {
   "cell_type": "code",
   "execution_count": null,
   "metadata": {
    "colab": {
     "base_uri": "https://localhost:8080/",
     "height": 85
    },
    "id": "zU0KMAEnjy5j",
    "outputId": "eefc61cf-6373-47ab-c5a0-116db1be198d"
   },
   "outputs": [
    {
     "name": "stdout",
     "output_type": "stream",
     "text": [
      "red\n",
      "green\n",
      "blue\n",
      "yellow\n"
     ]
    }
   ],
   "source": [
    "# Iterate through a list\n",
    "colors = ['red', 'green', 'blue', 'yellow']\n",
    "for x in colors:\n",
    "    print(x)"
   ]
  },
  {
   "cell_type": "markdown",
   "metadata": {
    "id": "g32JXYDcmKOO"
   },
   "source": [
    "### 3. Looping Through Multiple Lists\n",
    "- Using built-in zip() function you can loop through multiple lists at once."
   ]
  },
  {
   "cell_type": "code",
   "execution_count": null,
   "metadata": {
    "colab": {
     "base_uri": "https://localhost:8080/",
     "height": 68
    },
    "id": "VlbXtngmmIt5",
    "outputId": "fa85162e-448c-4c79-ddef-90d694291ff8"
   },
   "outputs": [
    {
     "name": "stdout",
     "output_type": "stream",
     "text": [
      "Bob 25\n",
      "Sam 35\n",
      "Max 30\n"
     ]
    }
   ],
   "source": [
    "# Loop through two lists at once\n",
    "\n",
    "name = ['Bob', 'Sam', 'Max']\n",
    "age = [25, 35, 30]\n",
    "for x, y in zip(name, age):\n",
    "    print(x, y)"
   ]
  },
  {
   "cell_type": "markdown",
   "metadata": {
    "id": "tp4d50uFNvbM"
   },
   "source": [
    "### 2. break Statement\n",
    "- With the **break** statement we can **stop the loop before it has looped through all the items**\n",
    "\n",
    "- Python break statement is used to exit the loop immediately. It simply jumps out of the loop altogether, and the program continues after the loop"
   ]
  },
  {
   "cell_type": "code",
   "execution_count": null,
   "metadata": {
    "colab": {
     "base_uri": "https://localhost:8080/",
     "height": 51
    },
    "id": "S0lpRhTRNu0D",
    "outputId": "0be1d350-7fa6-413c-a058-39f21693e02e"
   },
   "outputs": [
    {
     "name": "stdout",
     "output_type": "stream",
     "text": [
      "apple\n",
      "banana\n"
     ]
    }
   ],
   "source": [
    "# Exit the loop when x is \"banana\":\n",
    "\n",
    "fruits = [\"apple\", \"banana\", \"cherry\"]\n",
    "for x in fruits:\n",
    "  print(x)\n",
    "  if x == \"banana\":\n",
    "    break"
   ]
  },
  {
   "cell_type": "code",
   "execution_count": null,
   "metadata": {
    "colab": {
     "base_uri": "https://localhost:8080/",
     "height": 34
    },
    "id": "XOrI-YhvNu3t",
    "outputId": "45c2652a-ca67-41d6-9623-9ee8e1aea01c"
   },
   "outputs": [
    {
     "name": "stdout",
     "output_type": "stream",
     "text": [
      "apple\n"
     ]
    }
   ],
   "source": [
    "# Exit the loop when x is \"banana\", but this time the break comes before the print\n",
    "\n",
    "fruits = [\"apple\", \"banana\", \"cherry\"]\n",
    "for x in fruits:\n",
    "  if x == \"banana\":\n",
    "    break\n",
    "  print(x)"
   ]
  },
  {
   "cell_type": "code",
   "execution_count": null,
   "metadata": {
    "colab": {
     "base_uri": "https://localhost:8080/",
     "height": 51
    },
    "id": "MCtCbNLSWJxO",
    "outputId": "5b38bfcc-ebee-496d-e271-558c33b2f15b"
   },
   "outputs": [
    {
     "name": "stdout",
     "output_type": "stream",
     "text": [
      "0\n",
      "1\n"
     ]
    }
   ],
   "source": [
    "for x in range(3):\n",
    "    if x == 2:\n",
    "        break\n",
    "\n",
    "    print(x)"
   ]
  },
  {
   "cell_type": "code",
   "execution_count": null,
   "metadata": {
    "colab": {
     "base_uri": "https://localhost:8080/",
     "height": 34
    },
    "id": "bcwboaVaf3TD",
    "outputId": "9cebcb28-e09f-48fd-c37a-8b7c3793a03f"
   },
   "outputs": [
    {
     "name": "stdout",
     "output_type": "stream",
     "text": [
      "Current Letter : g\n"
     ]
    }
   ],
   "source": [
    "for letter in 'geeksforgeeks': \n",
    " \n",
    "    # break the loop as soon it sees 'e' \n",
    "    # or 's'\n",
    "    if letter == 'e' or letter == 's':\n",
    "         break\n",
    "    print('Current Letter :', letter)"
   ]
  },
  {
   "cell_type": "code",
   "execution_count": null,
   "metadata": {
    "colab": {
     "base_uri": "https://localhost:8080/",
     "height": 51
    },
    "id": "V82B6f3wkI8B",
    "outputId": "dd76e586-222c-4af6-dbb8-c28f5bd536fa"
   },
   "outputs": [
    {
     "name": "stdout",
     "output_type": "stream",
     "text": [
      "red\n",
      "green\n"
     ]
    }
   ],
   "source": [
    "# Break the loop at 'blue'\n",
    "\n",
    "colors = ['red', 'green', 'blue', 'yellow']\n",
    "for x in colors:\n",
    "    if x == 'blue':\n",
    "        break\n",
    "    print(x)"
   ]
  },
  {
   "cell_type": "markdown",
   "metadata": {
    "id": "v3K4U-NEPVVO"
   },
   "source": [
    "### 3. continue Statement\n",
    "- With the **continue** statement we can **stop the current iteration of the loop, and continue with the next**\n",
    "\n",
    "- The continue statement skips the current iteration of a loop and continues with the next iteration"
   ]
  },
  {
   "cell_type": "code",
   "execution_count": null,
   "metadata": {
    "colab": {
     "base_uri": "https://localhost:8080/",
     "height": 51
    },
    "id": "5chjejEvPUXQ",
    "outputId": "b5a3f099-2fd4-45a3-a463-729a94539af6"
   },
   "outputs": [
    {
     "name": "stdout",
     "output_type": "stream",
     "text": [
      "apple\n",
      "cherry\n"
     ]
    }
   ],
   "source": [
    "# Do not print banana\n",
    "\n",
    "fruits = [\"apple\", \"banana\", \"cherry\"]\n",
    "for x in fruits:\n",
    "  if x == \"banana\":\n",
    "    continue\n",
    "  print(x)"
   ]
  },
  {
   "cell_type": "code",
   "execution_count": null,
   "metadata": {
    "colab": {
     "base_uri": "https://localhost:8080/",
     "height": 136
    },
    "id": "9eETqelMfZvs",
    "outputId": "bd6f46e6-ca1e-4dfb-fe23-64a7a369d4f5"
   },
   "outputs": [
    {
     "name": "stdout",
     "output_type": "stream",
     "text": [
      "Current Letter : g\n",
      "Current Letter : k\n",
      "Current Letter : f\n",
      "Current Letter : o\n",
      "Current Letter : r\n",
      "Current Letter : g\n",
      "Current Letter : k\n"
     ]
    }
   ],
   "source": [
    "# Prints all letters except 'e' and 's'\n",
    "\n",
    "for letter in 'geeksforgeeks': \n",
    "    if letter == 'e' or letter == 's':\n",
    "         continue\n",
    "    print('Current Letter :', letter)\n",
    "    var = 10"
   ]
  },
  {
   "cell_type": "code",
   "execution_count": null,
   "metadata": {
    "colab": {
     "base_uri": "https://localhost:8080/",
     "height": 68
    },
    "id": "EZsj78chkYNE",
    "outputId": "4838c316-3ee5-496b-b26e-c51d3cb8eda4"
   },
   "outputs": [
    {
     "name": "stdout",
     "output_type": "stream",
     "text": [
      "red\n",
      "green\n",
      "yellow\n"
     ]
    }
   ],
   "source": [
    "# Skip 'blue'\n",
    "\n",
    "colors = ['red', 'green', 'blue', 'yellow']\n",
    "for x in colors:\n",
    "    if x == 'blue':\n",
    "        continue\n",
    "    print(x)"
   ]
  },
  {
   "cell_type": "markdown",
   "metadata": {
    "id": "jCvwBwA-UeRz"
   },
   "source": [
    "### 4. pass Statement\n",
    "- for loops cannot be empty, but if you for some reason have a for loop with no content, put in the pass statement to avoid getting an error."
   ]
  },
  {
   "cell_type": "code",
   "execution_count": null,
   "metadata": {
    "id": "bf35GjE2Ufqy"
   },
   "outputs": [],
   "source": [
    "for x in [0, 1, 2]:\n",
    "  pass"
   ]
  },
  {
   "cell_type": "markdown",
   "metadata": {
    "id": "WcbarKP4Qw0_"
   },
   "source": [
    "### 4. range() Function\n",
    "- To loop through a set of code a specified number of times, we can use the range() function,\n",
    "\n",
    "- The range() function returns a sequence of numbers, starting from 0 by default, and increments by 1 (by default), and ends at a specified number."
   ]
  },
  {
   "cell_type": "markdown",
   "metadata": {
    "id": "Ao6X6WLwSReB"
   },
   "source": [
    "- Note that **range(6)** is not the values of **0 to 6**, but the values **0 to 5.**"
   ]
  },
  {
   "cell_type": "code",
   "execution_count": null,
   "metadata": {
    "colab": {
     "base_uri": "https://localhost:8080/",
     "height": 119
    },
    "id": "QD-jiHH1PUbH",
    "outputId": "0531f787-3e3c-49d4-e83c-ec35532d12b3"
   },
   "outputs": [
    {
     "name": "stdout",
     "output_type": "stream",
     "text": [
      "0\n",
      "1\n",
      "2\n",
      "3\n",
      "4\n",
      "5\n"
     ]
    }
   ],
   "source": [
    "# Using the range() function\n",
    "\n",
    "for x in range(6):\n",
    "  print(x)"
   ]
  },
  {
   "cell_type": "markdown",
   "metadata": {
    "id": "bcpminWWSblg"
   },
   "source": [
    "- The range() function **defaults to 0 as a starting value**, however it is possible to specify the starting value by adding a parameter: **range(2, 6)**, which means **values from 2 to 6 (but not including 6)**:"
   ]
  },
  {
   "cell_type": "code",
   "execution_count": null,
   "metadata": {
    "colab": {
     "base_uri": "https://localhost:8080/",
     "height": 85
    },
    "id": "VGCJWt3QRfUh",
    "outputId": "d709c80d-7445-432b-d4af-eee9dd7808f8"
   },
   "outputs": [
    {
     "name": "stdout",
     "output_type": "stream",
     "text": [
      "2\n",
      "3\n",
      "4\n",
      "5\n"
     ]
    }
   ],
   "source": [
    "# Using the start parameter\n",
    "\n",
    "for x in range(2, 6):\n",
    "  print(x)"
   ]
  },
  {
   "cell_type": "markdown",
   "metadata": {
    "id": "C-mxgVP8Sql6"
   },
   "source": [
    "- The range() function **defaults to increment the sequence by 1**, however it is possible to specify the **increment value** by adding a third parameter: **range(2, 30, 3):**"
   ]
  },
  {
   "cell_type": "code",
   "execution_count": null,
   "metadata": {
    "colab": {
     "base_uri": "https://localhost:8080/",
     "height": 187
    },
    "id": "emBEWSQARfYg",
    "outputId": "26b2d788-398a-4400-9fa3-3b0fcf7dc603"
   },
   "outputs": [
    {
     "name": "stdout",
     "output_type": "stream",
     "text": [
      "2\n",
      "5\n",
      "8\n",
      "11\n",
      "14\n",
      "17\n",
      "20\n",
      "23\n",
      "26\n",
      "29\n"
     ]
    }
   ],
   "source": [
    "# Increment the sequence with 3 (default is 1)\n",
    "\n",
    "for x in range(2, 30, 3):\n",
    "  print(x)"
   ]
  },
  {
   "cell_type": "markdown",
   "metadata": {
    "id": "vazRHMOCTcrR"
   },
   "source": [
    "### 5. Else in For Loop\n",
    "- The else keyword in a for loop specifies a block of code to be executed when the loop is finished:\n",
    "\n",
    "- Python allows an optional else clause at the end of a for loop. The else clause will be executed if the loop terminates naturally (through exhaustion)."
   ]
  },
  {
   "cell_type": "code",
   "execution_count": null,
   "metadata": {
    "colab": {
     "base_uri": "https://localhost:8080/",
     "height": 136
    },
    "id": "fYVJCdmVRfcx",
    "outputId": "4b1217a0-9776-44f3-ae4f-3a7eead6e91a"
   },
   "outputs": [
    {
     "name": "stdout",
     "output_type": "stream",
     "text": [
      "0\n",
      "1\n",
      "2\n",
      "3\n",
      "4\n",
      "5\n",
      "Finally finished!\n"
     ]
    }
   ],
   "source": [
    "# Print all numbers from 0 to 5, and print a message when the loop has ended:\n",
    "\n",
    "for x in range(6):\n",
    "  print(x)\n",
    "else:\n",
    "  print(\"Finally finished!\")"
   ]
  },
  {
   "cell_type": "code",
   "execution_count": null,
   "metadata": {
    "colab": {
     "base_uri": "https://localhost:8080/",
     "height": 102
    },
    "id": "_FUYSHyDko2P",
    "outputId": "0e794314-5be4-45bf-8881-f7adf8a082d0"
   },
   "outputs": [
    {
     "name": "stdout",
     "output_type": "stream",
     "text": [
      "red\n",
      "green\n",
      "blue\n",
      "yellow\n",
      "Done!\n"
     ]
    }
   ],
   "source": [
    "colors = ['red', 'green', 'blue', 'yellow']\n",
    "for x in colors:\n",
    "    print(x)\n",
    "else:\n",
    "    print('Done!')\n",
    "# Prints red green blue yellow\n",
    "# Prints Done!"
   ]
  },
  {
   "cell_type": "markdown",
   "metadata": {
    "id": "VuoPpqkrk2fg"
   },
   "source": [
    "- If the loop terminates prematurely with break, the else clause won’t be executed."
   ]
  },
  {
   "cell_type": "code",
   "execution_count": null,
   "metadata": {
    "colab": {
     "base_uri": "https://localhost:8080/",
     "height": 51
    },
    "id": "p8bCWv3pk19q",
    "outputId": "550869a2-8164-43c1-f579-a7e56c6be1ae"
   },
   "outputs": [
    {
     "name": "stdout",
     "output_type": "stream",
     "text": [
      "red\n",
      "green\n"
     ]
    }
   ],
   "source": [
    "colors = ['red', 'green', 'blue', 'yellow']\n",
    "for x in colors:\n",
    "    if x == 'blue':\n",
    "        break\n",
    "    print(x)\n",
    "else:\n",
    "    print('Done!')\n",
    "# Prints red green"
   ]
  },
  {
   "cell_type": "markdown",
   "metadata": {
    "id": "XOs--Ay1Tx6R"
   },
   "source": [
    "### 6. Nested Loops\n",
    "- A **nested loop** is a loop **inside a loop**.\n",
    "\n",
    "- The **\"inner loop\"** will be executed **one time** for each iteration of the **\"outer loop\":**\n",
    "\n",
    "- A loop inside another loop is called a nested loop."
   ]
  },
  {
   "cell_type": "code",
   "execution_count": null,
   "metadata": {
    "colab": {
     "base_uri": "https://localhost:8080/",
     "height": 170
    },
    "id": "HPY63LPmRfh4",
    "outputId": "641b400d-9d75-437b-fd44-4fd783827f31"
   },
   "outputs": [
    {
     "name": "stdout",
     "output_type": "stream",
     "text": [
      "red apple\n",
      "red banana\n",
      "red cherry\n",
      "big apple\n",
      "big banana\n",
      "big cherry\n",
      "tasty apple\n",
      "tasty banana\n",
      "tasty cherry\n"
     ]
    }
   ],
   "source": [
    "# Print each adjective for every fruit:\n",
    "\n",
    "adj = [\"red\", \"big\", \"tasty\"]\n",
    "fruits = [\"apple\", \"banana\", \"cherry\"]\n",
    "\n",
    "for x in adj:\n",
    "  for y in fruits:\n",
    "    print(x, y)"
   ]
  },
  {
   "cell_type": "code",
   "execution_count": null,
   "metadata": {
    "colab": {
     "base_uri": "https://localhost:8080/",
     "height": 170
    },
    "id": "vlLob-F0lPyp",
    "outputId": "99976add-bf54-42ca-f8e2-fff8421f89f7"
   },
   "outputs": [
    {
     "name": "stdout",
     "output_type": "stream",
     "text": [
      "1\n",
      "2\n",
      "3\n",
      "4\n",
      "5\n",
      "6\n",
      "7\n",
      "8\n",
      "9\n"
     ]
    }
   ],
   "source": [
    "# Flatten a nested list\n",
    "list = [[1, 2, 3],[4, 5, 6],[7, 8, 9]]   \n",
    "for sublist in list:\n",
    "    for number in sublist:\n",
    "        print(number)\n",
    "# Prints 1 2 3 4 5 6 7 8 9"
   ]
  },
  {
   "cell_type": "markdown",
   "metadata": {
    "id": "h1FI8Dh9dd1w"
   },
   "source": [
    "### Dictionary"
   ]
  },
  {
   "cell_type": "code",
   "execution_count": null,
   "metadata": {
    "colab": {
     "base_uri": "https://localhost:8080/",
     "height": 34
    },
    "id": "kzNZQGcidcnD",
    "outputId": "dc614877-2cb5-4682-848b-7101134c92dc"
   },
   "outputs": [
    {
     "data": {
      "text/plain": [
       "dict_items([('foo', 1), ('bar', 2), ('baz', 3)])"
      ]
     },
     "execution_count": 15,
     "metadata": {
      "tags": []
     },
     "output_type": "execute_result"
    }
   ],
   "source": [
    "d = {'foo': 1, 'bar': 2, 'baz': 3}\n",
    "d.items()"
   ]
  },
  {
   "cell_type": "code",
   "execution_count": null,
   "metadata": {
    "colab": {
     "base_uri": "https://localhost:8080/",
     "height": 68
    },
    "id": "WCjIDJoidcrS",
    "outputId": "ab433a0f-0e8b-40fc-aa06-bc512c6217f3"
   },
   "outputs": [
    {
     "name": "stdout",
     "output_type": "stream",
     "text": [
      "k = foo , v = 1\n",
      "k = bar , v = 2\n",
      "k = baz , v = 3\n"
     ]
    }
   ],
   "source": [
    "d = {'foo': 1, 'bar': 2, 'baz': 3}\n",
    "\n",
    "for k, v in d.items():\n",
    "  print('k =', k, ', v =', v)"
   ]
  },
  {
   "cell_type": "markdown",
   "metadata": {
    "id": "lHO_-B1tlnM2"
   },
   "source": [
    "### Access Index in for Loop\n",
    "- To iterate over the indices of a sequence, you can combine range() and len() as follows:"
   ]
  },
  {
   "cell_type": "code",
   "execution_count": null,
   "metadata": {
    "colab": {
     "base_uri": "https://localhost:8080/",
     "height": 68
    },
    "id": "q98zo2Dolk9_",
    "outputId": "7f5beb97-a619-4cb8-b6bb-5366172917c4"
   },
   "outputs": [
    {
     "name": "stdout",
     "output_type": "stream",
     "text": [
      "0 red\n",
      "1 green\n",
      "2 blue\n"
     ]
    }
   ],
   "source": [
    "colors = ['red', 'green', 'blue']\n",
    "for index in range(len(colors)):\n",
    "    print(index, colors[index])"
   ]
  },
  {
   "cell_type": "code",
   "execution_count": null,
   "metadata": {
    "colab": {
     "base_uri": "https://localhost:8080/",
     "height": 68
    },
    "id": "eOM3MdmFllB3",
    "outputId": "14756f32-7d52-40b8-e8f1-3bb958df93e3"
   },
   "outputs": [
    {
     "name": "stdout",
     "output_type": "stream",
     "text": [
      "0 red\n",
      "1 green\n",
      "2 blue\n"
     ]
    }
   ],
   "source": [
    "# However, in most such cases it is convenient to use the enumerate() function.\n",
    "\n",
    "colors = ['red', 'green', 'blue']\n",
    "for index, value in enumerate(colors):\n",
    "    print(index, value)"
   ]
  },
  {
   "cell_type": "markdown",
   "metadata": {
    "id": "Fhfpgz6WvNxP"
   },
   "source": [
    "### Unpacking in a for loop\n",
    "- Below for loop does a multiple assignment (unpack the current tuple) each time through the loop"
   ]
  },
  {
   "cell_type": "code",
   "execution_count": null,
   "metadata": {
    "colab": {
     "base_uri": "https://localhost:8080/",
     "height": 68
    },
    "id": "M8894s-_vNF0",
    "outputId": "58792482-9631-4148-8046-45f44d3bfb5d"
   },
   "outputs": [
    {
     "name": "stdout",
     "output_type": "stream",
     "text": [
      "1 2\n",
      "3 4\n",
      "5 6\n"
     ]
    }
   ],
   "source": [
    "# Tuple unpacking\n",
    "\n",
    "T = [(1, 2), (3, 4), (5, 6)]\n",
    "for (a, b) in T:\n",
    "    print(a, b)"
   ]
  },
  {
   "cell_type": "markdown",
   "metadata": {
    "id": "2scAvab_vdhg"
   },
   "source": [
    "- Likewise, you can iterate through both keys and values in a dictionary"
   ]
  },
  {
   "cell_type": "code",
   "execution_count": null,
   "metadata": {
    "colab": {
     "base_uri": "https://localhost:8080/",
     "height": 51
    },
    "id": "-E203dbYvZ9T",
    "outputId": "f01b6eb7-54db-4a40-ecc3-c47041cdab72"
   },
   "outputs": [
    {
     "name": "stdout",
     "output_type": "stream",
     "text": [
      "name Bob\n",
      "age 25\n"
     ]
    }
   ],
   "source": [
    "# Dictionary unpacking\n",
    "\n",
    "D = {'name': 'Bob', 'age': 25}\n",
    "for x, y in D.items():\n",
    "\tprint(x, y)"
   ]
  },
  {
   "cell_type": "markdown",
   "metadata": {
    "id": "m0VTDkyej8rv"
   },
   "source": [
    "-----------------------"
   ]
  },
  {
   "cell_type": "markdown",
   "metadata": {
    "id": "8aSc2wn3isz9"
   },
   "source": [
    "https://www.w3schools.com/python/ref_string_format.asp"
   ]
  },
  {
   "cell_type": "code",
   "execution_count": null,
   "metadata": {
    "colab": {
     "base_uri": "https://localhost:8080/",
     "height": 34
    },
    "id": "-oUqqaKFX1yM",
    "outputId": "3f0aa532-3334-49e7-b161-96df1f7da92f"
   },
   "outputs": [
    {
     "name": "stdout",
     "output_type": "stream",
     "text": [
      "The sum of 2 and 10 is 12\n"
     ]
    }
   ],
   "source": [
    "# What is the output of the following statement?\n",
    "\n",
    "print('The sum of {0} and {1} is {2}'.format(2, 10, 12))"
   ]
  },
  {
   "cell_type": "code",
   "execution_count": null,
   "metadata": {
    "colab": {
     "base_uri": "https://localhost:8080/",
     "height": 35
    },
    "id": "iUTMXC88eiqD",
    "outputId": "a92daa27-dd37-418e-b47a-dd7e3cd47da5"
   },
   "outputs": [
    {
     "data": {
      "application/vnd.google.colaboratory.intrinsic+json": {
       "type": "string"
      },
      "text/plain": [
       "'one two'"
      ]
     },
     "execution_count": 52,
     "metadata": {
      "tags": []
     },
     "output_type": "execute_result"
    }
   ],
   "source": [
    "'{} {}'.format('one', 'two')"
   ]
  },
  {
   "cell_type": "code",
   "execution_count": null,
   "metadata": {
    "colab": {
     "base_uri": "https://localhost:8080/",
     "height": 34
    },
    "id": "s7nL_vr6e3Gw",
    "outputId": "58280113-63a0-4878-8460-cacdab8c75c6"
   },
   "outputs": [
    {
     "name": "stdout",
     "output_type": "stream",
     "text": [
      "one two\n"
     ]
    }
   ],
   "source": [
    "print('{} {}'.format('one', 'two'))"
   ]
  },
  {
   "cell_type": "code",
   "execution_count": null,
   "metadata": {
    "colab": {
     "base_uri": "https://localhost:8080/",
     "height": 35
    },
    "id": "7UM8x9e0eitw",
    "outputId": "fb31bf07-6bc0-46c1-f840-fa3f649225e1"
   },
   "outputs": [
    {
     "data": {
      "application/vnd.google.colaboratory.intrinsic+json": {
       "type": "string"
      },
      "text/plain": [
       "'1 2'"
      ]
     },
     "execution_count": 53,
     "metadata": {
      "tags": []
     },
     "output_type": "execute_result"
    }
   ],
   "source": [
    "'{} {}'.format(1, 2)"
   ]
  },
  {
   "cell_type": "code",
   "execution_count": null,
   "metadata": {
    "colab": {
     "base_uri": "https://localhost:8080/",
     "height": 34
    },
    "id": "u_1PaZdwe3jx",
    "outputId": "ef0fd20b-b8f4-4609-e1bd-a46abb5dc37f"
   },
   "outputs": [
    {
     "name": "stdout",
     "output_type": "stream",
     "text": [
      "1 2\n"
     ]
    }
   ],
   "source": [
    "print('{} {}'.format(1, 2))"
   ]
  },
  {
   "cell_type": "code",
   "execution_count": null,
   "metadata": {
    "colab": {
     "base_uri": "https://localhost:8080/",
     "height": 35
    },
    "id": "xMYratfcfRNB",
    "outputId": "aca0b584-9020-4eed-d2d3-f25f9cd8c4d5"
   },
   "outputs": [
    {
     "data": {
      "application/vnd.google.colaboratory.intrinsic+json": {
       "type": "string"
      },
      "text/plain": [
       "'two one'"
      ]
     },
     "execution_count": 56,
     "metadata": {
      "tags": []
     },
     "output_type": "execute_result"
    }
   ],
   "source": [
    "'{1} {0}'.format('one', 'two')"
   ]
  },
  {
   "cell_type": "code",
   "execution_count": null,
   "metadata": {
    "id": "MpEtvlUkfRQ7"
   },
   "outputs": [],
   "source": [
    "from datetime import datetime"
   ]
  },
  {
   "cell_type": "code",
   "execution_count": null,
   "metadata": {
    "colab": {
     "base_uri": "https://localhost:8080/",
     "height": 35
    },
    "id": "ASl2xZBXfRU4",
    "outputId": "bc03b22c-c491-4538-b441-bf83867c87b8"
   },
   "outputs": [
    {
     "data": {
      "application/vnd.google.colaboratory.intrinsic+json": {
       "type": "string"
      },
      "text/plain": [
       "'2001-02-03 04:05'"
      ]
     },
     "execution_count": 58,
     "metadata": {
      "tags": []
     },
     "output_type": "execute_result"
    }
   ],
   "source": [
    "'{:%Y-%m-%d %H:%M}'.format(datetime(2001, 2, 3, 4, 5))"
   ]
  },
  {
   "cell_type": "code",
   "execution_count": null,
   "metadata": {
    "colab": {
     "base_uri": "https://localhost:8080/",
     "height": 34
    },
    "id": "ndHvsFgBfRYq",
    "outputId": "1ffcd4d5-035c-4940-aece-2c5905c14565"
   },
   "outputs": [
    {
     "name": "stdout",
     "output_type": "stream",
     "text": [
      "For only 49.00 dollars!\n"
     ]
    }
   ],
   "source": [
    "txt = \"For only {price:.2f} dollars!\"\n",
    "print(txt.format(price = 49))"
   ]
  },
  {
   "cell_type": "markdown",
   "metadata": {
    "id": "UViQlabdhKD6"
   },
   "source": [
    "### The Placeholders\n",
    "- The **placeholders** can be identified using **named indexes {price}**, **numbered indexes {0}**, or even **empty placeholders {}**"
   ]
  },
  {
   "cell_type": "code",
   "execution_count": null,
   "metadata": {
    "id": "p37DLvcbhOnL"
   },
   "outputs": [],
   "source": [
    "# Using different placeholder values\n",
    "txt1 = \"My name is {fname}, I'am {age}\".format(fname = \"John\", age = 36)\n",
    "txt2 = \"My name is {0}, I'am {1}\".format(\"John\",36)\n",
    "txt3 = \"My name is {}, I'am {}\".format(\"John\",36)"
   ]
  },
  {
   "cell_type": "code",
   "execution_count": null,
   "metadata": {
    "colab": {
     "base_uri": "https://localhost:8080/",
     "height": 35
    },
    "id": "1y9bF1LthOrB",
    "outputId": "0c82e2dd-045b-467c-d5ab-dc146defcaf6"
   },
   "outputs": [
    {
     "data": {
      "application/vnd.google.colaboratory.intrinsic+json": {
       "type": "string"
      },
      "text/plain": [
       "\"My name is John, I'am 36\""
      ]
     },
     "execution_count": 62,
     "metadata": {
      "tags": []
     },
     "output_type": "execute_result"
    }
   ],
   "source": [
    "txt1"
   ]
  },
  {
   "cell_type": "code",
   "execution_count": null,
   "metadata": {
    "colab": {
     "base_uri": "https://localhost:8080/",
     "height": 35
    },
    "id": "A2Qp2pEXhOup",
    "outputId": "56cca942-2691-4212-a22e-13193c1f6cb0"
   },
   "outputs": [
    {
     "data": {
      "application/vnd.google.colaboratory.intrinsic+json": {
       "type": "string"
      },
      "text/plain": [
       "\"My name is John, I'am 36\""
      ]
     },
     "execution_count": 65,
     "metadata": {
      "tags": []
     },
     "output_type": "execute_result"
    }
   ],
   "source": [
    "txt2"
   ]
  },
  {
   "cell_type": "code",
   "execution_count": null,
   "metadata": {
    "colab": {
     "base_uri": "https://localhost:8080/",
     "height": 35
    },
    "id": "ZkcQSR_ghOyL",
    "outputId": "b29bbede-4820-4c52-a9a6-13b789036ddb"
   },
   "outputs": [
    {
     "data": {
      "application/vnd.google.colaboratory.intrinsic+json": {
       "type": "string"
      },
      "text/plain": [
       "\"My name is John, I'am 36\""
      ]
     },
     "execution_count": 66,
     "metadata": {
      "tags": []
     },
     "output_type": "execute_result"
    }
   ],
   "source": [
    "txt3"
   ]
  },
  {
   "cell_type": "markdown",
   "metadata": {
    "id": "u3W5yox8jWEU"
   },
   "source": [
    "### Syntax : { } .format(value)"
   ]
  },
  {
   "cell_type": "code",
   "execution_count": null,
   "metadata": {
    "colab": {
     "base_uri": "https://localhost:8080/",
     "height": 68
    },
    "id": "_c-0eeE_jDJ0",
    "outputId": "3b7f6d43-9625-4260-8d05-5a7fa89c798a"
   },
   "outputs": [
    {
     "name": "stdout",
     "output_type": "stream",
     "text": [
      "GeeksforGeeks, A computer science portal for geeks.\n",
      "This article is written in Python\n",
      "Hello, I am 18 years old !\n"
     ]
    }
   ],
   "source": [
    "# Python3 program to demonstarte the str.format() method \n",
    "  \n",
    "# using format option in a simple string \n",
    "print (\"{}, A computer science portal for geeks.\".format(\"GeeksforGeeks\")) \n",
    "  \n",
    "# using format option for a value stored in a variable \n",
    "str = \"This article is written in {}\"\n",
    "print (str.format(\"Python\")) \n",
    "  \n",
    "# formatting a string using a numeric constant \n",
    "print (\"Hello, I am {} years old !\".format(18))  "
   ]
  },
  {
   "cell_type": "markdown",
   "metadata": {
    "id": "8hEUn9gVjcWw"
   },
   "source": [
    "### Syntax : { } { } .format(value1, value2)"
   ]
  },
  {
   "cell_type": "code",
   "execution_count": null,
   "metadata": {
    "colab": {
     "base_uri": "https://localhost:8080/",
     "height": 68
    },
    "id": "ZA_y9ql_jDN7",
    "outputId": "7b6c386f-3222-4e4c-b533-440af56cb181"
   },
   "outputs": [
    {
     "name": "stdout",
     "output_type": "stream",
     "text": [
      "GeeksforGeeks, is a computer science portal for geeks\n",
      "Hi ! My name is User and I am 19 years old\n",
      "This is one two three four\n"
     ]
    }
   ],
   "source": [
    "# Python program using multiple place holders to demonstrate str.format() method  \n",
    "  \n",
    "# Multiple placeholders in format() function \n",
    "my_string = \"{}, is a {} science portal for {}\"\n",
    "print (my_string.format(\"GeeksforGeeks\", \"computer\", \"geeks\")) \n",
    "  \n",
    "# different datatypes can be used in formatting \n",
    "print (\"Hi ! My name is {} and I am {} years old\".format(\"User\", 19)) \n",
    "  \n",
    "# The values passed as parameters are replaced in order of their entry \n",
    "print (\"This is {} {} {} {}\".format(\"one\", \"two\", \"three\", \"four\")) "
   ]
  },
  {
   "cell_type": "markdown",
   "metadata": {
    "id": "inWvOuZ2lOQi"
   },
   "source": [
    "---------------------------------"
   ]
  },
  {
   "cell_type": "code",
   "execution_count": null,
   "metadata": {
    "colab": {
     "base_uri": "https://localhost:8080/",
     "height": 187
    },
    "id": "jfW8zn4flPgw",
    "outputId": "a16f09cf-c1be-44ff-b8ec-062e128bcd25"
   },
   "outputs": [
    {
     "name": "stdout",
     "output_type": "stream",
     "text": [
      " 1   1    1\n",
      " 2   4    8\n",
      " 3   9   27\n",
      " 4  16   64\n",
      " 5  25  125\n",
      " 6  36  216\n",
      " 7  49  343\n",
      " 8  64  512\n",
      " 9  81  729\n",
      "10 100 1000\n"
     ]
    }
   ],
   "source": [
    "for x in range(1, 11):\n",
    "  print(repr(x).rjust(2), repr(x*x).rjust(3), end=' ')\n",
    "  print(repr(x*x*x).rjust(4))"
   ]
  },
  {
   "cell_type": "code",
   "execution_count": null,
   "metadata": {
    "colab": {
     "base_uri": "https://localhost:8080/",
     "height": 85
    },
    "id": "03uVZF9hlPkb",
    "outputId": "37eb680e-7595-4017-bde6-8461adfc1bee"
   },
   "outputs": [
    {
     "name": "stdout",
     "output_type": "stream",
     "text": [
      "t\n",
      "e\n",
      "n\n",
      "t\n"
     ]
    }
   ],
   "source": [
    "for i in range(4):\n",
    "  if(i==2):\n",
    "    print('n')\n",
    "  elif(i==1):\n",
    "    print('e')\n",
    "  else:\n",
    "    print('t')"
   ]
  },
  {
   "cell_type": "code",
   "execution_count": null,
   "metadata": {
    "colab": {
     "base_uri": "https://localhost:8080/",
     "height": 34
    },
    "id": "jZRbyBOLlPod",
    "outputId": "0846f619-d325-4770-d769-d9f0446a3dd2"
   },
   "outputs": [
    {
     "name": "stdout",
     "output_type": "stream",
     "text": [
      "tent"
     ]
    }
   ],
   "source": [
    "# What is the output of this code?\n",
    "\n",
    "for i in range(4):\n",
    "  if(i==2):\n",
    "    print('n', end=\"\")\n",
    "  elif(i==1):\n",
    "    print('e', end=\"\")\n",
    "  else:\n",
    "    print('t', end=\"\")"
   ]
  },
  {
   "cell_type": "markdown",
   "metadata": {
    "id": "7lAbf1aMcmXM"
   },
   "source": [
    "https://www.learnbyexample.org/python-functions/"
   ]
  }
 ],
 "metadata": {
  "colab": {
   "collapsed_sections": [
    "40L-5N-2Zv4y",
    "EPw6JhndNIqh",
    "9zLedItDmIG_",
    "g32JXYDcmKOO",
    "tp4d50uFNvbM",
    "v3K4U-NEPVVO",
    "jCvwBwA-UeRz",
    "WcbarKP4Qw0_",
    "vazRHMOCTcrR",
    "XOs--Ay1Tx6R",
    "h1FI8Dh9dd1w",
    "lHO_-B1tlnM2",
    "Fhfpgz6WvNxP",
    "UViQlabdhKD6",
    "u3W5yox8jWEU",
    "8hEUn9gVjcWw"
   ],
   "name": "4_for Loop All.ipynb",
   "provenance": []
  },
  "kernelspec": {
   "display_name": "Python 3",
   "language": "python",
   "name": "python3"
  },
  "language_info": {
   "codemirror_mode": {
    "name": "ipython",
    "version": 3
   },
   "file_extension": ".py",
   "mimetype": "text/x-python",
   "name": "python",
   "nbconvert_exporter": "python",
   "pygments_lexer": "ipython3",
   "version": "3.7.3"
  }
 },
 "nbformat": 4,
 "nbformat_minor": 1
}
