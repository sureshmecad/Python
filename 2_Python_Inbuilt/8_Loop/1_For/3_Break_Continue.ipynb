{
 "cells": [
  {
   "cell_type": "code",
   "execution_count": 3,
   "metadata": {},
   "outputs": [
    {
     "name": "stdout",
     "output_type": "stream",
     "text": [
      "1\n",
      "2\n",
      "3\n",
      "4\n",
      "5\n"
     ]
    }
   ],
   "source": [
    "List = [1,2,3,4,5]\n",
    "\n",
    "for num in List:\n",
    "    print(num)"
   ]
  },
  {
   "cell_type": "code",
   "execution_count": 2,
   "metadata": {},
   "outputs": [
    {
     "name": "stdout",
     "output_type": "stream",
     "text": [
      "1\n",
      "2\n",
      "Found!\n",
      "3\n",
      "4\n",
      "5\n"
     ]
    }
   ],
   "source": [
    "List = [1,2,3,4,5]\n",
    "\n",
    "for num in List:\n",
    "    if num == 3:\n",
    "        print('Found!')\n",
    "                \n",
    "    print(num)"
   ]
  },
  {
   "cell_type": "markdown",
   "metadata": {},
   "source": [
    "### Continue"
   ]
  },
  {
   "cell_type": "code",
   "execution_count": 4,
   "metadata": {},
   "outputs": [
    {
     "name": "stdout",
     "output_type": "stream",
     "text": [
      "1\n",
      "2\n",
      "Found!\n",
      "4\n",
      "5\n"
     ]
    }
   ],
   "source": [
    "List = [1,2,3,4,5]\n",
    "\n",
    "for num in List:\n",
    "    if num == 3:\n",
    "        print('Found!')\n",
    "        continue\n",
    "        \n",
    "    print(num)"
   ]
  },
  {
   "cell_type": "raw",
   "metadata": {},
   "source": [
    "for n in myNumberList:\n",
    "    if n%50 == 0:\n",
    "        continue   # breaks if n is mult of 50\n",
    "    else:\n",
    "        print(n)\n",
    "        \n",
    "print(\"prints after loop ends\")"
   ]
  },
  {
   "cell_type": "markdown",
   "metadata": {},
   "source": [
    "### Break\n",
    "- break is used to terminate the loop. Execution continues on the first line after the loop."
   ]
  },
  {
   "cell_type": "code",
   "execution_count": 1,
   "metadata": {},
   "outputs": [
    {
     "name": "stdout",
     "output_type": "stream",
     "text": [
      "1\n",
      "2\n",
      "Found!\n"
     ]
    }
   ],
   "source": [
    "List = [1,2,3,4,5]\n",
    "\n",
    "for num in List:\n",
    "    if num == 3:\n",
    "        print('Found!')\n",
    "        break\n",
    "        \n",
    "    print(num)"
   ]
  },
  {
   "cell_type": "raw",
   "metadata": {},
   "source": [
    "for n in myNumberList:\n",
    "    if n%50 == 0:\n",
    "        break   # breaks if n is mult of 50\n",
    "    else:\n",
    "        print(n)\n",
    "        \n",
    "print(\"execusion continues here after break\")"
   ]
  }
 ],
 "metadata": {
  "kernelspec": {
   "display_name": "Python 3",
   "language": "python",
   "name": "python3"
  },
  "language_info": {
   "codemirror_mode": {
    "name": "ipython",
    "version": 3
   },
   "file_extension": ".py",
   "mimetype": "text/x-python",
   "name": "python",
   "nbconvert_exporter": "python",
   "pygments_lexer": "ipython3",
   "version": "3.7.3"
  }
 },
 "nbformat": 4,
 "nbformat_minor": 2
}
