{
  "nbformat": 4,
  "nbformat_minor": 0,
  "metadata": {
    "colab": {
      "name": "1_for_continue.ipynb",
      "provenance": [],
      "collapsed_sections": []
    },
    "kernelspec": {
      "name": "python3",
      "display_name": "Python 3"
    },
    "language_info": {
      "name": "python"
    }
  },
  "cells": [
    {
      "cell_type": "code",
      "metadata": {
        "colab": {
          "base_uri": "https://localhost:8080/"
        },
        "id": "ayG4mo6PGRXe",
        "outputId": "9dd28dd9-1710-48d8-958f-9db8cce8ff0f"
      },
      "source": [
        "CityList = ['Hyderabad', 'Vizag', 'Bangalore', 'Chennai']\n",
        "\n",
        "for city in CityList:\n",
        "  if city == \"Bangalore\":\n",
        "    continue\n",
        "  print(city)"
      ],
      "execution_count": null,
      "outputs": [
        {
          "output_type": "stream",
          "name": "stdout",
          "text": [
            "Hyderabad\n",
            "Vizag\n",
            "Chennai\n"
          ]
        }
      ]
    },
    {
      "cell_type": "markdown",
      "metadata": {
        "id": "UbZwy1IlGnaU"
      },
      "source": [
        "## **Print square of numbers between 1 to 5 EXCEPT even numbers**"
      ]
    },
    {
      "cell_type": "code",
      "metadata": {
        "colab": {
          "base_uri": "https://localhost:8080/"
        },
        "id": "20WwJJsEGztz",
        "outputId": "e8eda9d8-e919-461d-9acb-83946ef61d09"
      },
      "source": [
        "for i in range(1,6):\n",
        "  if i%2 == 0:\n",
        "    continue\n",
        "  print(i*i)"
      ],
      "execution_count": null,
      "outputs": [
        {
          "output_type": "stream",
          "name": "stdout",
          "text": [
            "1\n",
            "9\n",
            "25\n"
          ]
        }
      ]
    }
  ]
}