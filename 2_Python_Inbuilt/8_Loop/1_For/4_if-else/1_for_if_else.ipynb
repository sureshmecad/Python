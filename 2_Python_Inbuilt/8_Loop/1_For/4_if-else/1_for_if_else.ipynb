{
 "cells": [
  {
   "cell_type": "markdown",
   "metadata": {
    "id": "2xxcB8YQ9BM5"
   },
   "source": [
    "- A **for** loop can have an optional **else** block as well.\n",
    "\n",
    "- The **else** part is executed if the items in the sequence used in for loop **exhausts**."
   ]
  },
  {
   "cell_type": "code",
   "execution_count": null,
   "metadata": {
    "colab": {
     "base_uri": "https://localhost:8080/"
    },
    "id": "F_FgwDwC8m69",
    "outputId": "d87cc755-b44e-4872-9494-00e8566e6ab1"
   },
   "outputs": [
    {
     "name": "stdout",
     "output_type": "stream",
     "text": [
      "0\n",
      "1\n",
      "5\n",
      "No items left.\n"
     ]
    }
   ],
   "source": [
    "digits = [0, 1, 5]\n",
    "\n",
    "for i in digits:\n",
    "    print(i)\n",
    "else:\n",
    "    print(\"No items left.\")"
   ]
  },
  {
   "cell_type": "markdown",
   "metadata": {
    "id": "XEMvlpaf9bNn"
   },
   "source": [
    "- Here, the **for** loop prints items of the **list until the loop exhausts.** When the for **loop exhausts**, it executes the block of code in the **else** and prints **No items left.**"
   ]
  },
  {
   "cell_type": "markdown",
   "metadata": {
    "id": "Byc2q9sWGcdc"
   },
   "source": [
    "-------------------------"
   ]
  },
  {
   "cell_type": "code",
   "execution_count": null,
   "metadata": {
    "colab": {
     "base_uri": "https://localhost:8080/"
    },
    "id": "xj1jhgx-BfY9",
    "outputId": "70d4bec7-5d7f-4d60-90ed-16ab80ec932a"
   },
   "outputs": [
    {
     "name": "stdout",
     "output_type": "stream",
     "text": [
      "Hyderabad\n",
      "Vizag\n",
      "Bangalore\n",
      "Chennai\n",
      "City list completed\n"
     ]
    }
   ],
   "source": [
    "CityList = ['Hyderabad', 'Vizag', 'Bangalore', 'Chennai']\n",
    "\n",
    "for city in CityList:\n",
    "  print(city)\n",
    "else:\n",
    "  print(\"City list completed\")"
   ]
  },
  {
   "cell_type": "code",
   "execution_count": null,
   "metadata": {
    "colab": {
     "base_uri": "https://localhost:8080/"
    },
    "id": "syfAtGayBpPE",
    "outputId": "4a3d8f70-32ca-49d5-a929-5c49d408ccc7"
   },
   "outputs": [
    {
     "name": "stdout",
     "output_type": "stream",
     "text": [
      "10 less than 25\n",
      "20 less than 25\n",
      "30 greater than 25\n",
      "40 greater than 25\n"
     ]
    }
   ],
   "source": [
    "for i in [10,20,30,40]:\n",
    "  if i>=25:\n",
    "    print(i, \"greater than 25\")\n",
    "  else:\n",
    "    print(i, \"less than 25\")"
   ]
  }
 ],
 "metadata": {
  "colab": {
   "collapsed_sections": [],
   "name": "1_for_if-else.ipynb",
   "provenance": []
  },
  "kernelspec": {
   "display_name": "Python 3",
   "language": "python",
   "name": "python3"
  },
  "language_info": {
   "codemirror_mode": {
    "name": "ipython",
    "version": 3
   },
   "file_extension": ".py",
   "mimetype": "text/x-python",
   "name": "python",
   "nbconvert_exporter": "python",
   "pygments_lexer": "ipython3",
   "version": "3.7.3"
  }
 },
 "nbformat": 4,
 "nbformat_minor": 1
}
