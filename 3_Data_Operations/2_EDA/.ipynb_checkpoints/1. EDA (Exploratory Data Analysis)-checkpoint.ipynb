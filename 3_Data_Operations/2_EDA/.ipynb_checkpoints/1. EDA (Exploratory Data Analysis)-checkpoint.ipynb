{
 "cells": [
  {
   "cell_type": "markdown",
   "metadata": {},
   "source": [
    "https://www.geeksforgeeks.org/exploratory-data-analysis-in-python/"
   ]
  },
  {
   "cell_type": "markdown",
   "metadata": {},
   "source": [
    "### EDA (Exploratory Data Analysis)"
   ]
  },
  {
   "cell_type": "raw",
   "metadata": {},
   "source": [
    "#  Univariate, Bivariate and Multivariate Analysis"
   ]
  },
  {
   "cell_type": "raw",
   "metadata": {},
   "source": [
    "\n",
    "1. EDA is a phenomenon under data analysis used for gaining a better understanding of data aspects like:\n",
    "\n",
    "      – main features of data\n",
    "      \n",
    "      – variables and relationships that hold between them\n",
    "      \n",
    "      – identifying which variables are important for our problem\n",
    "      \n",
    "      \n",
    "2. various exploratory data analysis methods like:\n",
    "\n",
    "      a. Descriptive Statistics, which is a way of giving a brief overview of the dataset we are dealing with,\n",
    "      \n",
    "         including some measures and features of the sample.\n",
    "         \n",
    "      b. Grouping data [Basic grouping with group by]\n",
    "      \n",
    "      c. ANOVA, Analysis Of Variance, which is a computational method to divide variations in an observations\n",
    "      \n",
    "         set into different components.\n",
    "         \n",
    "      d. Correlation and correlation methods\n",
    "      "
   ]
  },
  {
   "cell_type": "markdown",
   "metadata": {},
   "source": [
    "<h3 style=\"color:blue\" align=\"left\"> a. Descriptive Statistics </h3>"
   ]
  },
  {
   "cell_type": "raw",
   "metadata": {},
   "source": [
    "\n",
    "- Descriptive statistics is a helpful way to understand characteristics of your data and to get a quick summary of it.\n",
    "\n",
    "- Pandas in python provide an interesting method describe().\n",
    "\n",
    "- The describe function applies basic statistical computations on the dataset like\n",
    "\n",
    "        i) Extreme values\n",
    "    \n",
    "       ii) count of data points\n",
    "        \n",
    "      iii) standard deviation etc.\n",
    "    \n",
    "       iv) Any missing value or NaN value is automatically skipped.\n",
    "        \n",
    "        v) describe() function gives a good picture of distribution of data.\n"
   ]
  },
  {
   "cell_type": "code",
   "execution_count": 2,
   "metadata": {},
   "outputs": [],
   "source": [
    "import pandas as pd"
   ]
  },
  {
   "cell_type": "code",
   "execution_count": 4,
   "metadata": {},
   "outputs": [
    {
     "data": {
      "text/html": [
       "<div>\n",
       "<style scoped>\n",
       "    .dataframe tbody tr th:only-of-type {\n",
       "        vertical-align: middle;\n",
       "    }\n",
       "\n",
       "    .dataframe tbody tr th {\n",
       "        vertical-align: top;\n",
       "    }\n",
       "\n",
       "    .dataframe thead th {\n",
       "        text-align: right;\n",
       "    }\n",
       "</style>\n",
       "<table border=\"1\" class=\"dataframe\">\n",
       "  <thead>\n",
       "    <tr style=\"text-align: right;\">\n",
       "      <th></th>\n",
       "      <th>Unnamed: 0</th>\n",
       "      <th>region</th>\n",
       "      <th>population</th>\n",
       "      <th>sex</th>\n",
       "      <th>age</th>\n",
       "      <th>education</th>\n",
       "      <th>income</th>\n",
       "      <th>statusquo</th>\n",
       "      <th>vote</th>\n",
       "    </tr>\n",
       "  </thead>\n",
       "  <tbody>\n",
       "    <tr>\n",
       "      <th>0</th>\n",
       "      <td>1</td>\n",
       "      <td>N</td>\n",
       "      <td>175000</td>\n",
       "      <td>M</td>\n",
       "      <td>65.0</td>\n",
       "      <td>P</td>\n",
       "      <td>35000.0</td>\n",
       "      <td>1.00820</td>\n",
       "      <td>Y</td>\n",
       "    </tr>\n",
       "    <tr>\n",
       "      <th>1</th>\n",
       "      <td>2</td>\n",
       "      <td>N</td>\n",
       "      <td>175000</td>\n",
       "      <td>M</td>\n",
       "      <td>29.0</td>\n",
       "      <td>PS</td>\n",
       "      <td>7500.0</td>\n",
       "      <td>-1.29617</td>\n",
       "      <td>N</td>\n",
       "    </tr>\n",
       "    <tr>\n",
       "      <th>2</th>\n",
       "      <td>3</td>\n",
       "      <td>N</td>\n",
       "      <td>175000</td>\n",
       "      <td>F</td>\n",
       "      <td>38.0</td>\n",
       "      <td>P</td>\n",
       "      <td>15000.0</td>\n",
       "      <td>1.23072</td>\n",
       "      <td>Y</td>\n",
       "    </tr>\n",
       "    <tr>\n",
       "      <th>3</th>\n",
       "      <td>4</td>\n",
       "      <td>N</td>\n",
       "      <td>175000</td>\n",
       "      <td>F</td>\n",
       "      <td>49.0</td>\n",
       "      <td>P</td>\n",
       "      <td>35000.0</td>\n",
       "      <td>-1.03163</td>\n",
       "      <td>N</td>\n",
       "    </tr>\n",
       "    <tr>\n",
       "      <th>4</th>\n",
       "      <td>5</td>\n",
       "      <td>N</td>\n",
       "      <td>175000</td>\n",
       "      <td>F</td>\n",
       "      <td>23.0</td>\n",
       "      <td>S</td>\n",
       "      <td>35000.0</td>\n",
       "      <td>-1.10496</td>\n",
       "      <td>N</td>\n",
       "    </tr>\n",
       "    <tr>\n",
       "      <th>5</th>\n",
       "      <td>6</td>\n",
       "      <td>N</td>\n",
       "      <td>175000</td>\n",
       "      <td>F</td>\n",
       "      <td>28.0</td>\n",
       "      <td>P</td>\n",
       "      <td>7500.0</td>\n",
       "      <td>-1.04685</td>\n",
       "      <td>N</td>\n",
       "    </tr>\n",
       "    <tr>\n",
       "      <th>6</th>\n",
       "      <td>7</td>\n",
       "      <td>N</td>\n",
       "      <td>175000</td>\n",
       "      <td>M</td>\n",
       "      <td>26.0</td>\n",
       "      <td>PS</td>\n",
       "      <td>35000.0</td>\n",
       "      <td>-0.78626</td>\n",
       "      <td>N</td>\n",
       "    </tr>\n",
       "    <tr>\n",
       "      <th>7</th>\n",
       "      <td>8</td>\n",
       "      <td>N</td>\n",
       "      <td>175000</td>\n",
       "      <td>F</td>\n",
       "      <td>24.0</td>\n",
       "      <td>S</td>\n",
       "      <td>15000.0</td>\n",
       "      <td>-1.11348</td>\n",
       "      <td>N</td>\n",
       "    </tr>\n",
       "    <tr>\n",
       "      <th>8</th>\n",
       "      <td>9</td>\n",
       "      <td>N</td>\n",
       "      <td>175000</td>\n",
       "      <td>F</td>\n",
       "      <td>41.0</td>\n",
       "      <td>P</td>\n",
       "      <td>15000.0</td>\n",
       "      <td>-1.01292</td>\n",
       "      <td>U</td>\n",
       "    </tr>\n",
       "    <tr>\n",
       "      <th>9</th>\n",
       "      <td>10</td>\n",
       "      <td>N</td>\n",
       "      <td>175000</td>\n",
       "      <td>M</td>\n",
       "      <td>41.0</td>\n",
       "      <td>P</td>\n",
       "      <td>15000.0</td>\n",
       "      <td>-1.29617</td>\n",
       "      <td>N</td>\n",
       "    </tr>\n",
       "  </tbody>\n",
       "</table>\n",
       "</div>"
      ],
      "text/plain": [
       "   Unnamed: 0 region  population sex   age education   income  statusquo vote\n",
       "0           1      N      175000   M  65.0         P  35000.0    1.00820    Y\n",
       "1           2      N      175000   M  29.0        PS   7500.0   -1.29617    N\n",
       "2           3      N      175000   F  38.0         P  15000.0    1.23072    Y\n",
       "3           4      N      175000   F  49.0         P  35000.0   -1.03163    N\n",
       "4           5      N      175000   F  23.0         S  35000.0   -1.10496    N\n",
       "5           6      N      175000   F  28.0         P   7500.0   -1.04685    N\n",
       "6           7      N      175000   M  26.0        PS  35000.0   -0.78626    N\n",
       "7           8      N      175000   F  24.0         S  15000.0   -1.11348    N\n",
       "8           9      N      175000   F  41.0         P  15000.0   -1.01292    U\n",
       "9          10      N      175000   M  41.0         P  15000.0   -1.29617    N"
      ]
     },
     "execution_count": 4,
     "metadata": {},
     "output_type": "execute_result"
    }
   ],
   "source": [
    "url = \"C:/Users/deepusuresh/Documents/Data Science/01. Python/8. EDA\"\n",
    "df = pd.read_csv(\"Chile.csv\")\n",
    "df.head(10)"
   ]
  },
  {
   "cell_type": "code",
   "execution_count": 5,
   "metadata": {},
   "outputs": [
    {
     "data": {
      "text/html": [
       "<div>\n",
       "<style scoped>\n",
       "    .dataframe tbody tr th:only-of-type {\n",
       "        vertical-align: middle;\n",
       "    }\n",
       "\n",
       "    .dataframe tbody tr th {\n",
       "        vertical-align: top;\n",
       "    }\n",
       "\n",
       "    .dataframe thead th {\n",
       "        text-align: right;\n",
       "    }\n",
       "</style>\n",
       "<table border=\"1\" class=\"dataframe\">\n",
       "  <thead>\n",
       "    <tr style=\"text-align: right;\">\n",
       "      <th></th>\n",
       "      <th>Unnamed: 0</th>\n",
       "      <th>population</th>\n",
       "      <th>age</th>\n",
       "      <th>income</th>\n",
       "      <th>statusquo</th>\n",
       "    </tr>\n",
       "  </thead>\n",
       "  <tbody>\n",
       "    <tr>\n",
       "      <th>count</th>\n",
       "      <td>2700.000000</td>\n",
       "      <td>2700.000000</td>\n",
       "      <td>2699.000000</td>\n",
       "      <td>2602.000000</td>\n",
       "      <td>2.683000e+03</td>\n",
       "    </tr>\n",
       "    <tr>\n",
       "      <th>mean</th>\n",
       "      <td>1350.500000</td>\n",
       "      <td>152222.222222</td>\n",
       "      <td>38.548722</td>\n",
       "      <td>33875.864719</td>\n",
       "      <td>-1.118151e-08</td>\n",
       "    </tr>\n",
       "    <tr>\n",
       "      <th>std</th>\n",
       "      <td>779.567188</td>\n",
       "      <td>102198.039602</td>\n",
       "      <td>14.756415</td>\n",
       "      <td>39502.867120</td>\n",
       "      <td>1.000186e+00</td>\n",
       "    </tr>\n",
       "    <tr>\n",
       "      <th>min</th>\n",
       "      <td>1.000000</td>\n",
       "      <td>3750.000000</td>\n",
       "      <td>18.000000</td>\n",
       "      <td>2500.000000</td>\n",
       "      <td>-1.803010e+00</td>\n",
       "    </tr>\n",
       "    <tr>\n",
       "      <th>25%</th>\n",
       "      <td>675.750000</td>\n",
       "      <td>25000.000000</td>\n",
       "      <td>26.000000</td>\n",
       "      <td>7500.000000</td>\n",
       "      <td>-1.002235e+00</td>\n",
       "    </tr>\n",
       "    <tr>\n",
       "      <th>50%</th>\n",
       "      <td>1350.500000</td>\n",
       "      <td>175000.000000</td>\n",
       "      <td>36.000000</td>\n",
       "      <td>15000.000000</td>\n",
       "      <td>-4.558000e-02</td>\n",
       "    </tr>\n",
       "    <tr>\n",
       "      <th>75%</th>\n",
       "      <td>2025.250000</td>\n",
       "      <td>250000.000000</td>\n",
       "      <td>49.000000</td>\n",
       "      <td>35000.000000</td>\n",
       "      <td>9.685750e-01</td>\n",
       "    </tr>\n",
       "    <tr>\n",
       "      <th>max</th>\n",
       "      <td>2700.000000</td>\n",
       "      <td>250000.000000</td>\n",
       "      <td>70.000000</td>\n",
       "      <td>200000.000000</td>\n",
       "      <td>2.048590e+00</td>\n",
       "    </tr>\n",
       "  </tbody>\n",
       "</table>\n",
       "</div>"
      ],
      "text/plain": [
       "        Unnamed: 0     population          age         income     statusquo\n",
       "count  2700.000000    2700.000000  2699.000000    2602.000000  2.683000e+03\n",
       "mean   1350.500000  152222.222222    38.548722   33875.864719 -1.118151e-08\n",
       "std     779.567188  102198.039602    14.756415   39502.867120  1.000186e+00\n",
       "min       1.000000    3750.000000    18.000000    2500.000000 -1.803010e+00\n",
       "25%     675.750000   25000.000000    26.000000    7500.000000 -1.002235e+00\n",
       "50%    1350.500000  175000.000000    36.000000   15000.000000 -4.558000e-02\n",
       "75%    2025.250000  250000.000000    49.000000   35000.000000  9.685750e-01\n",
       "max    2700.000000  250000.000000    70.000000  200000.000000  2.048590e+00"
      ]
     },
     "execution_count": 5,
     "metadata": {},
     "output_type": "execute_result"
    }
   ],
   "source": [
    "df.describe()"
   ]
  },
  {
   "cell_type": "markdown",
   "metadata": {},
   "source": [
    "###  value_counts()"
   ]
  },
  {
   "cell_type": "raw",
   "metadata": {},
   "source": [
    "For an instance suppose you are dealing with a dataset of customers who are divided as youth, medium and old categories under \n",
    "\n",
    "column name age and your dataframe is “DF”. You can run this statement to know how many people fall in respective categories. \n",
    "\n",
    "In our data set example education column can be used"
   ]
  },
  {
   "cell_type": "code",
   "execution_count": 6,
   "metadata": {},
   "outputs": [
    {
     "data": {
      "text/plain": [
       "S     1120\n",
       "P     1107\n",
       "PS     462\n",
       "Name: education, dtype: int64"
      ]
     },
     "execution_count": 6,
     "metadata": {},
     "output_type": "execute_result"
    }
   ],
   "source": [
    "df[\"education\"].value_counts()"
   ]
  },
  {
   "cell_type": "markdown",
   "metadata": {},
   "source": [
    "### Box Plot"
   ]
  },
  {
   "cell_type": "raw",
   "metadata": {},
   "source": [
    "# boxplot which you can use through matplotlib module.\n",
    "\n",
    "  Boxplot is a pictorial representation of distribution of data which shows extreme values, median and quartiles.\n",
    "  \n",
    "  We can easily figure out outliers by using boxplots.\n",
    "  \n",
    "  Now consider the dataset we’ve been dealing with again and lets draw a boxplot on attribute population"
   ]
  },
  {
   "cell_type": "code",
   "execution_count": 7,
   "metadata": {},
   "outputs": [],
   "source": [
    "import matplotlib.pyplot as plt"
   ]
  },
  {
   "cell_type": "code",
   "execution_count": 8,
   "metadata": {},
   "outputs": [
    {
     "data": {
      "image/png": "[encoded data removed]",
      "text/plain": [
       "<Figure size 432x288 with 1 Axes>"
      ]
     },
     "metadata": {
      "needs_background": "light"
     },
     "output_type": "display_data"
    }
   ],
   "source": [
    "y = list(df.population) \n",
    "plt.boxplot(y) \n",
    "plt.show() "
   ]
  },
  {
   "cell_type": "markdown",
   "metadata": {},
   "source": [
    "<h3 style=\"color:blue\" align=\"left\"> b. Grouping data </h3>"
   ]
  },
  {
   "cell_type": "code",
   "execution_count": 9,
   "metadata": {},
   "outputs": [
    {
     "data": {
      "text/html": [
       "<div>\n",
       "<style scoped>\n",
       "    .dataframe tbody tr th:only-of-type {\n",
       "        vertical-align: middle;\n",
       "    }\n",
       "\n",
       "    .dataframe tbody tr th {\n",
       "        vertical-align: top;\n",
       "    }\n",
       "\n",
       "    .dataframe thead th {\n",
       "        text-align: right;\n",
       "    }\n",
       "</style>\n",
       "<table border=\"1\" class=\"dataframe\">\n",
       "  <thead>\n",
       "    <tr style=\"text-align: right;\">\n",
       "      <th></th>\n",
       "      <th></th>\n",
       "      <th>Unnamed: 0</th>\n",
       "      <th>population</th>\n",
       "      <th>age</th>\n",
       "      <th>income</th>\n",
       "      <th>statusquo</th>\n",
       "    </tr>\n",
       "    <tr>\n",
       "      <th>education</th>\n",
       "      <th>vote</th>\n",
       "      <th></th>\n",
       "      <th></th>\n",
       "      <th></th>\n",
       "      <th></th>\n",
       "      <th></th>\n",
       "    </tr>\n",
       "  </thead>\n",
       "  <tbody>\n",
       "    <tr>\n",
       "      <th rowspan=\"4\" valign=\"top\">P</th>\n",
       "      <th>A</th>\n",
       "      <td>1231.346154</td>\n",
       "      <td>141538.461538</td>\n",
       "      <td>40.653846</td>\n",
       "      <td>19489.795918</td>\n",
       "      <td>-0.207768</td>\n",
       "    </tr>\n",
       "    <tr>\n",
       "      <th>N</th>\n",
       "      <td>1289.187970</td>\n",
       "      <td>148312.969925</td>\n",
       "      <td>43.018797</td>\n",
       "      <td>16650.763359</td>\n",
       "      <td>-0.926576</td>\n",
       "    </tr>\n",
       "    <tr>\n",
       "      <th>U</th>\n",
       "      <td>1362.611486</td>\n",
       "      <td>129518.581081</td>\n",
       "      <td>46.091525</td>\n",
       "      <td>16783.216783</td>\n",
       "      <td>0.082548</td>\n",
       "    </tr>\n",
       "    <tr>\n",
       "      <th>Y</th>\n",
       "      <td>1186.511848</td>\n",
       "      <td>107316.350711</td>\n",
       "      <td>44.902844</td>\n",
       "      <td>18469.512195</td>\n",
       "      <td>0.938229</td>\n",
       "    </tr>\n",
       "    <tr>\n",
       "      <th rowspan=\"4\" valign=\"top\">PS</th>\n",
       "      <th>A</th>\n",
       "      <td>1363.750000</td>\n",
       "      <td>183476.562500</td>\n",
       "      <td>31.718750</td>\n",
       "      <td>48467.741935</td>\n",
       "      <td>-0.237501</td>\n",
       "    </tr>\n",
       "    <tr>\n",
       "      <th>N</th>\n",
       "      <td>1374.111607</td>\n",
       "      <td>184492.187500</td>\n",
       "      <td>33.071429</td>\n",
       "      <td>63238.636364</td>\n",
       "      <td>-0.934572</td>\n",
       "    </tr>\n",
       "    <tr>\n",
       "      <th>U</th>\n",
       "      <td>1562.019231</td>\n",
       "      <td>174447.115385</td>\n",
       "      <td>33.634615</td>\n",
       "      <td>58281.250000</td>\n",
       "      <td>-0.062994</td>\n",
       "    </tr>\n",
       "    <tr>\n",
       "      <th>Y</th>\n",
       "      <td>1466.438462</td>\n",
       "      <td>179653.846154</td>\n",
       "      <td>35.469231</td>\n",
       "      <td>88252.032520</td>\n",
       "      <td>1.058944</td>\n",
       "    </tr>\n",
       "    <tr>\n",
       "      <th rowspan=\"4\" valign=\"top\">S</th>\n",
       "      <th>A</th>\n",
       "      <td>1232.339806</td>\n",
       "      <td>161225.728155</td>\n",
       "      <td>32.029126</td>\n",
       "      <td>35176.767677</td>\n",
       "      <td>-0.165996</td>\n",
       "    </tr>\n",
       "    <tr>\n",
       "      <th>N</th>\n",
       "      <td>1370.118388</td>\n",
       "      <td>175771.410579</td>\n",
       "      <td>32.438287</td>\n",
       "      <td>36071.428571</td>\n",
       "      <td>-0.885498</td>\n",
       "    </tr>\n",
       "    <tr>\n",
       "      <th>U</th>\n",
       "      <td>1450.565401</td>\n",
       "      <td>175047.468354</td>\n",
       "      <td>34.489451</td>\n",
       "      <td>30325.112108</td>\n",
       "      <td>0.007525</td>\n",
       "    </tr>\n",
       "    <tr>\n",
       "      <th>Y</th>\n",
       "      <td>1339.598071</td>\n",
       "      <td>144192.122186</td>\n",
       "      <td>35.993569</td>\n",
       "      <td>39975.328947</td>\n",
       "      <td>0.898503</td>\n",
       "    </tr>\n",
       "  </tbody>\n",
       "</table>\n",
       "</div>"
      ],
      "text/plain": [
       "                 Unnamed: 0     population        age        income  statusquo\n",
       "education vote                                                                \n",
       "P         A     1231.346154  141538.461538  40.653846  19489.795918  -0.207768\n",
       "          N     1289.187970  148312.969925  43.018797  16650.763359  -0.926576\n",
       "          U     1362.611486  129518.581081  46.091525  16783.216783   0.082548\n",
       "          Y     1186.511848  107316.350711  44.902844  18469.512195   0.938229\n",
       "PS        A     1363.750000  183476.562500  31.718750  48467.741935  -0.237501\n",
       "          N     1374.111607  184492.187500  33.071429  63238.636364  -0.934572\n",
       "          U     1562.019231  174447.115385  33.634615  58281.250000  -0.062994\n",
       "          Y     1466.438462  179653.846154  35.469231  88252.032520   1.058944\n",
       "S         A     1232.339806  161225.728155  32.029126  35176.767677  -0.165996\n",
       "          N     1370.118388  175771.410579  32.438287  36071.428571  -0.885498\n",
       "          U     1450.565401  175047.468354  34.489451  30325.112108   0.007525\n",
       "          Y     1339.598071  144192.122186  35.993569  39975.328947   0.898503"
      ]
     },
     "execution_count": 9,
     "metadata": {},
     "output_type": "execute_result"
    }
   ],
   "source": [
    "df.groupby(['education', 'vote']).mean()"
   ]
  },
  {
   "cell_type": "raw",
   "metadata": {},
   "source": [
    "If this group by output table is less understandable further analysts use\n",
    "\n",
    "     i) pivot tables & heat maps for visualization on them."
   ]
  },
  {
   "cell_type": "markdown",
   "metadata": {},
   "source": [
    "<h3 style=\"color:blue\" align=\"left\"> c. ANOVA </h3>"
   ]
  },
  {
   "cell_type": "raw",
   "metadata": {},
   "source": [
    "#  ANOVA stands for Analysis of Variance.\n",
    "\n",
    "#  It is performed to figure out the relation between the different group of categorical data.\n",
    "\n",
    "#  Under ANOVA we have two measures as result:\n",
    "\n",
    "     – F-testscore : which shows the variaton of groups mean over variation\n",
    "     \n",
    "     – p-value: it shows the importance of the result\n",
    "     \n",
    "     \n",
    "#  This can be performed using python module scipy method name f_oneway()\n",
    "\n",
    "   Syntax:\n",
    "   \n",
    "      import scipy.stats as st\n",
    "      st.f_oneway(sample1, sample2, ..)\n",
    "      \n",
    "      \n",
    "   These samples are sample measurements for each group.\n",
    "   \n",
    "      As a conclusion, we can say that there is a strong correlation between other variables and a categorical variable if the \n",
    "   \n",
    "      ANOVA test gives us a large F-test value and a small p-value."
   ]
  },
  {
   "cell_type": "code",
   "execution_count": 10,
   "metadata": {},
   "outputs": [],
   "source": [
    "import scipy.stats as st"
   ]
  },
  {
   "cell_type": "raw",
   "metadata": {},
   "source": [
    "st.f_oneway('age', 'income')"
   ]
  },
  {
   "cell_type": "markdown",
   "metadata": {},
   "source": [
    "<h3 style=\"color:blue\" align=\"left\"> d. Correlation and Correlation computation </h3>"
   ]
  },
  {
   "cell_type": "raw",
   "metadata": {},
   "source": [
    "#  Correlation is a simple relationship between two variables in a context such that one variable affects the other.\n",
    "\n",
    "#  One way to calculate correlation among variables is to find Pearson correlation.\n",
    "   \n",
    "   Here we find two parameters namely, Pearson coefficient and p-value.\n",
    "   \n",
    "#  We can say there is a strong correlation between two variables when Pearson correlation coefficient is close to either 1 or \n",
    "\n",
    "   -1 and the p-value is less than 0.0001.\n",
    "   \n",
    "   \n",
    "#  Scipy module also provides a method to perform pearson correlation analysis, syntax\n",
    "\n",
    "          import scipy.stats as st\n",
    "          st.pearsonr(sample1, sample2)"
   ]
  }
 ],
 "metadata": {
  "kernelspec": {
   "display_name": "Python 3",
   "language": "python",
   "name": "python3"
  },
  "language_info": {
   "codemirror_mode": {
    "name": "ipython",
    "version": 3
   },
   "file_extension": ".py",
   "mimetype": "text/x-python",
   "name": "python",
   "nbconvert_exporter": "python",
   "pygments_lexer": "ipython3",
   "version": "3.7.3"
  }
 },
 "nbformat": 4,
 "nbformat_minor": 2
}
