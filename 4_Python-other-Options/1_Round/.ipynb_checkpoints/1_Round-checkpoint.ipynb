{
 "cells": [
  {
   "cell_type": "markdown",
   "metadata": {
    "id": "W-iYide1z9AL"
   },
   "source": [
    "##### **Question 1**"
   ]
  },
  {
   "cell_type": "code",
   "execution_count": null,
   "metadata": {
    "colab": {
     "base_uri": "https://localhost:8080/"
    },
    "id": "dUs_HxWAzpXu",
    "outputId": "ec53a911-7372-4893-f881-253443b3d899"
   },
   "outputs": [
    {
     "data": {
      "text/plain": [
       "5"
      ]
     },
     "execution_count": 48,
     "metadata": {
      "tags": []
     },
     "output_type": "execute_result"
    }
   ],
   "source": [
    "# 4.5 rounds to 4\n",
    "# 4.51 rounds to 5\n",
    "\n",
    "round(4.576)"
   ]
  },
  {
   "cell_type": "markdown",
   "metadata": {
    "id": "dNHVaER40Bxm"
   },
   "source": [
    "##### **Question 2**"
   ]
  },
  {
   "cell_type": "code",
   "execution_count": null,
   "metadata": {
    "colab": {
     "base_uri": "https://localhost:8080/"
    },
    "id": "q-ggdcl_eveL",
    "outputId": "5e6111ff-978c-4ed7-f8b0-1c0d2ee0ed34"
   },
   "outputs": [
    {
     "name": "stdout",
     "output_type": "stream",
     "text": [
      "12\n",
      "12\n",
      "0\n"
     ]
    }
   ],
   "source": [
    "a = round(12.5)\n",
    "b = round(11.5)\n",
    "\n",
    "print(a)\n",
    "print(b)\n",
    "print(a-b)"
   ]
  },
  {
   "cell_type": "markdown",
   "metadata": {
    "id": "E1XHdLZZ0D5_"
   },
   "source": [
    "##### **Question 3**"
   ]
  },
  {
   "cell_type": "code",
   "execution_count": null,
   "metadata": {
    "colab": {
     "base_uri": "https://localhost:8080/"
    },
    "id": "b3r3TKP-ogqA",
    "outputId": "487f5bf8-b8ec-411f-c082-0ae93fa597e7"
   },
   "outputs": [
    {
     "name": "stdout",
     "output_type": "stream",
     "text": [
      "100.134\n"
     ]
    }
   ],
   "source": [
    "a = 100.1342\n",
    "print(round(a, 3))"
   ]
  },
  {
   "cell_type": "markdown",
   "metadata": {
    "id": "GzDpE_nyxv_N"
   },
   "source": [
    "--------------------------------------------------------------------------------"
   ]
  }
 ],
 "metadata": {
  "colab": {
   "collapsed_sections": [],
   "name": "1. Interview_Questions.ipynb",
   "provenance": []
  },
  "kernelspec": {
   "display_name": "Python 3",
   "language": "python",
   "name": "python3"
  },
  "language_info": {
   "codemirror_mode": {
    "name": "ipython",
    "version": 3
   },
   "file_extension": ".py",
   "mimetype": "text/x-python",
   "name": "python",
   "nbconvert_exporter": "python",
   "pygments_lexer": "ipython3",
   "version": "3.7.3"
  }
 },
 "nbformat": 4,
 "nbformat_minor": 1
}
